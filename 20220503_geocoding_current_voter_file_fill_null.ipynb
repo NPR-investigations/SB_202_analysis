{
 "cells": [
  {
   "cell_type": "code",
   "execution_count": 1,
   "id": "bridal-barrier",
   "metadata": {},
   "outputs": [],
   "source": [
    "import pandas as pd\n",
    "import csv\n",
    "import os\n",
    "import requests\n",
    "import urllib3\n",
    "import csv\n",
    "import time\n",
    "import re\n",
    "import numpy as np\n",
    "# from random import randint\n",
    "# from pandas import json_normalize\n",
    "import censusgeocode as cg"
   ]
  },
  {
   "cell_type": "code",
   "execution_count": 2,
   "id": "protective-calculation",
   "metadata": {},
   "outputs": [],
   "source": [
    "os.chdir('C:/Users/jhuo/Documents/20220421_WABE_SB202/')"
   ]
  },
  {
   "cell_type": "code",
   "execution_count": 3,
   "id": "limiting-projection",
   "metadata": {},
   "outputs": [],
   "source": [
    "filename = '2022429_Georgia_Daily_VoterBase/Georgia_Daily_VoterBase.txt'"
   ]
  },
  {
   "cell_type": "code",
   "execution_count": 4,
   "id": "pursuant-steal",
   "metadata": {},
   "outputs": [
    {
     "name": "stderr",
     "output_type": "stream",
     "text": [
      "b'Skipping line 4381787: expected 63 fields, saw 114\\n'\n"
     ]
    }
   ],
   "source": [
    "voter = pd.read_csv(filename, low_memory = False, error_bad_lines=False, sep = '|')"
   ]
  },
  {
   "cell_type": "code",
   "execution_count": 7,
   "id": "packed-newspaper",
   "metadata": {},
   "outputs": [
    {
     "data": {
      "text/plain": [
       "White not of Hispanic Origin         3942041\n",
       "Black not of Hispanic Origin         2231619\n",
       "Unknown                               709314\n",
       "Hispanic                              284592\n",
       "Asian or Pacific Islander             201779\n",
       "Other                                 147733\n",
       "American Indian or Alaskan Native      28235\n",
       "Name: RACE_DESC, dtype: int64"
      ]
     },
     "execution_count": 7,
     "metadata": {},
     "output_type": "execute_result"
    }
   ],
   "source": [
    "voter.RACE_DESC.value_counts()"
   ]
  },
  {
   "cell_type": "code",
   "execution_count": 8,
   "id": "thick-consumer",
   "metadata": {},
   "outputs": [
    {
     "data": {
      "text/plain": [
       "WH    3942041\n",
       "BH    2231619\n",
       "U      709314\n",
       "HP     284592\n",
       "AP     201779\n",
       "OT     147733\n",
       "AI      28235\n",
       "Name: RACE, dtype: int64"
      ]
     },
     "execution_count": 8,
     "metadata": {},
     "output_type": "execute_result"
    }
   ],
   "source": [
    "voter.RACE.value_counts()"
   ]
  },
  {
   "cell_type": "code",
   "execution_count": 5,
   "id": "human-species",
   "metadata": {},
   "outputs": [],
   "source": [
    "# cleaning up addresses\n",
    "voter['RESIDENCE_STATE'] = 'GA'\n",
    "voter['ZIP5'] =  [x[:5] if pd.isna(x) == False else x for x in voter.RESIDENCE_ZIPCODE ]\n",
    "voter = voter.fillna('')\n",
    "# strip whitespaces\n",
    "cols = voter.select_dtypes(object).columns\n",
    "voter[cols] = voter[cols].apply(lambda x: x.str.strip())\n",
    "\n",
    "voter['st_address'] = [x + ' ' + y for (x,y) in zip(voter.RESIDENCE_HOUSE_NUMBER , voter.RESIDENCE_STREET_NAME)]"
   ]
  },
  {
   "cell_type": "code",
   "execution_count": 6,
   "id": "geographic-leone",
   "metadata": {},
   "outputs": [],
   "source": [
    "addresses = voter.iloc[:,[65,12,63,64]].copy().drop_duplicates()"
   ]
  },
  {
   "cell_type": "code",
   "execution_count": 7,
   "id": "pregnant-liability",
   "metadata": {},
   "outputs": [],
   "source": [
    "addresses['onefield'] = [x + ', ' + y + ', ' + z + ', ' + a \n",
    "                         for (x,y,z,a) in \n",
    "                         zip(addresses.st_address,\n",
    "                             addresses.RESIDENCE_CITY,\n",
    "                             addresses.RESIDENCE_STATE,\n",
    "                             addresses.ZIP5)]"
   ]
  },
  {
   "cell_type": "code",
   "execution_count": 8,
   "id": "expected-nightlife",
   "metadata": {},
   "outputs": [
    {
     "data": {
      "text/html": [
       "<div>\n",
       "<style scoped>\n",
       "    .dataframe tbody tr th:only-of-type {\n",
       "        vertical-align: middle;\n",
       "    }\n",
       "\n",
       "    .dataframe tbody tr th {\n",
       "        vertical-align: top;\n",
       "    }\n",
       "\n",
       "    .dataframe thead th {\n",
       "        text-align: right;\n",
       "    }\n",
       "</style>\n",
       "<table border=\"1\" class=\"dataframe\">\n",
       "  <thead>\n",
       "    <tr style=\"text-align: right;\">\n",
       "      <th></th>\n",
       "      <th>st_address</th>\n",
       "      <th>RESIDENCE_CITY</th>\n",
       "      <th>RESIDENCE_STATE</th>\n",
       "      <th>ZIP5</th>\n",
       "      <th>onefield</th>\n",
       "    </tr>\n",
       "  </thead>\n",
       "  <tbody>\n",
       "    <tr>\n",
       "      <th>0</th>\n",
       "      <td>237 MITCHELL RD</td>\n",
       "      <td>MAYSVILLE</td>\n",
       "      <td>GA</td>\n",
       "      <td>30558</td>\n",
       "      <td>237 MITCHELL RD, MAYSVILLE, GA, 30558</td>\n",
       "    </tr>\n",
       "    <tr>\n",
       "      <th>1</th>\n",
       "      <td>467 HICKORY CREEK RD</td>\n",
       "      <td>MAYSVILLE</td>\n",
       "      <td>GA</td>\n",
       "      <td>30558</td>\n",
       "      <td>467 HICKORY CREEK RD, MAYSVILLE, GA, 30558</td>\n",
       "    </tr>\n",
       "    <tr>\n",
       "      <th>2</th>\n",
       "      <td>733 CARSON SEGARS RD</td>\n",
       "      <td>MAYSVILLE</td>\n",
       "      <td>GA</td>\n",
       "      <td>30558</td>\n",
       "      <td>733 CARSON SEGARS RD, MAYSVILLE, GA, 30558</td>\n",
       "    </tr>\n",
       "    <tr>\n",
       "      <th>3</th>\n",
       "      <td>11 W RIDGEWAY RD</td>\n",
       "      <td>MAYSVILLE</td>\n",
       "      <td>GA</td>\n",
       "      <td>30558</td>\n",
       "      <td>11 W RIDGEWAY RD, MAYSVILLE, GA, 30558</td>\n",
       "    </tr>\n",
       "    <tr>\n",
       "      <th>4</th>\n",
       "      <td>262 HIGHWAY 52</td>\n",
       "      <td>MAYSVILLE</td>\n",
       "      <td>GA</td>\n",
       "      <td>30558</td>\n",
       "      <td>262 HIGHWAY 52, MAYSVILLE, GA, 30558</td>\n",
       "    </tr>\n",
       "  </tbody>\n",
       "</table>\n",
       "</div>"
      ],
      "text/plain": [
       "             st_address RESIDENCE_CITY RESIDENCE_STATE   ZIP5  \\\n",
       "0       237 MITCHELL RD      MAYSVILLE              GA  30558   \n",
       "1  467 HICKORY CREEK RD      MAYSVILLE              GA  30558   \n",
       "2  733 CARSON SEGARS RD      MAYSVILLE              GA  30558   \n",
       "3      11 W RIDGEWAY RD      MAYSVILLE              GA  30558   \n",
       "4        262 HIGHWAY 52      MAYSVILLE              GA  30558   \n",
       "\n",
       "                                     onefield  \n",
       "0       237 MITCHELL RD, MAYSVILLE, GA, 30558  \n",
       "1  467 HICKORY CREEK RD, MAYSVILLE, GA, 30558  \n",
       "2  733 CARSON SEGARS RD, MAYSVILLE, GA, 30558  \n",
       "3      11 W RIDGEWAY RD, MAYSVILLE, GA, 30558  \n",
       "4        262 HIGHWAY 52, MAYSVILLE, GA, 30558  "
      ]
     },
     "execution_count": 8,
     "metadata": {},
     "output_type": "execute_result"
    }
   ],
   "source": [
    "addresses.head()"
   ]
  },
  {
   "cell_type": "code",
   "execution_count": 9,
   "id": "korean-ordinance",
   "metadata": {},
   "outputs": [],
   "source": [
    "# checking out how many of these addresses have already been geocoded\n",
    "res = ['geocode_results/' + x for x in os.listdir(os.getcwd() + '/geocode_results/')]"
   ]
  },
  {
   "cell_type": "code",
   "execution_count": 10,
   "id": "geological-thermal",
   "metadata": {},
   "outputs": [],
   "source": [
    "masterresults = pd.DataFrame()\n",
    "censusresults = pd.DataFrame()\n",
    "censusapiresults = pd.DataFrame()"
   ]
  },
  {
   "cell_type": "code",
   "execution_count": 11,
   "id": "greatest-orbit",
   "metadata": {
    "scrolled": true
   },
   "outputs": [],
   "source": [
    "# parse files according to different geocoders\n",
    "for file in res:\n",
    "    # R and python outputs files have headers; inherit them\n",
    "    if (('GeoCode' in file) | ('pythongeocode' in file)):\n",
    "        df = pd.read_csv(file)\n",
    "        masterresults = masterresults.append(df)\n",
    "    # census website outputs do not have headers; add them\n",
    "    if 'GeocodeResults' in file:\n",
    "        try:\n",
    "            df = pd.read_csv(file, names =  ['id', 'address','match','matchtype','parsed','coordinate','tigerlineid','side'])\n",
    "            censusresults = censusresults.append(df)\n",
    "        except Exception:\n",
    "            print (file)\n",
    "            continue\n",
    "    else:\n",
    "        df = pd.read_csv(file)\n",
    "        censusapiresults = censusapiresults.append(df)"
   ]
  },
  {
   "cell_type": "markdown",
   "id": "heard-arrest",
   "metadata": {},
   "source": [
    "since the addresses in the voter files were really clean, the idea is to parse the fields into a one line address that can be joined to all the results without worrying about the various ids"
   ]
  },
  {
   "cell_type": "code",
   "execution_count": 12,
   "id": "exclusive-reliance",
   "metadata": {},
   "outputs": [],
   "source": [
    "masterresults1 = masterresults.copy()"
   ]
  },
  {
   "cell_type": "code",
   "execution_count": 13,
   "id": "abandoned-accident",
   "metadata": {},
   "outputs": [],
   "source": [
    "masterresults1['zip5'] = ['' if pd.isna(x) == True else str(int(x)) for x in masterresults1['zip'] ]\n",
    "\n",
    "masterresults1.address = [b if pd.isna(b) == False else str(x) + ', ' + str(y) + ', ' + str(z) + ', ' + str(a) \n",
    "                         for (x,y,z,a,b) in \n",
    "                         zip(masterresults1.street,\n",
    "                             masterresults1.city,\n",
    "                             masterresults1.state,\n",
    "                             masterresults1.zip5,\n",
    "                            masterresults1.address)]"
   ]
  },
  {
   "cell_type": "code",
   "execution_count": 14,
   "id": "located-double",
   "metadata": {},
   "outputs": [
    {
     "name": "stdout",
     "output_type": "stream",
     "text": [
      "<class 'pandas.core.frame.DataFrame'>\n",
      "Int64Index: 2664245 entries, 0 to 9904\n",
      "Data columns (total 16 columns):\n",
      " #   Column       Dtype  \n",
      "---  ------       -----  \n",
      " 0   Unnamed: 0   int64  \n",
      " 1   id           float64\n",
      " 2   street       object \n",
      " 3   city         object \n",
      " 4   state        object \n",
      " 5   zip          float64\n",
      " 6   lat          float64\n",
      " 7   long         float64\n",
      " 8   address      object \n",
      " 9   match        object \n",
      " 10  matchtype    object \n",
      " 11  parsed       object \n",
      " 12  tigerlineid  float64\n",
      " 13  side         object \n",
      " 14  lon          float64\n",
      " 15  zip5         object \n",
      "dtypes: float64(6), int64(1), object(9)\n",
      "memory usage: 345.6+ MB\n"
     ]
    }
   ],
   "source": [
    "masterresults1.info()"
   ]
  },
  {
   "cell_type": "code",
   "execution_count": 15,
   "id": "necessary-observation",
   "metadata": {},
   "outputs": [],
   "source": [
    "masterresults1.long = [x if pd.isna(x) == False else y for (x,y) in zip(masterresults1.long, masterresults1.lon)]"
   ]
  },
  {
   "cell_type": "code",
   "execution_count": 16,
   "id": "revolutionary-pricing",
   "metadata": {},
   "outputs": [],
   "source": [
    "masterresults1ft = masterresults1[['address','lat','long']].copy()"
   ]
  },
  {
   "cell_type": "markdown",
   "id": "middle-muslim",
   "metadata": {},
   "source": [
    "Parsing Census website batch results"
   ]
  },
  {
   "cell_type": "code",
   "execution_count": 17,
   "id": "diagnostic-possession",
   "metadata": {},
   "outputs": [
    {
     "data": {
      "text/html": [
       "<div>\n",
       "<style scoped>\n",
       "    .dataframe tbody tr th:only-of-type {\n",
       "        vertical-align: middle;\n",
       "    }\n",
       "\n",
       "    .dataframe tbody tr th {\n",
       "        vertical-align: top;\n",
       "    }\n",
       "\n",
       "    .dataframe thead th {\n",
       "        text-align: right;\n",
       "    }\n",
       "</style>\n",
       "<table border=\"1\" class=\"dataframe\">\n",
       "  <thead>\n",
       "    <tr style=\"text-align: right;\">\n",
       "      <th></th>\n",
       "      <th>id</th>\n",
       "      <th>address</th>\n",
       "      <th>match</th>\n",
       "      <th>matchtype</th>\n",
       "      <th>parsed</th>\n",
       "      <th>coordinate</th>\n",
       "      <th>tigerlineid</th>\n",
       "      <th>side</th>\n",
       "    </tr>\n",
       "  </thead>\n",
       "  <tbody>\n",
       "    <tr>\n",
       "      <th>0</th>\n",
       "      <td>133265</td>\n",
       "      <td>1038 CADDENWOODS DR, AUGUSTA, GA, 30906</td>\n",
       "      <td>Match</td>\n",
       "      <td>Exact</td>\n",
       "      <td>1038 CADDENWOODS DR, AUGUSTA, GA, 30906</td>\n",
       "      <td>-82.04344,33.396816</td>\n",
       "      <td>617769247.0</td>\n",
       "      <td>L</td>\n",
       "    </tr>\n",
       "    <tr>\n",
       "      <th>1</th>\n",
       "      <td>134596</td>\n",
       "      <td>156 WINCHESTER DR, LEESBURG, GA, 31763</td>\n",
       "      <td>Match</td>\n",
       "      <td>Exact</td>\n",
       "      <td>156 WINCHESTER DR, LEESBURG, GA, 31763</td>\n",
       "      <td>-84.15729,31.630701</td>\n",
       "      <td>647510725.0</td>\n",
       "      <td>R</td>\n",
       "    </tr>\n",
       "    <tr>\n",
       "      <th>2</th>\n",
       "      <td>133266</td>\n",
       "      <td>606 PAULINE JENKINS ST, WAYNESBORO, GA, 30830</td>\n",
       "      <td>No_Match</td>\n",
       "      <td>NaN</td>\n",
       "      <td>NaN</td>\n",
       "      <td>NaN</td>\n",
       "      <td>NaN</td>\n",
       "      <td>NaN</td>\n",
       "    </tr>\n",
       "    <tr>\n",
       "      <th>3</th>\n",
       "      <td>134597</td>\n",
       "      <td>2826 APRIL DR, AUGUSTA, GA, 30906</td>\n",
       "      <td>Match</td>\n",
       "      <td>Exact</td>\n",
       "      <td>2826 APRIL DR, AUGUSTA, GA, 30906</td>\n",
       "      <td>-82.09449,33.426952</td>\n",
       "      <td>55634892.0</td>\n",
       "      <td>R</td>\n",
       "    </tr>\n",
       "    <tr>\n",
       "      <th>4</th>\n",
       "      <td>134598</td>\n",
       "      <td>829 BURLINGTON DR, AUGUSTA, GA, 30909</td>\n",
       "      <td>Match</td>\n",
       "      <td>Exact</td>\n",
       "      <td>829 BURLINGTON DR, AUGUSTA, GA, 30909</td>\n",
       "      <td>-82.10492,33.449215</td>\n",
       "      <td>651001177.0</td>\n",
       "      <td>R</td>\n",
       "    </tr>\n",
       "  </tbody>\n",
       "</table>\n",
       "</div>"
      ],
      "text/plain": [
       "       id                                        address     match matchtype  \\\n",
       "0  133265        1038 CADDENWOODS DR, AUGUSTA, GA, 30906     Match     Exact   \n",
       "1  134596         156 WINCHESTER DR, LEESBURG, GA, 31763     Match     Exact   \n",
       "2  133266  606 PAULINE JENKINS ST, WAYNESBORO, GA, 30830  No_Match       NaN   \n",
       "3  134597              2826 APRIL DR, AUGUSTA, GA, 30906     Match     Exact   \n",
       "4  134598          829 BURLINGTON DR, AUGUSTA, GA, 30909     Match     Exact   \n",
       "\n",
       "                                    parsed           coordinate  tigerlineid  \\\n",
       "0  1038 CADDENWOODS DR, AUGUSTA, GA, 30906  -82.04344,33.396816  617769247.0   \n",
       "1   156 WINCHESTER DR, LEESBURG, GA, 31763  -84.15729,31.630701  647510725.0   \n",
       "2                                      NaN                  NaN          NaN   \n",
       "3        2826 APRIL DR, AUGUSTA, GA, 30906  -82.09449,33.426952   55634892.0   \n",
       "4    829 BURLINGTON DR, AUGUSTA, GA, 30909  -82.10492,33.449215  651001177.0   \n",
       "\n",
       "  side  \n",
       "0    L  \n",
       "1    R  \n",
       "2  NaN  \n",
       "3    R  \n",
       "4    R  "
      ]
     },
     "execution_count": 17,
     "metadata": {},
     "output_type": "execute_result"
    }
   ],
   "source": [
    "censusresults.head()"
   ]
  },
  {
   "cell_type": "code",
   "execution_count": 18,
   "id": "northern-patent",
   "metadata": {},
   "outputs": [],
   "source": [
    "censusresults['split'] = [x.split(',') if pd.isna(x) == False else [np.nan,np.nan] for x in censusresults['coordinate']]\n",
    "censusresults['lat'] = [x[1] for x in censusresults.split]\n",
    "censusresults['long'] = [x[0] for x in censusresults.split]"
   ]
  },
  {
   "cell_type": "code",
   "execution_count": null,
   "id": "automated-constant",
   "metadata": {},
   "outputs": [],
   "source": []
  },
  {
   "cell_type": "code",
   "execution_count": 19,
   "id": "external-pacific",
   "metadata": {},
   "outputs": [],
   "source": [
    "censusresultsft = censusresults[['parsed','lat','long']].copy()\n",
    "censusresultsft.columns = ['address','lat','long']"
   ]
  },
  {
   "cell_type": "code",
   "execution_count": 20,
   "id": "regional-alfred",
   "metadata": {},
   "outputs": [
    {
     "name": "stdout",
     "output_type": "stream",
     "text": [
      "<class 'pandas.core.frame.DataFrame'>\n",
      "Int64Index: 66577 entries, 2 to 9994\n",
      "Data columns (total 3 columns):\n",
      " #   Column   Non-Null Count  Dtype \n",
      "---  ------   --------------  ----- \n",
      " 0   address  0 non-null      object\n",
      " 1   lat      0 non-null      object\n",
      " 2   long     0 non-null      object\n",
      "dtypes: object(3)\n",
      "memory usage: 2.0+ MB\n"
     ]
    }
   ],
   "source": [
    "censusresultsft[pd.isna(censusresultsft.lat) == True].info()"
   ]
  },
  {
   "cell_type": "code",
   "execution_count": 21,
   "id": "decreased-grammar",
   "metadata": {},
   "outputs": [
    {
     "name": "stdout",
     "output_type": "stream",
     "text": [
      "<class 'pandas.core.frame.DataFrame'>\n",
      "Int64Index: 523258 entries, 0 to 9997\n",
      "Data columns (total 3 columns):\n",
      " #   Column   Non-Null Count   Dtype \n",
      "---  ------   --------------   ----- \n",
      " 0   address  523258 non-null  object\n",
      " 1   lat      523258 non-null  object\n",
      " 2   long     523258 non-null  object\n",
      "dtypes: object(3)\n",
      "memory usage: 16.0+ MB\n"
     ]
    }
   ],
   "source": [
    "censusresultsft[pd.isna(censusresultsft.lat) == False].info()"
   ]
  },
  {
   "cell_type": "markdown",
   "id": "white-times",
   "metadata": {},
   "source": [
    "Parsing census api results"
   ]
  },
  {
   "cell_type": "code",
   "execution_count": 22,
   "id": "canadian-twenty",
   "metadata": {},
   "outputs": [],
   "source": [
    "censusapiresults1 = censusapiresults.copy()"
   ]
  },
  {
   "cell_type": "code",
   "execution_count": 23,
   "id": "republican-storage",
   "metadata": {},
   "outputs": [
    {
     "data": {
      "text/html": [
       "<div>\n",
       "<style scoped>\n",
       "    .dataframe tbody tr th:only-of-type {\n",
       "        vertical-align: middle;\n",
       "    }\n",
       "\n",
       "    .dataframe tbody tr th {\n",
       "        vertical-align: top;\n",
       "    }\n",
       "\n",
       "    .dataframe thead th {\n",
       "        text-align: right;\n",
       "    }\n",
       "</style>\n",
       "<table border=\"1\" class=\"dataframe\">\n",
       "  <thead>\n",
       "    <tr style=\"text-align: right;\">\n",
       "      <th></th>\n",
       "      <th>Unnamed: 0</th>\n",
       "      <th>addressComponents</th>\n",
       "      <th>coordinates</th>\n",
       "      <th>input</th>\n",
       "      <th>matchedAddress</th>\n",
       "      <th>tigerLine</th>\n",
       "      <th>url</th>\n",
       "      <th>id</th>\n",
       "      <th>street</th>\n",
       "      <th>city</th>\n",
       "      <th>...</th>\n",
       "      <th>zip</th>\n",
       "      <th>lat</th>\n",
       "      <th>long</th>\n",
       "      <th>address</th>\n",
       "      <th>match</th>\n",
       "      <th>matchtype</th>\n",
       "      <th>parsed</th>\n",
       "      <th>tigerlineid</th>\n",
       "      <th>side</th>\n",
       "      <th>lon</th>\n",
       "    </tr>\n",
       "  </thead>\n",
       "  <tbody>\n",
       "    <tr>\n",
       "      <th>0</th>\n",
       "      <td>0</td>\n",
       "      <td>{'fromAddress': '399', 'toAddress': '149', 'pr...</td>\n",
       "      <td>{'x': -82.50677, 'y': 33.46766}</td>\n",
       "      <td>305 W HALL ST THOMSON GA 30824</td>\n",
       "      <td>305 W HALL ST, THOMSON, GA, 30824</td>\n",
       "      <td>{'tigerLineId': '43141641', 'side': 'R'}</td>\n",
       "      <td>NaN</td>\n",
       "      <td>NaN</td>\n",
       "      <td>NaN</td>\n",
       "      <td>NaN</td>\n",
       "      <td>...</td>\n",
       "      <td>NaN</td>\n",
       "      <td>NaN</td>\n",
       "      <td>NaN</td>\n",
       "      <td>NaN</td>\n",
       "      <td>NaN</td>\n",
       "      <td>NaN</td>\n",
       "      <td>NaN</td>\n",
       "      <td>NaN</td>\n",
       "      <td>NaN</td>\n",
       "      <td>NaN</td>\n",
       "    </tr>\n",
       "    <tr>\n",
       "      <th>1</th>\n",
       "      <td>1</td>\n",
       "      <td>{'fromAddress': '999', 'toAddress': '1', 'preQ...</td>\n",
       "      <td>{'x': -82.74473, 'y': 33.000156}</td>\n",
       "      <td>239 ARCHER RD SANDERSVILLE GA 31082</td>\n",
       "      <td>239 ARCHER RD, SANDERSVILLE, GA, 31082</td>\n",
       "      <td>{'tigerLineId': '16761454', 'side': 'R'}</td>\n",
       "      <td>NaN</td>\n",
       "      <td>NaN</td>\n",
       "      <td>NaN</td>\n",
       "      <td>NaN</td>\n",
       "      <td>...</td>\n",
       "      <td>NaN</td>\n",
       "      <td>NaN</td>\n",
       "      <td>NaN</td>\n",
       "      <td>NaN</td>\n",
       "      <td>NaN</td>\n",
       "      <td>NaN</td>\n",
       "      <td>NaN</td>\n",
       "      <td>NaN</td>\n",
       "      <td>NaN</td>\n",
       "      <td>NaN</td>\n",
       "    </tr>\n",
       "    <tr>\n",
       "      <th>2</th>\n",
       "      <td>2</td>\n",
       "      <td>{'fromAddress': '2301', 'toAddress': '2599', '...</td>\n",
       "      <td>{'x': -82.47879, 'y': 33.41434}</td>\n",
       "      <td>2445 OLD MILLEDGEVILLE RD THOMSON GA 30824</td>\n",
       "      <td>2445 OLD MILLEDGEVILLE RD, THOMSON, GA, 30824</td>\n",
       "      <td>{'tigerLineId': '43150320', 'side': 'L'}</td>\n",
       "      <td>NaN</td>\n",
       "      <td>NaN</td>\n",
       "      <td>NaN</td>\n",
       "      <td>NaN</td>\n",
       "      <td>...</td>\n",
       "      <td>NaN</td>\n",
       "      <td>NaN</td>\n",
       "      <td>NaN</td>\n",
       "      <td>NaN</td>\n",
       "      <td>NaN</td>\n",
       "      <td>NaN</td>\n",
       "      <td>NaN</td>\n",
       "      <td>NaN</td>\n",
       "      <td>NaN</td>\n",
       "      <td>NaN</td>\n",
       "    </tr>\n",
       "    <tr>\n",
       "      <th>3</th>\n",
       "      <td>3</td>\n",
       "      <td>{'fromAddress': '3662', 'toAddress': '3016', '...</td>\n",
       "      <td>{'x': -82.445885, 'y': 33.41531}</td>\n",
       "      <td>3244 WIRE RD DEARING GA 30808</td>\n",
       "      <td>3244 WIRE RD, DEARING, GA, 30808</td>\n",
       "      <td>{'tigerLineId': '43147978', 'side': 'L'}</td>\n",
       "      <td>NaN</td>\n",
       "      <td>NaN</td>\n",
       "      <td>NaN</td>\n",
       "      <td>NaN</td>\n",
       "      <td>...</td>\n",
       "      <td>NaN</td>\n",
       "      <td>NaN</td>\n",
       "      <td>NaN</td>\n",
       "      <td>NaN</td>\n",
       "      <td>NaN</td>\n",
       "      <td>NaN</td>\n",
       "      <td>NaN</td>\n",
       "      <td>NaN</td>\n",
       "      <td>NaN</td>\n",
       "      <td>NaN</td>\n",
       "    </tr>\n",
       "    <tr>\n",
       "      <th>4</th>\n",
       "      <td>4</td>\n",
       "      <td>{'fromAddress': '1000', 'toAddress': '1098', '...</td>\n",
       "      <td>{'x': -82.544075, 'y': 33.493362}</td>\n",
       "      <td>1064 TANYARD CREEK DR THOMSON GA 30824</td>\n",
       "      <td>1064 TANYARD CREEK DR, THOMSON, GA, 30824</td>\n",
       "      <td>{'tigerLineId': '43157559', 'side': 'L'}</td>\n",
       "      <td>NaN</td>\n",
       "      <td>NaN</td>\n",
       "      <td>NaN</td>\n",
       "      <td>NaN</td>\n",
       "      <td>...</td>\n",
       "      <td>NaN</td>\n",
       "      <td>NaN</td>\n",
       "      <td>NaN</td>\n",
       "      <td>NaN</td>\n",
       "      <td>NaN</td>\n",
       "      <td>NaN</td>\n",
       "      <td>NaN</td>\n",
       "      <td>NaN</td>\n",
       "      <td>NaN</td>\n",
       "      <td>NaN</td>\n",
       "    </tr>\n",
       "  </tbody>\n",
       "</table>\n",
       "<p>5 rows × 21 columns</p>\n",
       "</div>"
      ],
      "text/plain": [
       "   Unnamed: 0                                  addressComponents  \\\n",
       "0           0  {'fromAddress': '399', 'toAddress': '149', 'pr...   \n",
       "1           1  {'fromAddress': '999', 'toAddress': '1', 'preQ...   \n",
       "2           2  {'fromAddress': '2301', 'toAddress': '2599', '...   \n",
       "3           3  {'fromAddress': '3662', 'toAddress': '3016', '...   \n",
       "4           4  {'fromAddress': '1000', 'toAddress': '1098', '...   \n",
       "\n",
       "                         coordinates  \\\n",
       "0    {'x': -82.50677, 'y': 33.46766}   \n",
       "1   {'x': -82.74473, 'y': 33.000156}   \n",
       "2    {'x': -82.47879, 'y': 33.41434}   \n",
       "3   {'x': -82.445885, 'y': 33.41531}   \n",
       "4  {'x': -82.544075, 'y': 33.493362}   \n",
       "\n",
       "                                        input  \\\n",
       "0              305 W HALL ST THOMSON GA 30824   \n",
       "1         239 ARCHER RD SANDERSVILLE GA 31082   \n",
       "2  2445 OLD MILLEDGEVILLE RD THOMSON GA 30824   \n",
       "3               3244 WIRE RD DEARING GA 30808   \n",
       "4      1064 TANYARD CREEK DR THOMSON GA 30824   \n",
       "\n",
       "                                  matchedAddress  \\\n",
       "0              305 W HALL ST, THOMSON, GA, 30824   \n",
       "1         239 ARCHER RD, SANDERSVILLE, GA, 31082   \n",
       "2  2445 OLD MILLEDGEVILLE RD, THOMSON, GA, 30824   \n",
       "3               3244 WIRE RD, DEARING, GA, 30808   \n",
       "4      1064 TANYARD CREEK DR, THOMSON, GA, 30824   \n",
       "\n",
       "                                  tigerLine  url  id street city  ... zip  \\\n",
       "0  {'tigerLineId': '43141641', 'side': 'R'}  NaN NaN    NaN  NaN  ... NaN   \n",
       "1  {'tigerLineId': '16761454', 'side': 'R'}  NaN NaN    NaN  NaN  ... NaN   \n",
       "2  {'tigerLineId': '43150320', 'side': 'L'}  NaN NaN    NaN  NaN  ... NaN   \n",
       "3  {'tigerLineId': '43147978', 'side': 'L'}  NaN NaN    NaN  NaN  ... NaN   \n",
       "4  {'tigerLineId': '43157559', 'side': 'L'}  NaN NaN    NaN  NaN  ... NaN   \n",
       "\n",
       "   lat  long  address match matchtype parsed tigerlineid  side lon  \n",
       "0  NaN   NaN      NaN   NaN       NaN    NaN         NaN   NaN NaN  \n",
       "1  NaN   NaN      NaN   NaN       NaN    NaN         NaN   NaN NaN  \n",
       "2  NaN   NaN      NaN   NaN       NaN    NaN         NaN   NaN NaN  \n",
       "3  NaN   NaN      NaN   NaN       NaN    NaN         NaN   NaN NaN  \n",
       "4  NaN   NaN      NaN   NaN       NaN    NaN         NaN   NaN NaN  \n",
       "\n",
       "[5 rows x 21 columns]"
      ]
     },
     "execution_count": 23,
     "metadata": {},
     "output_type": "execute_result"
    }
   ],
   "source": [
    "censusapiresults1.head()"
   ]
  },
  {
   "cell_type": "code",
   "execution_count": 24,
   "id": "significant-shaft",
   "metadata": {},
   "outputs": [
    {
     "name": "stdout",
     "output_type": "stream",
     "text": [
      "<class 'pandas.core.frame.DataFrame'>\n",
      "Int64Index: 2669111 entries, 48 to 9904\n",
      "Data columns (total 21 columns):\n",
      " #   Column             Dtype  \n",
      "---  ------             -----  \n",
      " 0   Unnamed: 0         int64  \n",
      " 1   addressComponents  object \n",
      " 2   coordinates        object \n",
      " 3   input              object \n",
      " 4   matchedAddress     object \n",
      " 5   tigerLine          object \n",
      " 6   url                object \n",
      " 7   id                 float64\n",
      " 8   street             object \n",
      " 9   city               object \n",
      " 10  state              object \n",
      " 11  zip                float64\n",
      " 12  lat                float64\n",
      " 13  long               float64\n",
      " 14  address            object \n",
      " 15  match              object \n",
      " 16  matchtype          object \n",
      " 17  parsed             object \n",
      " 18  tigerlineid        float64\n",
      " 19  side               object \n",
      " 20  lon                float64\n",
      "dtypes: float64(6), int64(1), object(14)\n",
      "memory usage: 448.0+ MB\n"
     ]
    }
   ],
   "source": [
    "censusapiresults1[pd.isna(censusapiresults1.coordinates) == True].info()"
   ]
  },
  {
   "cell_type": "raw",
   "id": "prostate-italy",
   "metadata": {},
   "source": [
    "censusapiresults1 = censusapiresults1[pd.isna(censusapiresults1.coordinates) == False]"
   ]
  },
  {
   "cell_type": "code",
   "execution_count": 25,
   "id": "baking-minority",
   "metadata": {},
   "outputs": [],
   "source": [
    "censusapiresults1['lat'] = [x.split(':')[2].split('}')[0] if pd.isna(x) == False else '' for x in censusapiresults1.coordinates]\n",
    "censusapiresults1['long'] = [x.split(':')[1].split(',')[0] if pd.isna(x) == False else '' for x in censusapiresults1.coordinates]\n",
    "censusapiresults1.lat = censusapiresults1.lat.str.strip()\n",
    "censusapiresults1.long = censusapiresults1.long.str.strip()\n",
    "censusapiresults1 = censusapiresults1.drop('coordinates', axis = 1)"
   ]
  },
  {
   "cell_type": "code",
   "execution_count": 26,
   "id": "downtown-centre",
   "metadata": {},
   "outputs": [],
   "source": [
    "censusapiresults1ft = censusapiresults1[['matchedAddress','lat','long']].copy()\n",
    "censusapiresults1ft.columns = ['address','lat','long']"
   ]
  },
  {
   "cell_type": "code",
   "execution_count": 27,
   "id": "impaired-harvey",
   "metadata": {},
   "outputs": [
    {
     "name": "stdout",
     "output_type": "stream",
     "text": [
      "<class 'pandas.core.frame.DataFrame'>\n",
      "Int64Index: 2669111 entries, 48 to 9904\n",
      "Data columns (total 3 columns):\n",
      " #   Column   Dtype \n",
      "---  ------   ----- \n",
      " 0   address  object\n",
      " 1   lat      object\n",
      " 2   long     object\n",
      "dtypes: object(3)\n",
      "memory usage: 81.5+ MB\n"
     ]
    }
   ],
   "source": [
    "censusapiresults1ft[censusapiresults1ft.lat== ''].info()"
   ]
  },
  {
   "cell_type": "code",
   "execution_count": 28,
   "id": "original-grove",
   "metadata": {},
   "outputs": [],
   "source": [
    "censusapiresults1ft = censusapiresults1ft.replace(r'^\\s*$', np.nan, regex=True)"
   ]
  },
  {
   "cell_type": "code",
   "execution_count": 29,
   "id": "matched-comparative",
   "metadata": {},
   "outputs": [
    {
     "name": "stdout",
     "output_type": "stream",
     "text": [
      "<class 'pandas.core.frame.DataFrame'>\n",
      "Int64Index: 2669111 entries, 48 to 9904\n",
      "Data columns (total 3 columns):\n",
      " #   Column   Dtype \n",
      "---  ------   ----- \n",
      " 0   address  object\n",
      " 1   lat      object\n",
      " 2   long     object\n",
      "dtypes: object(3)\n",
      "memory usage: 81.5+ MB\n"
     ]
    }
   ],
   "source": [
    "censusapiresults1ft[pd.isna(censusapiresults1ft.lat) == True].info()"
   ]
  },
  {
   "cell_type": "code",
   "execution_count": 30,
   "id": "instrumental-infection",
   "metadata": {},
   "outputs": [],
   "source": [
    "allcensusresults = pd.concat([censusapiresults1ft,censusresultsft,masterresults1ft]).drop_duplicates()"
   ]
  },
  {
   "cell_type": "code",
   "execution_count": 31,
   "id": "disturbed-witch",
   "metadata": {},
   "outputs": [],
   "source": [
    "allcensusresults1 = allcensusresults.copy()"
   ]
  },
  {
   "cell_type": "code",
   "execution_count": 32,
   "id": "behind-stomach",
   "metadata": {},
   "outputs": [],
   "source": [
    "allcensusresults1.lat = allcensusresults1.lat.astype('float')\n",
    "allcensusresults1.long = allcensusresults1.long.astype('float')"
   ]
  },
  {
   "cell_type": "code",
   "execution_count": 33,
   "id": "thirty-writer",
   "metadata": {},
   "outputs": [],
   "source": [
    "# round to 6 decimals \n",
    "allcensusresults1.lat = [round(x,6) for x in allcensusresults1.lat]\n",
    "allcensusresults1.long = [round(x,6) for x in allcensusresults1.long]"
   ]
  },
  {
   "cell_type": "code",
   "execution_count": 34,
   "id": "initial-barrel",
   "metadata": {},
   "outputs": [],
   "source": [
    "allcensusresults1 = allcensusresults1.drop_duplicates()"
   ]
  },
  {
   "cell_type": "code",
   "execution_count": 35,
   "id": "imposed-gauge",
   "metadata": {},
   "outputs": [],
   "source": [
    "# naildown one lat long coordinate for each address. A possible reason is difference benchmarking.\n",
    "allcensusresultscnt = pd.DataFrame(allcensusresults1.groupby('address')['lat'].max())"
   ]
  },
  {
   "cell_type": "code",
   "execution_count": 36,
   "id": "sealed-capital",
   "metadata": {
    "scrolled": true
   },
   "outputs": [],
   "source": [
    "allcensusresultscnt['keep'] = True"
   ]
  },
  {
   "cell_type": "code",
   "execution_count": 37,
   "id": "chicken-korea",
   "metadata": {},
   "outputs": [],
   "source": [
    "allcensusresultscnt = allcensusresultscnt.reset_index()"
   ]
  },
  {
   "cell_type": "code",
   "execution_count": 38,
   "id": "blind-consumer",
   "metadata": {},
   "outputs": [],
   "source": [
    "allcensusresults2 = pd.merge(allcensusresults1, allcensusresultscnt, on = ['address','lat'], how = 'left')"
   ]
  },
  {
   "cell_type": "code",
   "execution_count": 39,
   "id": "inner-ceremony",
   "metadata": {},
   "outputs": [],
   "source": [
    "allcensusresults3 = allcensusresults2[allcensusresults2.keep == True].copy()"
   ]
  },
  {
   "cell_type": "code",
   "execution_count": 40,
   "id": "prospective-glory",
   "metadata": {},
   "outputs": [],
   "source": [
    "allcensusresults3 = allcensusresults3.drop('keep', axis = 1)"
   ]
  },
  {
   "cell_type": "markdown",
   "id": "elect-rolling",
   "metadata": {},
   "source": [
    "merging all geocoding results with the new voter file"
   ]
  },
  {
   "cell_type": "code",
   "execution_count": 41,
   "id": "arabic-canyon",
   "metadata": {},
   "outputs": [],
   "source": [
    "addressesmerge = pd.merge(addresses, allcensusresults3, left_on = 'onefield', right_on = 'address', how = 'outer')"
   ]
  },
  {
   "cell_type": "code",
   "execution_count": 42,
   "id": "intense-liberty",
   "metadata": {},
   "outputs": [
    {
     "name": "stdout",
     "output_type": "stream",
     "text": [
      "<class 'pandas.core.frame.DataFrame'>\n",
      "Int64Index: 3407559 entries, 0 to 3407558\n",
      "Data columns (total 8 columns):\n",
      " #   Column           Dtype  \n",
      "---  ------           -----  \n",
      " 0   st_address       object \n",
      " 1   RESIDENCE_CITY   object \n",
      " 2   RESIDENCE_STATE  object \n",
      " 3   ZIP5             object \n",
      " 4   onefield         object \n",
      " 5   address          object \n",
      " 6   lat              float64\n",
      " 7   long             float64\n",
      "dtypes: float64(2), object(6)\n",
      "memory usage: 234.0+ MB\n"
     ]
    }
   ],
   "source": [
    "addressesmerge.info()"
   ]
  },
  {
   "cell_type": "code",
   "execution_count": 43,
   "id": "affiliated-notice",
   "metadata": {
    "scrolled": true
   },
   "outputs": [
    {
     "name": "stdout",
     "output_type": "stream",
     "text": [
      "<class 'pandas.core.frame.DataFrame'>\n",
      "Int64Index: 3059343 entries, 0 to 3201659\n",
      "Data columns (total 8 columns):\n",
      " #   Column           Dtype  \n",
      "---  ------           -----  \n",
      " 0   st_address       object \n",
      " 1   RESIDENCE_CITY   object \n",
      " 2   RESIDENCE_STATE  object \n",
      " 3   ZIP5             object \n",
      " 4   onefield         object \n",
      " 5   address          object \n",
      " 6   lat              float64\n",
      " 7   long             float64\n",
      "dtypes: float64(2), object(6)\n",
      "memory usage: 210.1+ MB\n"
     ]
    }
   ],
   "source": [
    "# over three million matched.\n",
    "addressesmerge[(pd.isna(addressesmerge.onefield) == False) & (pd.isna(addressesmerge.address) == False)].info()"
   ]
  },
  {
   "cell_type": "code",
   "execution_count": 44,
   "id": "portuguese-guatemala",
   "metadata": {
    "scrolled": true
   },
   "outputs": [
    {
     "name": "stdout",
     "output_type": "stream",
     "text": [
      "<class 'pandas.core.frame.DataFrame'>\n",
      "Int64Index: 142317 entries, 6 to 3201574\n",
      "Data columns (total 8 columns):\n",
      " #   Column           Non-Null Count   Dtype  \n",
      "---  ------           --------------   -----  \n",
      " 0   st_address       142317 non-null  object \n",
      " 1   RESIDENCE_CITY   142317 non-null  object \n",
      " 2   RESIDENCE_STATE  142317 non-null  object \n",
      " 3   ZIP5             142317 non-null  object \n",
      " 4   onefield         142317 non-null  object \n",
      " 5   address          0 non-null       object \n",
      " 6   lat              0 non-null       float64\n",
      " 7   long             0 non-null       float64\n",
      "dtypes: float64(2), object(6)\n",
      "memory usage: 9.8+ MB\n"
     ]
    }
   ],
   "source": [
    "# 142317 in the new voter file don't have a result. looking into to see if any are due to join failures\n",
    "addressesmerge[(pd.isna(addressesmerge.onefield) == False) & (pd.isna(addressesmerge.address) == True)].info()"
   ]
  },
  {
   "cell_type": "code",
   "execution_count": 45,
   "id": "overall-seller",
   "metadata": {},
   "outputs": [
    {
     "data": {
      "text/plain": [
       "0.044451003541912636"
      ]
     },
     "execution_count": 45,
     "metadata": {},
     "output_type": "execute_result"
    }
   ],
   "source": [
    "# that's pretty impressive match rate actually\n",
    "len(addressesmerge[(pd.isna(addressesmerge.onefield) == False) & (pd.isna(addressesmerge.address) == True)])/len(addressesmerge[(pd.isna(addressesmerge.onefield) == False)])"
   ]
  },
  {
   "cell_type": "code",
   "execution_count": 46,
   "id": "surprising-leeds",
   "metadata": {},
   "outputs": [
    {
     "name": "stdout",
     "output_type": "stream",
     "text": [
      "<class 'pandas.core.frame.DataFrame'>\n",
      "Int64Index: 1859 entries, 3326 to 3196435\n",
      "Data columns (total 8 columns):\n",
      " #   Column           Non-Null Count  Dtype  \n",
      "---  ------           --------------  -----  \n",
      " 0   st_address       1859 non-null   object \n",
      " 1   RESIDENCE_CITY   1859 non-null   object \n",
      " 2   RESIDENCE_STATE  1859 non-null   object \n",
      " 3   ZIP5             1859 non-null   object \n",
      " 4   onefield         1859 non-null   object \n",
      " 5   address          517 non-null    object \n",
      " 6   lat              0 non-null      float64\n",
      " 7   long             0 non-null      float64\n",
      "dtypes: float64(2), object(6)\n",
      "memory usage: 130.7+ KB\n"
     ]
    }
   ],
   "source": [
    "# about 2,000 is \"missing address\"\n",
    "addressesmerge[ (pd.isna(addressesmerge.onefield) == False) & (addressesmerge.onefield.str.contains('missing addr',case = False)) ].info()"
   ]
  },
  {
   "cell_type": "code",
   "execution_count": 47,
   "id": "original-population",
   "metadata": {
    "scrolled": true
   },
   "outputs": [
    {
     "name": "stdout",
     "output_type": "stream",
     "text": [
      "<class 'pandas.core.frame.DataFrame'>\n",
      "Int64Index: 3201660 entries, 0 to 3201659\n",
      "Data columns (total 8 columns):\n",
      " #   Column           Dtype  \n",
      "---  ------           -----  \n",
      " 0   st_address       object \n",
      " 1   RESIDENCE_CITY   object \n",
      " 2   RESIDENCE_STATE  object \n",
      " 3   ZIP5             object \n",
      " 4   onefield         object \n",
      " 5   address          object \n",
      " 6   lat              float64\n",
      " 7   long             float64\n",
      "dtypes: float64(2), object(6)\n",
      "memory usage: 219.8+ MB\n"
     ]
    }
   ],
   "source": [
    "addressesmerge[(pd.isna(addressesmerge.onefield) == False)].info()"
   ]
  },
  {
   "cell_type": "code",
   "execution_count": 48,
   "id": "suburban-killing",
   "metadata": {},
   "outputs": [
    {
     "name": "stdout",
     "output_type": "stream",
     "text": [
      "<class 'pandas.core.frame.DataFrame'>\n",
      "Int64Index: 3405700 entries, 0 to 3407558\n",
      "Data columns (total 8 columns):\n",
      " #   Column           Dtype  \n",
      "---  ------           -----  \n",
      " 0   st_address       object \n",
      " 1   RESIDENCE_CITY   object \n",
      " 2   RESIDENCE_STATE  object \n",
      " 3   ZIP5             object \n",
      " 4   onefield         object \n",
      " 5   address          object \n",
      " 6   lat              float64\n",
      " 7   long             float64\n",
      "dtypes: float64(2), object(6)\n",
      "memory usage: 233.9+ MB\n"
     ]
    }
   ],
   "source": [
    "# THIS SUBSET ISN'T WORKING BUT NVM\n",
    "addressesmerge[ ~((addressesmerge.onefield.str.contains('MISSING ADDR', case = False)) | (pd.isna(addressesmerge.onefield) == True))].info()"
   ]
  },
  {
   "cell_type": "code",
   "execution_count": 49,
   "id": "independent-comparison",
   "metadata": {},
   "outputs": [],
   "source": [
    "addressesmerge[(pd.isna(addressesmerge.onefield) == False) & (pd.isna(addressesmerge.address) == True)][['st_address','RESIDENCE_CITY','RESIDENCE_STATE','ZIP5']].iloc[:2490,:].to_csv('20220503_tamu_geocoding_batch1.csv')"
   ]
  },
  {
   "cell_type": "code",
   "execution_count": 50,
   "id": "possible-notion",
   "metadata": {},
   "outputs": [],
   "source": [
    "addressesmerge[(pd.isna(addressesmerge.onefield) == False) & (pd.isna(addressesmerge.address) == True)][['st_address','RESIDENCE_CITY','RESIDENCE_STATE','ZIP5']].iloc[:2490,:].to_csv('20220503_tamu_geocoding_batch1.csv')"
   ]
  },
  {
   "cell_type": "raw",
   "id": "miniature-ordinance",
   "metadata": {},
   "source": [
    "addressesmerge[(pd.isna(addressesmerge.onefield) == False)].to_csv('20220503_new_voter_file_addresses.csv')"
   ]
  },
  {
   "cell_type": "code",
   "execution_count": null,
   "id": "intermediate-spice",
   "metadata": {},
   "outputs": [],
   "source": []
  }
 ],
 "metadata": {
  "kernelspec": {
   "display_name": "Python 3",
   "language": "python",
   "name": "python3"
  },
  "language_info": {
   "codemirror_mode": {
    "name": "ipython",
    "version": 3
   },
   "file_extension": ".py",
   "mimetype": "text/x-python",
   "name": "python",
   "nbconvert_exporter": "python",
   "pygments_lexer": "ipython3",
   "version": "3.6.12"
  }
 },
 "nbformat": 4,
 "nbformat_minor": 5
}
