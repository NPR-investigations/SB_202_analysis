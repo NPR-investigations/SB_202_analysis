{
 "cells": [
  {
   "cell_type": "code",
   "execution_count": 5,
   "id": "binary-fishing",
   "metadata": {},
   "outputs": [],
   "source": [
    "import pandas as pd\n",
    "import csv\n",
    "import os\n",
    "import requests\n",
    "import urllib3\n",
    "import csv\n",
    "import time\n",
    "import re\n",
    "import numpy as np\n",
    "# from random import randint\n",
    "# from pandas import json_normalize\n",
    "import censusgeocode as cg"
   ]
  },
  {
   "cell_type": "code",
   "execution_count": 6,
   "id": "final-subcommittee",
   "metadata": {},
   "outputs": [],
   "source": [
    "import geopandas as gpd\n",
    "from shapely.geometry import Polygon\n",
    "from shapely.geometry import shape\n",
    "from datetime import datetime"
   ]
  },
  {
   "cell_type": "code",
   "execution_count": 7,
   "id": "smoking-tourism",
   "metadata": {},
   "outputs": [],
   "source": [
    "os.chdir('C:/Users/jhuo/Documents/20220421_WABE_SB202/')\n"
   ]
  },
  {
   "cell_type": "code",
   "execution_count": 8,
   "id": "swedish-height",
   "metadata": {},
   "outputs": [
    {
     "name": "stderr",
     "output_type": "stream",
     "text": [
      "b'Skipping line 4381787: expected 63 fields, saw 114\\n'\n"
     ]
    }
   ],
   "source": [
    "filename = '2022429_Georgia_Daily_VoterBase/Georgia_Daily_VoterBase.txt'\n",
    "voter = pd.read_csv(filename, low_memory = False, error_bad_lines=False, sep = '|')\n",
    "# cleaning up addresses\n",
    "voter['RESIDENCE_STATE'] = 'GA'\n",
    "voter['ZIP5'] =  [x[:5] if pd.isna(x) == False else x for x in voter.RESIDENCE_ZIPCODE ]\n",
    "voter = voter.fillna('')\n",
    "# strip whitespaces\n",
    "cols = voter.select_dtypes(object).columns\n",
    "voter[cols] = voter[cols].apply(lambda x: x.str.strip())\n",
    "\n",
    "voter['st_address'] = [x + ' ' + y for (x,y) in zip(voter.RESIDENCE_HOUSE_NUMBER , voter.RESIDENCE_STREET_NAME)]\n",
    "voter['onefield'] = [x + ', ' + y + ', ' + z + ', ' + a \n",
    "                         for (x,y,z,a) in \n",
    "                         zip(voter.st_address,\n",
    "                             voter.RESIDENCE_CITY,\n",
    "                             voter.RESIDENCE_STATE,\n",
    "                             voter.ZIP5)]"
   ]
  },
  {
   "cell_type": "code",
   "execution_count": 9,
   "id": "involved-integral",
   "metadata": {},
   "outputs": [
    {
     "data": {
      "text/plain": [
       "1.0"
      ]
     },
     "execution_count": 9,
     "metadata": {},
     "output_type": "execute_result"
    }
   ],
   "source": [
    "# the race data is very complete - no null values\n",
    "voter.RACE.value_counts().sum()/len(voter)"
   ]
  },
  {
   "cell_type": "code",
   "execution_count": 10,
   "id": "living-belgium",
   "metadata": {},
   "outputs": [
    {
     "data": {
      "text/plain": [
       "White not of Hispanic Origin         3942041\n",
       "Black not of Hispanic Origin         2231619\n",
       "Unknown                               709314\n",
       "Hispanic                              284592\n",
       "Asian or Pacific Islander             201779\n",
       "Other                                 147733\n",
       "American Indian or Alaskan Native      28235\n",
       "Name: RACE_DESC, dtype: int64"
      ]
     },
     "execution_count": 10,
     "metadata": {},
     "output_type": "execute_result"
    }
   ],
   "source": [
    "# but there's also 709314 unknowns and 147733 others, which is about 11%\n",
    "voter.RACE_DESC.value_counts()"
   ]
  },
  {
   "cell_type": "code",
   "execution_count": 11,
   "id": "nonprofit-recognition",
   "metadata": {},
   "outputs": [
    {
     "data": {
      "text/plain": [
       "White not of Hispanic Origin         52.244897\n",
       "Black not of Hispanic Origin         29.576228\n",
       "Unknown                               9.400723\n",
       "Hispanic                              3.771772\n",
       "Asian or Pacific Islander             2.674230\n",
       "Other                                 1.957944\n",
       "American Indian or Alaskan Native     0.374206\n",
       "Name: RACE_DESC, dtype: float64"
      ]
     },
     "execution_count": 11,
     "metadata": {},
     "output_type": "execute_result"
    }
   ],
   "source": [
    "voter.RACE_DESC.value_counts()/len(voter)*100"
   ]
  },
  {
   "cell_type": "code",
   "execution_count": 12,
   "id": "weekly-elimination",
   "metadata": {},
   "outputs": [],
   "source": [
    "# matching up the geocoding results\n",
    "addr1 = pd.read_csv('20220503_new_voter_file_addresses.csv', low_memory = False)"
   ]
  },
  {
   "cell_type": "code",
   "execution_count": 18,
   "id": "purple-anaheim",
   "metadata": {},
   "outputs": [],
   "source": [
    "# some of the addresses didn't geocode but they didn't show up as null in the spreadsheet until now.\n",
    "addrnull = addr1[pd.isna(addr1.lat) == True].copy()"
   ]
  },
  {
   "cell_type": "code",
   "execution_count": 19,
   "id": "weekly-adventure",
   "metadata": {
    "scrolled": true
   },
   "outputs": [
    {
     "name": "stdout",
     "output_type": "stream",
     "text": [
      "<class 'pandas.core.frame.DataFrame'>\n",
      "Int64Index: 392511 entries, 4 to 3201658\n",
      "Data columns (total 9 columns):\n",
      " #   Column           Non-Null Count   Dtype  \n",
      "---  ------           --------------   -----  \n",
      " 0   Unnamed: 0       392511 non-null  int64  \n",
      " 1   st_address       392511 non-null  object \n",
      " 2   RESIDENCE_CITY   390751 non-null  object \n",
      " 3   RESIDENCE_STATE  392511 non-null  object \n",
      " 4   ZIP5             390889 non-null  object \n",
      " 5   onefield         392511 non-null  object \n",
      " 6   address          250194 non-null  object \n",
      " 7   lat              0 non-null       float64\n",
      " 8   long             0 non-null       float64\n",
      "dtypes: float64(2), int64(1), object(6)\n",
      "memory usage: 29.9+ MB\n"
     ]
    }
   ],
   "source": [
    "addrnull.info()"
   ]
  },
  {
   "cell_type": "code",
   "execution_count": 20,
   "id": "sorted-strengthening",
   "metadata": {},
   "outputs": [],
   "source": [
    "addr2 = pd.read_excel('c20220504_voter_geocode_arcgis_TableToExcel.xlsx')"
   ]
  },
  {
   "cell_type": "code",
   "execution_count": 21,
   "id": "unlike-characterization",
   "metadata": {},
   "outputs": [],
   "source": [
    "addr2_1 = addr2[['st_address','RESIDENCE_CITY','RESIDENCE_STATE','ZIP5','Y','X']].copy().drop_duplicates()"
   ]
  },
  {
   "cell_type": "code",
   "execution_count": 22,
   "id": "canadian-digest",
   "metadata": {},
   "outputs": [],
   "source": [
    "addr2_1 = addr2_1.rename(columns={'Y':'lat','X':'long'})"
   ]
  },
  {
   "cell_type": "code",
   "execution_count": 23,
   "id": "remarkable-tanzania",
   "metadata": {},
   "outputs": [],
   "source": [
    "addr2_2 = addr2_1[addr2_1.lat != 0].copy()"
   ]
  },
  {
   "cell_type": "code",
   "execution_count": 24,
   "id": "recreational-macintosh",
   "metadata": {
    "scrolled": true
   },
   "outputs": [],
   "source": [
    "addr2_2.ZIP5 = addr2_2.ZIP5.astype('str')"
   ]
  },
  {
   "cell_type": "code",
   "execution_count": 25,
   "id": "another-fruit",
   "metadata": {},
   "outputs": [],
   "source": [
    "addrnull1 = pd.merge(addrnull,addr2_2, on = ['st_address','RESIDENCE_CITY','RESIDENCE_STATE','ZIP5'], how = 'left')"
   ]
  },
  {
   "cell_type": "code",
   "execution_count": 26,
   "id": "single-roots",
   "metadata": {},
   "outputs": [],
   "source": [
    "arc_round_2 = addrnull1[pd.isna(addrnull1.lat_y) == True][['st_address','RESIDENCE_CITY','RESIDENCE_STATE','ZIP5']].drop_duplicates()"
   ]
  },
  {
   "cell_type": "code",
   "execution_count": 27,
   "id": "israeli-justice",
   "metadata": {},
   "outputs": [
    {
     "name": "stdout",
     "output_type": "stream",
     "text": [
      "<class 'pandas.core.frame.DataFrame'>\n",
      "Int64Index: 256830 entries, 0 to 392510\n",
      "Data columns (total 4 columns):\n",
      " #   Column           Non-Null Count   Dtype \n",
      "---  ------           --------------   ----- \n",
      " 0   st_address       256830 non-null  object\n",
      " 1   RESIDENCE_CITY   255070 non-null  object\n",
      " 2   RESIDENCE_STATE  256830 non-null  object\n",
      " 3   ZIP5             255208 non-null  object\n",
      "dtypes: object(4)\n",
      "memory usage: 9.8+ MB\n"
     ]
    }
   ],
   "source": [
    "arc_round_2.info()"
   ]
  },
  {
   "cell_type": "raw",
   "id": "motivated-painting",
   "metadata": {},
   "source": [
    "arc_round_2.to_csv('20220512_voter_address_to_arc_round_2.csv')"
   ]
  },
  {
   "cell_type": "code",
   "execution_count": 28,
   "id": "voluntary-installation",
   "metadata": {},
   "outputs": [],
   "source": [
    "addr1_1 = addr1[pd.isna(addr1.lat) == False].copy()"
   ]
  },
  {
   "cell_type": "code",
   "execution_count": 29,
   "id": "rapid-value",
   "metadata": {},
   "outputs": [],
   "source": [
    "del addr1"
   ]
  },
  {
   "cell_type": "code",
   "execution_count": 30,
   "id": "contained-puppy",
   "metadata": {},
   "outputs": [],
   "source": [
    "del addr2\n",
    "del addr2_1"
   ]
  },
  {
   "cell_type": "code",
   "execution_count": 31,
   "id": "solar-paris",
   "metadata": {},
   "outputs": [],
   "source": [
    "addr3 = pd.read_excel('c20220512_voter_address_r2_TableToExcel.xlsx')"
   ]
  },
  {
   "cell_type": "code",
   "execution_count": 32,
   "id": "eight-homeless",
   "metadata": {},
   "outputs": [],
   "source": [
    "addr3_1 = addr3[['USER_st_address','USER_RESIDENCE_CITY','USER_RESIDENCE_STATE','USER_ZIP5','Y','X']].copy().drop_duplicates()\n",
    "addr3_1 = addr3_1.rename(columns={'Y':'lat','X':'long'})"
   ]
  },
  {
   "cell_type": "code",
   "execution_count": 33,
   "id": "catholic-knight",
   "metadata": {},
   "outputs": [],
   "source": [
    "addr3_1.columns = addr3_1.columns.str.replace('USER_','')"
   ]
  },
  {
   "cell_type": "code",
   "execution_count": 34,
   "id": "chief-puppy",
   "metadata": {},
   "outputs": [
    {
     "name": "stdout",
     "output_type": "stream",
     "text": [
      "<class 'pandas.core.frame.DataFrame'>\n",
      "Int64Index: 9237 entries, 150 to 256822\n",
      "Data columns (total 6 columns):\n",
      " #   Column           Non-Null Count  Dtype  \n",
      "---  ------           --------------  -----  \n",
      " 0   st_address       9237 non-null   object \n",
      " 1   RESIDENCE_CITY   7481 non-null   object \n",
      " 2   RESIDENCE_STATE  9237 non-null   object \n",
      " 3   ZIP5             9237 non-null   float64\n",
      " 4   lat              9237 non-null   float64\n",
      " 5   long             9237 non-null   float64\n",
      "dtypes: float64(3), object(3)\n",
      "memory usage: 505.1+ KB\n"
     ]
    }
   ],
   "source": [
    "addr3_1[addr3_1.lat == 0].info()"
   ]
  },
  {
   "cell_type": "code",
   "execution_count": 35,
   "id": "strong-resistance",
   "metadata": {},
   "outputs": [],
   "source": [
    "addr3_2 = addr3_1[addr3_1.lat != 0].copy().drop_duplicates()"
   ]
  },
  {
   "cell_type": "code",
   "execution_count": 36,
   "id": "middle-simpson",
   "metadata": {},
   "outputs": [],
   "source": [
    "addr3_2.ZIP5 = np.round(addr3_2.ZIP5,0)"
   ]
  },
  {
   "cell_type": "code",
   "execution_count": 37,
   "id": "insured-bermuda",
   "metadata": {},
   "outputs": [],
   "source": [
    "addr3_2.ZIP5 = addr3_2.ZIP5.astype('str')"
   ]
  },
  {
   "cell_type": "code",
   "execution_count": 38,
   "id": "adapted-strip",
   "metadata": {},
   "outputs": [],
   "source": [
    "addr3_2.ZIP5 = [x[:5] for x in addr3_2.ZIP5]"
   ]
  },
  {
   "cell_type": "code",
   "execution_count": 39,
   "id": "ethical-signal",
   "metadata": {},
   "outputs": [
    {
     "data": {
      "text/html": [
       "<div>\n",
       "<style scoped>\n",
       "    .dataframe tbody tr th:only-of-type {\n",
       "        vertical-align: middle;\n",
       "    }\n",
       "\n",
       "    .dataframe tbody tr th {\n",
       "        vertical-align: top;\n",
       "    }\n",
       "\n",
       "    .dataframe thead th {\n",
       "        text-align: right;\n",
       "    }\n",
       "</style>\n",
       "<table border=\"1\" class=\"dataframe\">\n",
       "  <thead>\n",
       "    <tr style=\"text-align: right;\">\n",
       "      <th></th>\n",
       "      <th>st_address</th>\n",
       "      <th>RESIDENCE_CITY</th>\n",
       "      <th>RESIDENCE_STATE</th>\n",
       "      <th>ZIP5</th>\n",
       "      <th>lat</th>\n",
       "      <th>long</th>\n",
       "    </tr>\n",
       "  </thead>\n",
       "  <tbody>\n",
       "    <tr>\n",
       "      <th>0</th>\n",
       "      <td>262 HIGHWAY 52</td>\n",
       "      <td>MAYSVILLE</td>\n",
       "      <td>GA</td>\n",
       "      <td>30558</td>\n",
       "      <td>34.261142</td>\n",
       "      <td>-83.575232</td>\n",
       "    </tr>\n",
       "    <tr>\n",
       "      <th>1</th>\n",
       "      <td>297 WILBANKS RD</td>\n",
       "      <td>TOCCOA</td>\n",
       "      <td>GA</td>\n",
       "      <td>30577</td>\n",
       "      <td>34.469818</td>\n",
       "      <td>-83.417127</td>\n",
       "    </tr>\n",
       "    <tr>\n",
       "      <th>2</th>\n",
       "      <td>223 ED REED RD</td>\n",
       "      <td>LULA</td>\n",
       "      <td>GA</td>\n",
       "      <td>30554</td>\n",
       "      <td>34.380524</td>\n",
       "      <td>-83.544025</td>\n",
       "    </tr>\n",
       "    <tr>\n",
       "      <th>3</th>\n",
       "      <td>6068 OLD HIGHWAY 441 N</td>\n",
       "      <td>BALDWIN</td>\n",
       "      <td>GA</td>\n",
       "      <td>30511</td>\n",
       "      <td>34.466205</td>\n",
       "      <td>-83.516968</td>\n",
       "    </tr>\n",
       "    <tr>\n",
       "      <th>4</th>\n",
       "      <td>250 SKYVIEW CIR</td>\n",
       "      <td>CLARKESVILLE</td>\n",
       "      <td>GA</td>\n",
       "      <td>30523</td>\n",
       "      <td>34.637657</td>\n",
       "      <td>-83.617786</td>\n",
       "    </tr>\n",
       "  </tbody>\n",
       "</table>\n",
       "</div>"
      ],
      "text/plain": [
       "               st_address RESIDENCE_CITY RESIDENCE_STATE   ZIP5        lat  \\\n",
       "0          262 HIGHWAY 52      MAYSVILLE              GA  30558  34.261142   \n",
       "1         297 WILBANKS RD         TOCCOA              GA  30577  34.469818   \n",
       "2          223 ED REED RD           LULA              GA  30554  34.380524   \n",
       "3  6068 OLD HIGHWAY 441 N        BALDWIN              GA  30511  34.466205   \n",
       "4         250 SKYVIEW CIR   CLARKESVILLE              GA  30523  34.637657   \n",
       "\n",
       "        long  \n",
       "0 -83.575232  \n",
       "1 -83.417127  \n",
       "2 -83.544025  \n",
       "3 -83.516968  \n",
       "4 -83.617786  "
      ]
     },
     "execution_count": 39,
     "metadata": {},
     "output_type": "execute_result"
    }
   ],
   "source": [
    "addr3_2.head()"
   ]
  },
  {
   "cell_type": "code",
   "execution_count": 40,
   "id": "injured-washer",
   "metadata": {},
   "outputs": [],
   "source": [
    "del addr3"
   ]
  },
  {
   "cell_type": "code",
   "execution_count": 41,
   "id": "unique-teacher",
   "metadata": {},
   "outputs": [],
   "source": [
    "del addr3_1"
   ]
  },
  {
   "cell_type": "code",
   "execution_count": 42,
   "id": "chubby-endorsement",
   "metadata": {},
   "outputs": [],
   "source": [
    "alladdr = pd.concat([addr1_1,addr2_2,addr3_2])"
   ]
  },
  {
   "cell_type": "code",
   "execution_count": 43,
   "id": "korean-class",
   "metadata": {},
   "outputs": [],
   "source": [
    "alladdr = alladdr.drop(['Unnamed: 0','onefield','address'], axis = 1)"
   ]
  },
  {
   "cell_type": "code",
   "execution_count": 44,
   "id": "compliant-apparatus",
   "metadata": {},
   "outputs": [],
   "source": [
    "for col in alladdr.select_dtypes(include='object').columns:\n",
    "    alladdr[col] = [str(x) for x in alladdr[col]]\n",
    "    alladdr[col] = alladdr[col].str.strip()"
   ]
  },
  {
   "cell_type": "code",
   "execution_count": 45,
   "id": "stretch-proof",
   "metadata": {
    "scrolled": true
   },
   "outputs": [
    {
     "name": "stdout",
     "output_type": "stream",
     "text": [
      "<class 'pandas.core.frame.DataFrame'>\n",
      "Int64Index: 3192425 entries, 0 to 256829\n",
      "Data columns (total 6 columns):\n",
      " #   Column           Dtype  \n",
      "---  ------           -----  \n",
      " 0   st_address       object \n",
      " 1   RESIDENCE_CITY   object \n",
      " 2   RESIDENCE_STATE  object \n",
      " 3   ZIP5             object \n",
      " 4   lat              float64\n",
      " 5   long             float64\n",
      "dtypes: float64(2), object(4)\n",
      "memory usage: 170.5+ MB\n"
     ]
    }
   ],
   "source": [
    "alladdr.info()"
   ]
  },
  {
   "cell_type": "markdown",
   "id": "center-orleans",
   "metadata": {},
   "source": [
    "deconflict address "
   ]
  },
  {
   "cell_type": "code",
   "execution_count": 46,
   "id": "exempt-problem",
   "metadata": {},
   "outputs": [],
   "source": [
    "checkdup = pd.DataFrame(alladdr.groupby(['st_address','RESIDENCE_CITY','RESIDENCE_STATE','ZIP5']).long.count())"
   ]
  },
  {
   "cell_type": "code",
   "execution_count": 51,
   "id": "numeric-reference",
   "metadata": {},
   "outputs": [
    {
     "name": "stdout",
     "output_type": "stream",
     "text": [
      "number of addresses that have more than one set of coordinates\n"
     ]
    },
    {
     "data": {
      "text/plain": [
       "1534"
      ]
     },
     "execution_count": 51,
     "metadata": {},
     "output_type": "execute_result"
    }
   ],
   "source": [
    "print('number of addresses that have more than one set of coordinates')\n",
    "len(checkdup[checkdup.long !=1])"
   ]
  },
  {
   "cell_type": "markdown",
   "id": "removable-coffee",
   "metadata": {},
   "source": [
    "deconflicting rule - pick the maximum longitude"
   ]
  },
  {
   "cell_type": "code",
   "execution_count": 52,
   "id": "guilty-symbol",
   "metadata": {},
   "outputs": [],
   "source": [
    "longmax = pd.DataFrame(alladdr.groupby(['st_address','RESIDENCE_CITY','RESIDENCE_STATE','ZIP5']).long.max())"
   ]
  },
  {
   "cell_type": "code",
   "execution_count": 56,
   "id": "electronic-behavior",
   "metadata": {},
   "outputs": [
    {
     "data": {
      "text/plain": [
       "-1534"
      ]
     },
     "execution_count": 56,
     "metadata": {},
     "output_type": "execute_result"
    }
   ],
   "source": [
    "len(longmax) - len(alladdr)"
   ]
  },
  {
   "cell_type": "code",
   "execution_count": 57,
   "id": "nasty-appearance",
   "metadata": {},
   "outputs": [],
   "source": [
    "longmax['keep'] = True"
   ]
  },
  {
   "cell_type": "code",
   "execution_count": 58,
   "id": "wound-minnesota",
   "metadata": {},
   "outputs": [],
   "source": [
    "longmax = longmax.reset_index()"
   ]
  },
  {
   "cell_type": "code",
   "execution_count": 61,
   "id": "wired-agent",
   "metadata": {},
   "outputs": [],
   "source": [
    "alladdr1 = pd.merge(alladdr, longmax, on = ['st_address','RESIDENCE_CITY','RESIDENCE_STATE','ZIP5','long'], how = 'left' )"
   ]
  },
  {
   "cell_type": "code",
   "execution_count": 64,
   "id": "naughty-latest",
   "metadata": {},
   "outputs": [
    {
     "data": {
      "text/plain": [
       "-1534"
      ]
     },
     "execution_count": 64,
     "metadata": {},
     "output_type": "execute_result"
    }
   ],
   "source": [
    "len(alladdr1[alladdr1.keep == True])- len(alladdr1)"
   ]
  },
  {
   "cell_type": "code",
   "execution_count": 65,
   "id": "normal-cisco",
   "metadata": {},
   "outputs": [],
   "source": [
    "alladdr2 = alladdr1[alladdr1.keep == True].copy().drop('keep', axis = 1)"
   ]
  },
  {
   "cell_type": "code",
   "execution_count": 66,
   "id": "cleared-geometry",
   "metadata": {},
   "outputs": [
    {
     "data": {
      "text/html": [
       "<div>\n",
       "<style scoped>\n",
       "    .dataframe tbody tr th:only-of-type {\n",
       "        vertical-align: middle;\n",
       "    }\n",
       "\n",
       "    .dataframe tbody tr th {\n",
       "        vertical-align: top;\n",
       "    }\n",
       "\n",
       "    .dataframe thead th {\n",
       "        text-align: right;\n",
       "    }\n",
       "</style>\n",
       "<table border=\"1\" class=\"dataframe\">\n",
       "  <thead>\n",
       "    <tr style=\"text-align: right;\">\n",
       "      <th></th>\n",
       "      <th>st_address</th>\n",
       "      <th>RESIDENCE_CITY</th>\n",
       "      <th>RESIDENCE_STATE</th>\n",
       "      <th>ZIP5</th>\n",
       "      <th>lat</th>\n",
       "      <th>long</th>\n",
       "    </tr>\n",
       "  </thead>\n",
       "  <tbody>\n",
       "    <tr>\n",
       "      <th>0</th>\n",
       "      <td>237 MITCHELL RD</td>\n",
       "      <td>MAYSVILLE</td>\n",
       "      <td>GA</td>\n",
       "      <td>30558</td>\n",
       "      <td>34.267868</td>\n",
       "      <td>-83.562004</td>\n",
       "    </tr>\n",
       "    <tr>\n",
       "      <th>1</th>\n",
       "      <td>467 HICKORY CREEK RD</td>\n",
       "      <td>MAYSVILLE</td>\n",
       "      <td>GA</td>\n",
       "      <td>30558</td>\n",
       "      <td>34.308254</td>\n",
       "      <td>-83.548330</td>\n",
       "    </tr>\n",
       "    <tr>\n",
       "      <th>2</th>\n",
       "      <td>733 CARSON SEGARS RD</td>\n",
       "      <td>MAYSVILLE</td>\n",
       "      <td>GA</td>\n",
       "      <td>30558</td>\n",
       "      <td>34.295063</td>\n",
       "      <td>-83.550200</td>\n",
       "    </tr>\n",
       "    <tr>\n",
       "      <th>3</th>\n",
       "      <td>11 W RIDGEWAY RD</td>\n",
       "      <td>MAYSVILLE</td>\n",
       "      <td>GA</td>\n",
       "      <td>30558</td>\n",
       "      <td>34.257618</td>\n",
       "      <td>-83.548480</td>\n",
       "    </tr>\n",
       "    <tr>\n",
       "      <th>4</th>\n",
       "      <td>61 HOMER ST</td>\n",
       "      <td>MAYSVILLE</td>\n",
       "      <td>GA</td>\n",
       "      <td>30558</td>\n",
       "      <td>34.261340</td>\n",
       "      <td>-83.559350</td>\n",
       "    </tr>\n",
       "  </tbody>\n",
       "</table>\n",
       "</div>"
      ],
      "text/plain": [
       "             st_address RESIDENCE_CITY RESIDENCE_STATE   ZIP5        lat  \\\n",
       "0       237 MITCHELL RD      MAYSVILLE              GA  30558  34.267868   \n",
       "1  467 HICKORY CREEK RD      MAYSVILLE              GA  30558  34.308254   \n",
       "2  733 CARSON SEGARS RD      MAYSVILLE              GA  30558  34.295063   \n",
       "3      11 W RIDGEWAY RD      MAYSVILLE              GA  30558  34.257618   \n",
       "4           61 HOMER ST      MAYSVILLE              GA  30558  34.261340   \n",
       "\n",
       "        long  \n",
       "0 -83.562004  \n",
       "1 -83.548330  \n",
       "2 -83.550200  \n",
       "3 -83.548480  \n",
       "4 -83.559350  "
      ]
     },
     "execution_count": 66,
     "metadata": {},
     "output_type": "execute_result"
    }
   ],
   "source": [
    "alladdr2.head()"
   ]
  },
  {
   "cell_type": "code",
   "execution_count": 67,
   "id": "sensitive-clear",
   "metadata": {},
   "outputs": [],
   "source": [
    "alladdr = alladdr2.copy()"
   ]
  },
  {
   "cell_type": "code",
   "execution_count": 68,
   "id": "starting-forward",
   "metadata": {},
   "outputs": [],
   "source": [
    "voterdemo = voter[['REGISTRATION_NUMBER','BIRTHDATE','RACE','st_address','RESIDENCE_CITY','RESIDENCE_STATE','ZIP5']].copy().drop_duplicates()"
   ]
  },
  {
   "cell_type": "code",
   "execution_count": 69,
   "id": "incoming-envelope",
   "metadata": {},
   "outputs": [],
   "source": [
    "for col in voterdemo.select_dtypes(include='object').columns:\n",
    "    voterdemo[col] = voterdemo[col].astype('str')\n",
    "    voterdemo[col] = voterdemo[col].str.strip()"
   ]
  },
  {
   "cell_type": "code",
   "execution_count": 70,
   "id": "prompt-beatles",
   "metadata": {},
   "outputs": [],
   "source": [
    "del voter"
   ]
  },
  {
   "cell_type": "code",
   "execution_count": 71,
   "id": "expressed-implementation",
   "metadata": {},
   "outputs": [],
   "source": [
    "voter1 = pd.merge(voterdemo, alladdr, on = ['st_address','RESIDENCE_CITY','RESIDENCE_STATE','ZIP5'], how = 'left')"
   ]
  },
  {
   "cell_type": "code",
   "execution_count": 73,
   "id": "great-nerve",
   "metadata": {},
   "outputs": [
    {
     "data": {
      "text/plain": [
       "1.0"
      ]
     },
     "execution_count": 73,
     "metadata": {},
     "output_type": "execute_result"
    }
   ],
   "source": [
    "len(voter1.REGISTRATION_NUMBER.unique())/len(voter1)"
   ]
  },
  {
   "cell_type": "raw",
   "id": "acting-michigan",
   "metadata": {
    "scrolled": false
   },
   "source": [
    "# about 7 percent of voters don't have a lat long\n",
    "len(voter1[pd.isna(voter1.lat) == True])/len(voter1)"
   ]
  },
  {
   "cell_type": "code",
   "execution_count": 74,
   "id": "healthy-science",
   "metadata": {},
   "outputs": [],
   "source": [
    "voter1.to_csv('20220516_voter_race_location.csv')"
   ]
  },
  {
   "cell_type": "code",
   "execution_count": null,
   "id": "ceramic-gibson",
   "metadata": {},
   "outputs": [],
   "source": []
  }
 ],
 "metadata": {
  "kernelspec": {
   "display_name": "Python 3",
   "language": "python",
   "name": "python3"
  },
  "language_info": {
   "codemirror_mode": {
    "name": "ipython",
    "version": 3
   },
   "file_extension": ".py",
   "mimetype": "text/x-python",
   "name": "python",
   "nbconvert_exporter": "python",
   "pygments_lexer": "ipython3",
   "version": "3.6.12"
  }
 },
 "nbformat": 4,
 "nbformat_minor": 5
}
