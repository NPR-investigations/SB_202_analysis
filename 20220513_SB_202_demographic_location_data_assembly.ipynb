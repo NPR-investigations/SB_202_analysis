{
 "cells": [
  {
   "cell_type": "code",
   "execution_count": 1,
   "id": "agricultural-bristol",
   "metadata": {},
   "outputs": [],
   "source": [
    "import pandas as pd\n",
    "import csv\n",
    "import os\n",
    "import requests\n",
    "import urllib3\n",
    "import csv\n",
    "import time\n",
    "import re\n",
    "import numpy as np\n",
    "# from random import randint\n",
    "# from pandas import json_normalize\n",
    "import censusgeocode as cg\n",
    "import geopandas as gpd\n",
    "from shapely.geometry import Polygon\n",
    "from shapely.geometry import shape\n",
    "from datetime import datetime"
   ]
  },
  {
   "cell_type": "code",
   "execution_count": 2,
   "id": "fleet-indonesia",
   "metadata": {},
   "outputs": [],
   "source": [
    "# os.chdir('C:/Users/jhuo/Documents/20220421_WABE_SB202/')"
   ]
  },
  {
   "cell_type": "markdown",
   "id": "lightweight-domestic",
   "metadata": {},
   "source": [
    "load voter data"
   ]
  },
  {
   "cell_type": "code",
   "execution_count": 3,
   "id": "classical-family",
   "metadata": {},
   "outputs": [],
   "source": [
    "# voter = pd.read_csv('20220512_voter_race_location.csv', low_memory = False)\n",
    "voter = pd.read_csv('20220516_voter_race_location.csv', low_memory = False)"
   ]
  },
  {
   "cell_type": "code",
   "execution_count": 4,
   "id": "conventional-happening",
   "metadata": {},
   "outputs": [],
   "source": [
    "voter1 = voter[pd.isna(voter.lat) == False].copy()"
   ]
  },
  {
   "cell_type": "code",
   "execution_count": 5,
   "id": "noted-extraction",
   "metadata": {},
   "outputs": [
    {
     "data": {
      "text/plain": [
       "0.9977798137731331"
      ]
     },
     "execution_count": 5,
     "metadata": {},
     "output_type": "execute_result"
    }
   ],
   "source": [
    "len(voter1)/len(voter)"
   ]
  },
  {
   "cell_type": "code",
   "execution_count": 6,
   "id": "animated-cherry",
   "metadata": {},
   "outputs": [],
   "source": [
    "addresses = voter1.iloc[:,[4,5,6,7,8,9]].copy().drop_duplicates()\n",
    "addressesgdf = gpd.GeoDataFrame(addresses, geometry=gpd.points_from_xy(addresses['long'], addresses['lat']))\n",
    "addressesgdf.crs = 'EPSG:4326'"
   ]
  },
  {
   "cell_type": "code",
   "execution_count": 7,
   "id": "parental-emerald",
   "metadata": {},
   "outputs": [],
   "source": [
    "del voter\n",
    "del voter1"
   ]
  },
  {
   "cell_type": "markdown",
   "id": "dedicated-spank",
   "metadata": {},
   "source": [
    "load isochrones"
   ]
  },
  {
   "cell_type": "code",
   "execution_count": 8,
   "id": "thirty-mouse",
   "metadata": {},
   "outputs": [],
   "source": [
    "# drivingchrones = gpd.read_file('20220623_driving_isochrones.shp')\n",
    "drivingchrones = gpd.read_file('20220627-driving1.shp')\n",
    "transitchrones = gpd.read_file('20220623_transit_isochrones_2.shp')\n",
    "drivingchrones.lat = np.round(drivingchrones.lat,6)\n",
    "drivingchrones.long = np.round(drivingchrones.long,6)\n",
    "transitchrones.lat = transitchrones.lat.astype('float')\n",
    "transitchrones.long = transitchrones.long.astype('float')"
   ]
  },
  {
   "cell_type": "code",
   "execution_count": 9,
   "id": "selective-folder",
   "metadata": {},
   "outputs": [],
   "source": [
    "inyear = transitchrones[['in_2022','in_2021','in_nov_202','lat','long']].copy().drop_duplicates()"
   ]
  },
  {
   "cell_type": "raw",
   "id": "eb0e6572",
   "metadata": {},
   "source": [
    "drivingchrones1 = pd.merge(drivingchrones,inyear, on = ['lat','long'], how = 'left')"
   ]
  },
  {
   "cell_type": "raw",
   "id": "8ba0cd06",
   "metadata": {
    "scrolled": true
   },
   "source": [
    "drivingchrones1[(pd.isna(drivingchrones1.in_2022) == True) & (pd.isna(drivingchrones1.in_2021) == True) & (pd.isna(drivingchrones1.in_nov_202) == True)]"
   ]
  },
  {
   "cell_type": "code",
   "execution_count": 10,
   "id": "collectible-essex",
   "metadata": {},
   "outputs": [
    {
     "data": {
      "text/html": [
       "<div>\n",
       "<style scoped>\n",
       "    .dataframe tbody tr th:only-of-type {\n",
       "        vertical-align: middle;\n",
       "    }\n",
       "\n",
       "    .dataframe tbody tr th {\n",
       "        vertical-align: top;\n",
       "    }\n",
       "\n",
       "    .dataframe thead th {\n",
       "        text-align: right;\n",
       "    }\n",
       "</style>\n",
       "<table border=\"1\" class=\"dataframe\">\n",
       "  <thead>\n",
       "    <tr style=\"text-align: right;\">\n",
       "      <th></th>\n",
       "      <th>travel_tim</th>\n",
       "      <th>lat</th>\n",
       "      <th>long</th>\n",
       "      <th>GEOID</th>\n",
       "      <th>in_2022</th>\n",
       "      <th>in_nov_202</th>\n",
       "      <th>geometry</th>\n",
       "    </tr>\n",
       "  </thead>\n",
       "  <tbody>\n",
       "    <tr>\n",
       "      <th>0</th>\n",
       "      <td>300</td>\n",
       "      <td>34.915487</td>\n",
       "      <td>-85.106602</td>\n",
       "      <td>13047</td>\n",
       "      <td>1</td>\n",
       "      <td>1</td>\n",
       "      <td>POLYGON ((-85.10147 34.92004, -85.10284 34.920...</td>\n",
       "    </tr>\n",
       "    <tr>\n",
       "      <th>1</th>\n",
       "      <td>600</td>\n",
       "      <td>34.915487</td>\n",
       "      <td>-85.106602</td>\n",
       "      <td>13047</td>\n",
       "      <td>1</td>\n",
       "      <td>1</td>\n",
       "      <td>MULTIPOLYGON (((-85.10789 34.98658, -85.10713 ...</td>\n",
       "    </tr>\n",
       "    <tr>\n",
       "      <th>2</th>\n",
       "      <td>900</td>\n",
       "      <td>34.915487</td>\n",
       "      <td>-85.106602</td>\n",
       "      <td>13047</td>\n",
       "      <td>1</td>\n",
       "      <td>1</td>\n",
       "      <td>MULTIPOLYGON (((-85.22371 34.98556, -85.22355 ...</td>\n",
       "    </tr>\n",
       "    <tr>\n",
       "      <th>3</th>\n",
       "      <td>1200</td>\n",
       "      <td>34.915487</td>\n",
       "      <td>-85.106602</td>\n",
       "      <td>13047</td>\n",
       "      <td>1</td>\n",
       "      <td>1</td>\n",
       "      <td>POLYGON ((-84.97980 34.98292, -84.97978 34.981...</td>\n",
       "    </tr>\n",
       "    <tr>\n",
       "      <th>4</th>\n",
       "      <td>1500</td>\n",
       "      <td>34.915487</td>\n",
       "      <td>-85.106602</td>\n",
       "      <td>13047</td>\n",
       "      <td>1</td>\n",
       "      <td>1</td>\n",
       "      <td>POLYGON ((-85.14537 34.76766, -85.14644 34.767...</td>\n",
       "    </tr>\n",
       "  </tbody>\n",
       "</table>\n",
       "</div>"
      ],
      "text/plain": [
       "   travel_tim        lat       long  GEOID in_2022 in_nov_202  \\\n",
       "0         300  34.915487 -85.106602  13047       1          1   \n",
       "1         600  34.915487 -85.106602  13047       1          1   \n",
       "2         900  34.915487 -85.106602  13047       1          1   \n",
       "3        1200  34.915487 -85.106602  13047       1          1   \n",
       "4        1500  34.915487 -85.106602  13047       1          1   \n",
       "\n",
       "                                            geometry  \n",
       "0  POLYGON ((-85.10147 34.92004, -85.10284 34.920...  \n",
       "1  MULTIPOLYGON (((-85.10789 34.98658, -85.10713 ...  \n",
       "2  MULTIPOLYGON (((-85.22371 34.98556, -85.22355 ...  \n",
       "3  POLYGON ((-84.97980 34.98292, -84.97978 34.981...  \n",
       "4  POLYGON ((-85.14537 34.76766, -85.14644 34.767...  "
      ]
     },
     "execution_count": 10,
     "metadata": {},
     "output_type": "execute_result"
    }
   ],
   "source": [
    "drivingchrones.head()"
   ]
  },
  {
   "cell_type": "code",
   "execution_count": 11,
   "id": "australian-jersey",
   "metadata": {},
   "outputs": [],
   "source": [
    "drivingvoterjoin = gpd.sjoin(addressesgdf,drivingchrones, how = 'left')"
   ]
  },
  {
   "cell_type": "code",
   "execution_count": 12,
   "id": "suffering-watershed",
   "metadata": {},
   "outputs": [],
   "source": [
    "drivingvoterjoin1 = drivingvoterjoin.drop('geometry', axis = 1)"
   ]
  },
  {
   "cell_type": "code",
   "execution_count": 13,
   "id": "loved-senegal",
   "metadata": {},
   "outputs": [],
   "source": [
    "drivingvoterjoin2 =drivingvoterjoin1.drop_duplicates()"
   ]
  },
  {
   "cell_type": "code",
   "execution_count": 14,
   "id": "advanced-income",
   "metadata": {},
   "outputs": [
    {
     "name": "stdout",
     "output_type": "stream",
     "text": [
      "<class 'pandas.core.frame.DataFrame'>\n",
      "Int64Index: 79168676 entries, 0 to 7545312\n",
      "Data columns (total 13 columns):\n",
      " #   Column           Dtype  \n",
      "---  ------           -----  \n",
      " 0   st_address       object \n",
      " 1   RESIDENCE_CITY   object \n",
      " 2   RESIDENCE_STATE  object \n",
      " 3   ZIP5             object \n",
      " 4   lat_left         float64\n",
      " 5   long_left        float64\n",
      " 6   index_right      float64\n",
      " 7   travel_tim       float64\n",
      " 8   lat_right        float64\n",
      " 9   long_right       float64\n",
      " 10  GEOID            object \n",
      " 11  in_2022          object \n",
      " 12  in_nov_202       object \n",
      "dtypes: float64(6), object(7)\n",
      "memory usage: 8.3+ GB\n"
     ]
    }
   ],
   "source": [
    "drivingvoterjoin2.info()"
   ]
  },
  {
   "cell_type": "code",
   "execution_count": 15,
   "id": "editorial-therapist",
   "metadata": {},
   "outputs": [],
   "source": [
    "drivingvoterjoin2.to_csv('20220627_voter_address_driving_isochrone_join.csv')"
   ]
  },
  {
   "cell_type": "raw",
   "id": "representative-wholesale",
   "metadata": {},
   "source": [
    "drivingvoterjoin.to_csv('20220515_voter_address_driving_isochrone_join.csv')"
   ]
  },
  {
   "cell_type": "raw",
   "id": "elder-cheese",
   "metadata": {},
   "source": [
    "# running a simple spatial join of all voters with driving isochrones run out of memory - so trying to trim it down. From ArcGIS mapping we can see that most counties are covered by 30 minute isochrones. So filtering that out\n",
    "drivingchrones2 = drivingchrones1[drivingchrones1.travel_tim != 1800].copy()"
   ]
  },
  {
   "cell_type": "raw",
   "id": "optical-possession",
   "metadata": {
    "scrolled": true
   },
   "source": [
    "len(votergdf.ZIP5.unique())"
   ]
  },
  {
   "cell_type": "code",
   "execution_count": 16,
   "id": "lined-border",
   "metadata": {},
   "outputs": [],
   "source": [
    "del drivingchrones\n",
    "# del drivingchrones1"
   ]
  },
  {
   "cell_type": "code",
   "execution_count": 17,
   "id": "raising-mineral",
   "metadata": {},
   "outputs": [
    {
     "name": "stderr",
     "output_type": "stream",
     "text": [
      "/Users/knakajima/opt/anaconda3/envs/geo_env_dropbox_2/lib/python3.7/site-packages/ipykernel_launcher.py:1: UserWarning: CRS mismatch between the CRS of left geometries and the CRS of right geometries.\n",
      "Use `to_crs()` to reproject one of the input geometries to match the CRS of the other.\n",
      "\n",
      "Left CRS: EPSG:4326\n",
      "Right CRS: None\n",
      "\n",
      "  \"\"\"Entry point for launching an IPython kernel.\n"
     ]
    }
   ],
   "source": [
    "transitjoin = gpd.sjoin(addressesgdf, transitchrones, how = 'left')"
   ]
  },
  {
   "cell_type": "code",
   "execution_count": 18,
   "id": "rental-villa",
   "metadata": {},
   "outputs": [],
   "source": [
    "transitjoin1 = transitjoin.drop('geometry', axis = 1)"
   ]
  },
  {
   "cell_type": "code",
   "execution_count": 19,
   "id": "sharp-turning",
   "metadata": {},
   "outputs": [],
   "source": [
    "transitjoin1.to_csv('20220627_voter_addr_transitchrone_join.csv')"
   ]
  },
  {
   "cell_type": "markdown",
   "id": "scientific-creek",
   "metadata": {},
   "source": [
    "joining addresses with geographies"
   ]
  },
  {
   "cell_type": "code",
   "execution_count": 20,
   "id": "entitled-discipline",
   "metadata": {},
   "outputs": [],
   "source": [
    "urban = gpd.read_file('tl_2021_us_uac10/tl_2021_us_uac10.shp')\n",
    "GA = urban[urban.NAME10.str.contains('GA')].copy()"
   ]
  },
  {
   "cell_type": "code",
   "execution_count": 21,
   "id": "eleven-spoke",
   "metadata": {},
   "outputs": [],
   "source": [
    "GAurban = GA[['geometry']].copy().reset_index()"
   ]
  },
  {
   "cell_type": "code",
   "execution_count": 22,
   "id": "acting-volleyball",
   "metadata": {},
   "outputs": [],
   "source": [
    "GAurban['urban'] = True"
   ]
  },
  {
   "cell_type": "code",
   "execution_count": 23,
   "id": "mysterious-principle",
   "metadata": {},
   "outputs": [],
   "source": [
    "GAurban=GAurban.to_crs('EPSG:4326')"
   ]
  },
  {
   "cell_type": "code",
   "execution_count": 24,
   "id": "signal-ballet",
   "metadata": {},
   "outputs": [],
   "source": [
    "GAurban1 = GAurban.drop('index', axis = 1)"
   ]
  },
  {
   "cell_type": "code",
   "execution_count": 25,
   "id": "acceptable-fortune",
   "metadata": {},
   "outputs": [
    {
     "data": {
      "text/html": [
       "<div>\n",
       "<style scoped>\n",
       "    .dataframe tbody tr th:only-of-type {\n",
       "        vertical-align: middle;\n",
       "    }\n",
       "\n",
       "    .dataframe tbody tr th {\n",
       "        vertical-align: top;\n",
       "    }\n",
       "\n",
       "    .dataframe thead th {\n",
       "        text-align: right;\n",
       "    }\n",
       "</style>\n",
       "<table border=\"1\" class=\"dataframe\">\n",
       "  <thead>\n",
       "    <tr style=\"text-align: right;\">\n",
       "      <th></th>\n",
       "      <th>geometry</th>\n",
       "      <th>urban</th>\n",
       "    </tr>\n",
       "  </thead>\n",
       "  <tbody>\n",
       "    <tr>\n",
       "      <th>0</th>\n",
       "      <td>POLYGON ((-82.71957 33.72904, -82.71805 33.728...</td>\n",
       "      <td>True</td>\n",
       "    </tr>\n",
       "    <tr>\n",
       "      <th>1</th>\n",
       "      <td>MULTIPOLYGON (((-82.60097 31.84351, -82.60098 ...</td>\n",
       "      <td>True</td>\n",
       "    </tr>\n",
       "    <tr>\n",
       "      <th>2</th>\n",
       "      <td>POLYGON ((-81.91131 32.15790, -81.91141 32.156...</td>\n",
       "      <td>True</td>\n",
       "    </tr>\n",
       "    <tr>\n",
       "      <th>3</th>\n",
       "      <td>MULTIPOLYGON (((-83.44627 31.11137, -83.44635 ...</td>\n",
       "      <td>True</td>\n",
       "    </tr>\n",
       "    <tr>\n",
       "      <th>4</th>\n",
       "      <td>MULTIPOLYGON (((-82.33667 32.20602, -82.33522 ...</td>\n",
       "      <td>True</td>\n",
       "    </tr>\n",
       "  </tbody>\n",
       "</table>\n",
       "</div>"
      ],
      "text/plain": [
       "                                            geometry  urban\n",
       "0  POLYGON ((-82.71957 33.72904, -82.71805 33.728...   True\n",
       "1  MULTIPOLYGON (((-82.60097 31.84351, -82.60098 ...   True\n",
       "2  POLYGON ((-81.91131 32.15790, -81.91141 32.156...   True\n",
       "3  MULTIPOLYGON (((-83.44627 31.11137, -83.44635 ...   True\n",
       "4  MULTIPOLYGON (((-82.33667 32.20602, -82.33522 ...   True"
      ]
     },
     "execution_count": 25,
     "metadata": {},
     "output_type": "execute_result"
    }
   ],
   "source": [
    "GAurban1.head()"
   ]
  },
  {
   "cell_type": "code",
   "execution_count": 26,
   "id": "parallel-license",
   "metadata": {},
   "outputs": [],
   "source": [
    "# referencing urban area\n",
    "addrjoin1 = gpd.sjoin(addressesgdf, GAurban1, how = 'left')"
   ]
  },
  {
   "cell_type": "code",
   "execution_count": 27,
   "id": "anticipated-bridge",
   "metadata": {},
   "outputs": [
    {
     "data": {
      "text/plain": [
       "True    2268938\n",
       "Name: urban, dtype: int64"
      ]
     },
     "execution_count": 27,
     "metadata": {},
     "output_type": "execute_result"
    }
   ],
   "source": [
    "addrjoin1.urban.value_counts()"
   ]
  },
  {
   "cell_type": "code",
   "execution_count": 28,
   "id": "amazing-serial",
   "metadata": {
    "scrolled": true
   },
   "outputs": [
    {
     "data": {
      "text/plain": [
       "0.7112579323753737"
      ]
     },
     "execution_count": 28,
     "metadata": {},
     "output_type": "execute_result"
    }
   ],
   "source": [
    "2269538/len(addrjoin1)"
   ]
  },
  {
   "cell_type": "code",
   "execution_count": 29,
   "id": "mediterranean-desktop",
   "metadata": {},
   "outputs": [],
   "source": [
    "tracts = gpd.read_file('tl_2021_13_tract/tl_2021_13_tract.shp')"
   ]
  },
  {
   "cell_type": "code",
   "execution_count": 30,
   "id": "bronze-webster",
   "metadata": {},
   "outputs": [],
   "source": [
    "tracts = tracts.to_crs('EPSG:4326')"
   ]
  },
  {
   "cell_type": "code",
   "execution_count": 31,
   "id": "gothic-foster",
   "metadata": {},
   "outputs": [],
   "source": [
    "addrjoin1 = addrjoin1.drop('index_right', axis = 1)"
   ]
  },
  {
   "cell_type": "code",
   "execution_count": 32,
   "id": "organic-pizza",
   "metadata": {},
   "outputs": [],
   "source": [
    "addrjoin2 = gpd.sjoin(addrjoin1, tracts, how = 'left')"
   ]
  },
  {
   "cell_type": "code",
   "execution_count": 33,
   "id": "flexible-people",
   "metadata": {
    "scrolled": true
   },
   "outputs": [
    {
     "name": "stdout",
     "output_type": "stream",
     "text": [
      "<class 'geopandas.geodataframe.GeoDataFrame'>\n",
      "Int64Index: 3190903 entries, 0 to 7545312\n",
      "Data columns (total 21 columns):\n",
      " #   Column           Dtype   \n",
      "---  ------           -----   \n",
      " 0   st_address       object  \n",
      " 1   RESIDENCE_CITY   object  \n",
      " 2   RESIDENCE_STATE  object  \n",
      " 3   ZIP5             object  \n",
      " 4   lat              float64 \n",
      " 5   long             float64 \n",
      " 6   geometry         geometry\n",
      " 7   urban            object  \n",
      " 8   index_right      float64 \n",
      " 9   STATEFP          object  \n",
      " 10  COUNTYFP         object  \n",
      " 11  TRACTCE          object  \n",
      " 12  GEOID            object  \n",
      " 13  NAME             object  \n",
      " 14  NAMELSAD         object  \n",
      " 15  MTFCC            object  \n",
      " 16  FUNCSTAT         object  \n",
      " 17  ALAND            float64 \n",
      " 18  AWATER           float64 \n",
      " 19  INTPTLAT         object  \n",
      " 20  INTPTLON         object  \n",
      "dtypes: float64(5), geometry(1), object(15)\n",
      "memory usage: 535.6+ MB\n"
     ]
    }
   ],
   "source": [
    "addrjoin2.info()"
   ]
  },
  {
   "cell_type": "code",
   "execution_count": 35,
   "id": "cutting-darkness",
   "metadata": {},
   "outputs": [],
   "source": [
    "addrjoin2.drop('geometry', axis = 1).to_csv('20220627_voter_address_tract_ua.csv')"
   ]
  },
  {
   "cell_type": "code",
   "execution_count": null,
   "id": "94f332ae",
   "metadata": {},
   "outputs": [],
   "source": []
  },
  {
   "cell_type": "code",
   "execution_count": null,
   "id": "a23593bf",
   "metadata": {},
   "outputs": [],
   "source": []
  }
 ],
 "metadata": {
  "kernelspec": {
   "display_name": "Python 3 (ipykernel)",
   "language": "python",
   "name": "python3"
  },
  "language_info": {
   "codemirror_mode": {
    "name": "ipython",
    "version": 3
   },
   "file_extension": ".py",
   "mimetype": "text/x-python",
   "name": "python",
   "nbconvert_exporter": "python",
   "pygments_lexer": "ipython3",
   "version": "3.7.13"
  }
 },
 "nbformat": 4,
 "nbformat_minor": 5
}
