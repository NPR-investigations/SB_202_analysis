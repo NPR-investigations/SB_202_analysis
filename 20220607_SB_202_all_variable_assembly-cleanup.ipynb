{
 "cells": [
  {
   "cell_type": "code",
   "execution_count": 1,
   "id": "dominican-judgment",
   "metadata": {},
   "outputs": [],
   "source": [
    "import pandas as pd\n",
    "import csv\n",
    "import os\n",
    "import requests\n",
    "import urllib3\n",
    "import csv\n",
    "import time\n",
    "import re\n",
    "import numpy as np\n",
    "# from random import randint\n",
    "# from pandas import json_normalize\n",
    "import censusgeocode as cg\n",
    "import geopandas as gpd\n",
    "from shapely.geometry import Polygon\n",
    "from shapely.geometry import shape\n",
    "from datetime import datetime\n",
    "os.chdir('C:/Users/jhuo/Documents/20220421_WABE_SB202/')"
   ]
  },
  {
   "cell_type": "code",
   "execution_count": 2,
   "id": "formal-honduras",
   "metadata": {},
   "outputs": [],
   "source": [
    "voter = pd.read_csv('20220516_voter_race_location.csv', low_memory = False)\n",
    "voter1 = voter[pd.isna(voter.lat) == False].copy()"
   ]
  },
  {
   "cell_type": "code",
   "execution_count": 3,
   "id": "accessory-duncan",
   "metadata": {},
   "outputs": [],
   "source": [
    "regicnt = pd.DataFrame(voter1.REGISTRATION_NUMBER.value_counts())"
   ]
  },
  {
   "cell_type": "code",
   "execution_count": 4,
   "id": "constitutional-forty",
   "metadata": {
    "scrolled": true
   },
   "outputs": [
    {
     "data": {
      "text/html": [
       "<div>\n",
       "<style scoped>\n",
       "    .dataframe tbody tr th:only-of-type {\n",
       "        vertical-align: middle;\n",
       "    }\n",
       "\n",
       "    .dataframe tbody tr th {\n",
       "        vertical-align: top;\n",
       "    }\n",
       "\n",
       "    .dataframe thead th {\n",
       "        text-align: right;\n",
       "    }\n",
       "</style>\n",
       "<table border=\"1\" class=\"dataframe\">\n",
       "  <thead>\n",
       "    <tr style=\"text-align: right;\">\n",
       "      <th></th>\n",
       "      <th>REGISTRATION_NUMBER</th>\n",
       "    </tr>\n",
       "  </thead>\n",
       "  <tbody>\n",
       "  </tbody>\n",
       "</table>\n",
       "</div>"
      ],
      "text/plain": [
       "Empty DataFrame\n",
       "Columns: [REGISTRATION_NUMBER]\n",
       "Index: []"
      ]
     },
     "execution_count": 4,
     "metadata": {},
     "output_type": "execute_result"
    }
   ],
   "source": [
    "regicnt[regicnt.REGISTRATION_NUMBER != 1].head()"
   ]
  },
  {
   "cell_type": "code",
   "execution_count": 5,
   "id": "occupational-exemption",
   "metadata": {},
   "outputs": [],
   "source": [
    "addrdriving = pd.read_csv('20220521_voter_address_driving_isochrone_join.csv')\n",
    "addrtransit = pd.read_csv('20220523_voter_addr_transitchrone_join.csv')"
   ]
  },
  {
   "cell_type": "code",
   "execution_count": 6,
   "id": "sunset-magnitude",
   "metadata": {},
   "outputs": [
    {
     "data": {
      "text/html": [
       "<div>\n",
       "<style scoped>\n",
       "    .dataframe tbody tr th:only-of-type {\n",
       "        vertical-align: middle;\n",
       "    }\n",
       "\n",
       "    .dataframe tbody tr th {\n",
       "        vertical-align: top;\n",
       "    }\n",
       "\n",
       "    .dataframe thead th {\n",
       "        text-align: right;\n",
       "    }\n",
       "</style>\n",
       "<table border=\"1\" class=\"dataframe\">\n",
       "  <thead>\n",
       "    <tr style=\"text-align: right;\">\n",
       "      <th></th>\n",
       "      <th>Unnamed: 0</th>\n",
       "      <th>st_address</th>\n",
       "      <th>RESIDENCE_CITY</th>\n",
       "      <th>RESIDENCE_STATE</th>\n",
       "      <th>ZIP5</th>\n",
       "      <th>lat_left</th>\n",
       "      <th>long_left</th>\n",
       "      <th>index_right</th>\n",
       "      <th>travel_tim</th>\n",
       "      <th>lat_right</th>\n",
       "      <th>long_right</th>\n",
       "      <th>GEOID</th>\n",
       "      <th>in_2022</th>\n",
       "      <th>in_nov_202</th>\n",
       "    </tr>\n",
       "  </thead>\n",
       "  <tbody>\n",
       "    <tr>\n",
       "      <th>0</th>\n",
       "      <td>0</td>\n",
       "      <td>237 MITCHELL RD</td>\n",
       "      <td>MAYSVILLE</td>\n",
       "      <td>GA</td>\n",
       "      <td>30558</td>\n",
       "      <td>34.267868</td>\n",
       "      <td>-83.562004</td>\n",
       "      <td>257.0</td>\n",
       "      <td>1200.0</td>\n",
       "      <td>34.335577</td>\n",
       "      <td>-83.497513</td>\n",
       "      <td>13011.0</td>\n",
       "      <td>1.0</td>\n",
       "      <td>1.0</td>\n",
       "    </tr>\n",
       "    <tr>\n",
       "      <th>1</th>\n",
       "      <td>0</td>\n",
       "      <td>237 MITCHELL RD</td>\n",
       "      <td>MAYSVILLE</td>\n",
       "      <td>GA</td>\n",
       "      <td>30558</td>\n",
       "      <td>34.267868</td>\n",
       "      <td>-83.562004</td>\n",
       "      <td>258.0</td>\n",
       "      <td>1800.0</td>\n",
       "      <td>34.335577</td>\n",
       "      <td>-83.497513</td>\n",
       "      <td>13011.0</td>\n",
       "      <td>1.0</td>\n",
       "      <td>1.0</td>\n",
       "    </tr>\n",
       "    <tr>\n",
       "      <th>2</th>\n",
       "      <td>0</td>\n",
       "      <td>237 MITCHELL RD</td>\n",
       "      <td>MAYSVILLE</td>\n",
       "      <td>GA</td>\n",
       "      <td>30558</td>\n",
       "      <td>34.267868</td>\n",
       "      <td>-83.562004</td>\n",
       "      <td>259.0</td>\n",
       "      <td>900.0</td>\n",
       "      <td>34.335577</td>\n",
       "      <td>-83.497513</td>\n",
       "      <td>13011.0</td>\n",
       "      <td>1.0</td>\n",
       "      <td>1.0</td>\n",
       "    </tr>\n",
       "    <tr>\n",
       "      <th>3</th>\n",
       "      <td>1</td>\n",
       "      <td>467 HICKORY CREEK RD</td>\n",
       "      <td>MAYSVILLE</td>\n",
       "      <td>GA</td>\n",
       "      <td>30558</td>\n",
       "      <td>34.308254</td>\n",
       "      <td>-83.548330</td>\n",
       "      <td>257.0</td>\n",
       "      <td>1200.0</td>\n",
       "      <td>34.335577</td>\n",
       "      <td>-83.497513</td>\n",
       "      <td>13011.0</td>\n",
       "      <td>1.0</td>\n",
       "      <td>1.0</td>\n",
       "    </tr>\n",
       "    <tr>\n",
       "      <th>4</th>\n",
       "      <td>1</td>\n",
       "      <td>467 HICKORY CREEK RD</td>\n",
       "      <td>MAYSVILLE</td>\n",
       "      <td>GA</td>\n",
       "      <td>30558</td>\n",
       "      <td>34.308254</td>\n",
       "      <td>-83.548330</td>\n",
       "      <td>258.0</td>\n",
       "      <td>1800.0</td>\n",
       "      <td>34.335577</td>\n",
       "      <td>-83.497513</td>\n",
       "      <td>13011.0</td>\n",
       "      <td>1.0</td>\n",
       "      <td>1.0</td>\n",
       "    </tr>\n",
       "  </tbody>\n",
       "</table>\n",
       "</div>"
      ],
      "text/plain": [
       "   Unnamed: 0            st_address RESIDENCE_CITY RESIDENCE_STATE   ZIP5  \\\n",
       "0           0       237 MITCHELL RD      MAYSVILLE              GA  30558   \n",
       "1           0       237 MITCHELL RD      MAYSVILLE              GA  30558   \n",
       "2           0       237 MITCHELL RD      MAYSVILLE              GA  30558   \n",
       "3           1  467 HICKORY CREEK RD      MAYSVILLE              GA  30558   \n",
       "4           1  467 HICKORY CREEK RD      MAYSVILLE              GA  30558   \n",
       "\n",
       "    lat_left  long_left  index_right  travel_tim  lat_right  long_right  \\\n",
       "0  34.267868 -83.562004        257.0      1200.0  34.335577  -83.497513   \n",
       "1  34.267868 -83.562004        258.0      1800.0  34.335577  -83.497513   \n",
       "2  34.267868 -83.562004        259.0       900.0  34.335577  -83.497513   \n",
       "3  34.308254 -83.548330        257.0      1200.0  34.335577  -83.497513   \n",
       "4  34.308254 -83.548330        258.0      1800.0  34.335577  -83.497513   \n",
       "\n",
       "     GEOID  in_2022  in_nov_202  \n",
       "0  13011.0      1.0         1.0  \n",
       "1  13011.0      1.0         1.0  \n",
       "2  13011.0      1.0         1.0  \n",
       "3  13011.0      1.0         1.0  \n",
       "4  13011.0      1.0         1.0  "
      ]
     },
     "execution_count": 6,
     "metadata": {},
     "output_type": "execute_result"
    }
   ],
   "source": [
    "addrdriving.head()"
   ]
  },
  {
   "cell_type": "code",
   "execution_count": 7,
   "id": "careful-athletics",
   "metadata": {},
   "outputs": [],
   "source": [
    "addrgeo = pd.read_csv('20220515_voter_address_tract_ua.csv')"
   ]
  },
  {
   "cell_type": "code",
   "execution_count": 8,
   "id": "collaborative-trick",
   "metadata": {},
   "outputs": [],
   "source": [
    "longmax = pd.DataFrame(addrgeo.groupby(['st_address','RESIDENCE_CITY','RESIDENCE_STATE','ZIP5']).long_left.max())\n",
    "longmax['keep'] = True\n",
    "longmax = longmax.reset_index()"
   ]
  },
  {
   "cell_type": "code",
   "execution_count": 9,
   "id": "overhead-millennium",
   "metadata": {},
   "outputs": [
    {
     "data": {
      "text/plain": [
       "-1558"
      ]
     },
     "execution_count": 9,
     "metadata": {},
     "output_type": "execute_result"
    }
   ],
   "source": [
    "len(longmax) - len(addrgeo)"
   ]
  },
  {
   "cell_type": "code",
   "execution_count": 10,
   "id": "compound-valve",
   "metadata": {},
   "outputs": [],
   "source": [
    "addrgeo1 = pd.merge(addrgeo, longmax, on = ['st_address','RESIDENCE_CITY','RESIDENCE_STATE','ZIP5','long_left'], how = 'left' )"
   ]
  },
  {
   "cell_type": "code",
   "execution_count": 11,
   "id": "threaded-football",
   "metadata": {},
   "outputs": [
    {
     "data": {
      "text/plain": [
       "-1534"
      ]
     },
     "execution_count": 11,
     "metadata": {},
     "output_type": "execute_result"
    }
   ],
   "source": [
    "len(addrgeo1[addrgeo1.keep == True])- len(addrgeo1)"
   ]
  },
  {
   "cell_type": "code",
   "execution_count": 12,
   "id": "sapphire-airfare",
   "metadata": {},
   "outputs": [],
   "source": [
    "addrgeo2 = addrgeo1[addrgeo1.keep == True].copy().drop('keep', axis = 1)"
   ]
  },
  {
   "cell_type": "code",
   "execution_count": 13,
   "id": "conditional-exhibit",
   "metadata": {
    "scrolled": true
   },
   "outputs": [
    {
     "data": {
      "text/html": [
       "<div>\n",
       "<style scoped>\n",
       "    .dataframe tbody tr th:only-of-type {\n",
       "        vertical-align: middle;\n",
       "    }\n",
       "\n",
       "    .dataframe tbody tr th {\n",
       "        vertical-align: top;\n",
       "    }\n",
       "\n",
       "    .dataframe thead th {\n",
       "        text-align: right;\n",
       "    }\n",
       "</style>\n",
       "<table border=\"1\" class=\"dataframe\">\n",
       "  <thead>\n",
       "    <tr style=\"text-align: right;\">\n",
       "      <th></th>\n",
       "      <th>Unnamed: 0</th>\n",
       "      <th>st_address</th>\n",
       "      <th>RESIDENCE_CITY</th>\n",
       "      <th>RESIDENCE_STATE</th>\n",
       "      <th>ZIP5</th>\n",
       "      <th>lat_left</th>\n",
       "      <th>long_left</th>\n",
       "      <th>urban</th>\n",
       "      <th>index_right</th>\n",
       "      <th>STATEFP</th>\n",
       "      <th>...</th>\n",
       "      <th>GEOID</th>\n",
       "      <th>NAME</th>\n",
       "      <th>NAMELSAD</th>\n",
       "      <th>MTFCC</th>\n",
       "      <th>FUNCSTAT</th>\n",
       "      <th>ALAND</th>\n",
       "      <th>AWATER</th>\n",
       "      <th>INTPTLAT</th>\n",
       "      <th>INTPTLON</th>\n",
       "      <th>keep</th>\n",
       "    </tr>\n",
       "  </thead>\n",
       "  <tbody>\n",
       "    <tr>\n",
       "      <th>0</th>\n",
       "      <td>0</td>\n",
       "      <td>237 MITCHELL RD</td>\n",
       "      <td>MAYSVILLE</td>\n",
       "      <td>GA</td>\n",
       "      <td>30558</td>\n",
       "      <td>34.267868</td>\n",
       "      <td>-83.562004</td>\n",
       "      <td>NaN</td>\n",
       "      <td>869.0</td>\n",
       "      <td>13.0</td>\n",
       "      <td>...</td>\n",
       "      <td>1.301197e+10</td>\n",
       "      <td>9703.0</td>\n",
       "      <td>Census Tract 9703</td>\n",
       "      <td>G5020</td>\n",
       "      <td>S</td>\n",
       "      <td>117917493.0</td>\n",
       "      <td>1953987.0</td>\n",
       "      <td>34.319561</td>\n",
       "      <td>-83.584094</td>\n",
       "      <td>True</td>\n",
       "    </tr>\n",
       "    <tr>\n",
       "      <th>1</th>\n",
       "      <td>1</td>\n",
       "      <td>467 HICKORY CREEK RD</td>\n",
       "      <td>MAYSVILLE</td>\n",
       "      <td>GA</td>\n",
       "      <td>30558</td>\n",
       "      <td>34.308254</td>\n",
       "      <td>-83.548330</td>\n",
       "      <td>NaN</td>\n",
       "      <td>869.0</td>\n",
       "      <td>13.0</td>\n",
       "      <td>...</td>\n",
       "      <td>1.301197e+10</td>\n",
       "      <td>9703.0</td>\n",
       "      <td>Census Tract 9703</td>\n",
       "      <td>G5020</td>\n",
       "      <td>S</td>\n",
       "      <td>117917493.0</td>\n",
       "      <td>1953987.0</td>\n",
       "      <td>34.319561</td>\n",
       "      <td>-83.584094</td>\n",
       "      <td>True</td>\n",
       "    </tr>\n",
       "    <tr>\n",
       "      <th>2</th>\n",
       "      <td>2</td>\n",
       "      <td>733 CARSON SEGARS RD</td>\n",
       "      <td>MAYSVILLE</td>\n",
       "      <td>GA</td>\n",
       "      <td>30558</td>\n",
       "      <td>34.295063</td>\n",
       "      <td>-83.550200</td>\n",
       "      <td>NaN</td>\n",
       "      <td>869.0</td>\n",
       "      <td>13.0</td>\n",
       "      <td>...</td>\n",
       "      <td>1.301197e+10</td>\n",
       "      <td>9703.0</td>\n",
       "      <td>Census Tract 9703</td>\n",
       "      <td>G5020</td>\n",
       "      <td>S</td>\n",
       "      <td>117917493.0</td>\n",
       "      <td>1953987.0</td>\n",
       "      <td>34.319561</td>\n",
       "      <td>-83.584094</td>\n",
       "      <td>True</td>\n",
       "    </tr>\n",
       "    <tr>\n",
       "      <th>3</th>\n",
       "      <td>3</td>\n",
       "      <td>11 W RIDGEWAY RD</td>\n",
       "      <td>MAYSVILLE</td>\n",
       "      <td>GA</td>\n",
       "      <td>30558</td>\n",
       "      <td>34.257618</td>\n",
       "      <td>-83.548480</td>\n",
       "      <td>NaN</td>\n",
       "      <td>869.0</td>\n",
       "      <td>13.0</td>\n",
       "      <td>...</td>\n",
       "      <td>1.301197e+10</td>\n",
       "      <td>9703.0</td>\n",
       "      <td>Census Tract 9703</td>\n",
       "      <td>G5020</td>\n",
       "      <td>S</td>\n",
       "      <td>117917493.0</td>\n",
       "      <td>1953987.0</td>\n",
       "      <td>34.319561</td>\n",
       "      <td>-83.584094</td>\n",
       "      <td>True</td>\n",
       "    </tr>\n",
       "    <tr>\n",
       "      <th>4</th>\n",
       "      <td>4</td>\n",
       "      <td>262 HIGHWAY 52</td>\n",
       "      <td>MAYSVILLE</td>\n",
       "      <td>GA</td>\n",
       "      <td>30558</td>\n",
       "      <td>34.261142</td>\n",
       "      <td>-83.575232</td>\n",
       "      <td>NaN</td>\n",
       "      <td>869.0</td>\n",
       "      <td>13.0</td>\n",
       "      <td>...</td>\n",
       "      <td>1.301197e+10</td>\n",
       "      <td>9703.0</td>\n",
       "      <td>Census Tract 9703</td>\n",
       "      <td>G5020</td>\n",
       "      <td>S</td>\n",
       "      <td>117917493.0</td>\n",
       "      <td>1953987.0</td>\n",
       "      <td>34.319561</td>\n",
       "      <td>-83.584094</td>\n",
       "      <td>True</td>\n",
       "    </tr>\n",
       "  </tbody>\n",
       "</table>\n",
       "<p>5 rows × 22 columns</p>\n",
       "</div>"
      ],
      "text/plain": [
       "   Unnamed: 0            st_address RESIDENCE_CITY RESIDENCE_STATE   ZIP5  \\\n",
       "0           0       237 MITCHELL RD      MAYSVILLE              GA  30558   \n",
       "1           1  467 HICKORY CREEK RD      MAYSVILLE              GA  30558   \n",
       "2           2  733 CARSON SEGARS RD      MAYSVILLE              GA  30558   \n",
       "3           3      11 W RIDGEWAY RD      MAYSVILLE              GA  30558   \n",
       "4           4        262 HIGHWAY 52      MAYSVILLE              GA  30558   \n",
       "\n",
       "    lat_left  long_left urban  index_right  STATEFP  ...         GEOID  \\\n",
       "0  34.267868 -83.562004   NaN        869.0     13.0  ...  1.301197e+10   \n",
       "1  34.308254 -83.548330   NaN        869.0     13.0  ...  1.301197e+10   \n",
       "2  34.295063 -83.550200   NaN        869.0     13.0  ...  1.301197e+10   \n",
       "3  34.257618 -83.548480   NaN        869.0     13.0  ...  1.301197e+10   \n",
       "4  34.261142 -83.575232   NaN        869.0     13.0  ...  1.301197e+10   \n",
       "\n",
       "     NAME           NAMELSAD  MTFCC FUNCSTAT        ALAND     AWATER  \\\n",
       "0  9703.0  Census Tract 9703  G5020        S  117917493.0  1953987.0   \n",
       "1  9703.0  Census Tract 9703  G5020        S  117917493.0  1953987.0   \n",
       "2  9703.0  Census Tract 9703  G5020        S  117917493.0  1953987.0   \n",
       "3  9703.0  Census Tract 9703  G5020        S  117917493.0  1953987.0   \n",
       "4  9703.0  Census Tract 9703  G5020        S  117917493.0  1953987.0   \n",
       "\n",
       "    INTPTLAT   INTPTLON  keep  \n",
       "0  34.319561 -83.584094  True  \n",
       "1  34.319561 -83.584094  True  \n",
       "2  34.319561 -83.584094  True  \n",
       "3  34.319561 -83.584094  True  \n",
       "4  34.319561 -83.584094  True  \n",
       "\n",
       "[5 rows x 22 columns]"
      ]
     },
     "execution_count": 13,
     "metadata": {},
     "output_type": "execute_result"
    }
   ],
   "source": [
    "addrgeo1.head()"
   ]
  },
  {
   "cell_type": "code",
   "execution_count": 14,
   "id": "twelve-validation",
   "metadata": {},
   "outputs": [],
   "source": [
    "addrgeo2 = addrgeo2.drop('Unnamed: 0', axis = 1).drop_duplicates()"
   ]
  },
  {
   "cell_type": "code",
   "execution_count": 15,
   "id": "wrapped-alarm",
   "metadata": {},
   "outputs": [
    {
     "data": {
      "text/plain": [
       "-1534"
      ]
     },
     "execution_count": 15,
     "metadata": {},
     "output_type": "execute_result"
    }
   ],
   "source": [
    "len(addrgeo2)-len(addrgeo1)"
   ]
  },
  {
   "cell_type": "code",
   "execution_count": 16,
   "id": "mediterranean-coverage",
   "metadata": {},
   "outputs": [],
   "source": [
    "latmax = pd.DataFrame(addrgeo2.groupby(['st_address','RESIDENCE_CITY','RESIDENCE_STATE','ZIP5']).lat_left.max())\n",
    "latmax['keep'] = True\n",
    "latmax = latmax.reset_index()"
   ]
  },
  {
   "cell_type": "code",
   "execution_count": 17,
   "id": "south-phase",
   "metadata": {},
   "outputs": [],
   "source": [
    "latmax = latmax.drop_duplicates()"
   ]
  },
  {
   "cell_type": "code",
   "execution_count": 18,
   "id": "domestic-insider",
   "metadata": {},
   "outputs": [
    {
     "data": {
      "text/plain": [
       "-24"
      ]
     },
     "execution_count": 18,
     "metadata": {},
     "output_type": "execute_result"
    }
   ],
   "source": [
    "len(latmax) - len(addrgeo2)"
   ]
  },
  {
   "cell_type": "code",
   "execution_count": 19,
   "id": "altered-belfast",
   "metadata": {},
   "outputs": [],
   "source": [
    "addrgeo3 = pd.merge(addrgeo2, latmax, on = ['st_address','RESIDENCE_CITY','RESIDENCE_STATE','ZIP5','lat_left'], how = 'left' )"
   ]
  },
  {
   "cell_type": "code",
   "execution_count": 20,
   "id": "extraordinary-ukraine",
   "metadata": {},
   "outputs": [
    {
     "data": {
      "text/plain": [
       "0"
      ]
     },
     "execution_count": 20,
     "metadata": {},
     "output_type": "execute_result"
    }
   ],
   "source": [
    "len(addrgeo3[addrgeo3.keep == True])- len(addrgeo3)"
   ]
  },
  {
   "cell_type": "markdown",
   "id": "neural-toyota",
   "metadata": {},
   "source": [
    "Inspecting on ArcGIS shows some of these addresses are on the edges of census tracts. deduplicaing them.<br>\n",
    "and also consider the 13170 freemanville address two addresses share the same cooridnate- is that indexed to multiple voters? Should this be pruned?"
   ]
  },
  {
   "cell_type": "code",
   "execution_count": 21,
   "id": "adopted-yacht",
   "metadata": {},
   "outputs": [],
   "source": [
    "latcount = pd.DataFrame(addrgeo2.groupby(['st_address','RESIDENCE_CITY','RESIDENCE_STATE','ZIP5']).lat_left.count())"
   ]
  },
  {
   "cell_type": "code",
   "execution_count": 22,
   "id": "married-management",
   "metadata": {
    "scrolled": false
   },
   "outputs": [
    {
     "data": {
      "text/html": [
       "<div>\n",
       "<style scoped>\n",
       "    .dataframe tbody tr th:only-of-type {\n",
       "        vertical-align: middle;\n",
       "    }\n",
       "\n",
       "    .dataframe tbody tr th {\n",
       "        vertical-align: top;\n",
       "    }\n",
       "\n",
       "    .dataframe thead th {\n",
       "        text-align: right;\n",
       "    }\n",
       "</style>\n",
       "<table border=\"1\" class=\"dataframe\">\n",
       "  <thead>\n",
       "    <tr style=\"text-align: right;\">\n",
       "      <th></th>\n",
       "      <th></th>\n",
       "      <th></th>\n",
       "      <th></th>\n",
       "      <th>lat_left</th>\n",
       "    </tr>\n",
       "    <tr>\n",
       "      <th>st_address</th>\n",
       "      <th>RESIDENCE_CITY</th>\n",
       "      <th>RESIDENCE_STATE</th>\n",
       "      <th>ZIP5</th>\n",
       "      <th></th>\n",
       "    </tr>\n",
       "  </thead>\n",
       "  <tbody>\n",
       "    <tr>\n",
       "      <th>1 1 COURTHOUSE SQ</th>\n",
       "      <th>MCDONOUGH</th>\n",
       "      <th>GA</th>\n",
       "      <th>30253</th>\n",
       "      <td>1</td>\n",
       "    </tr>\n",
       "    <tr>\n",
       "      <th>1 10TH TER</th>\n",
       "      <th>TYBEE ISLAND</th>\n",
       "      <th>GA</th>\n",
       "      <th>31328</th>\n",
       "      <td>1</td>\n",
       "    </tr>\n",
       "    <tr>\n",
       "      <th>1 11TH AIRBORNE DIV RD</th>\n",
       "      <th>FORT BENNING</th>\n",
       "      <th>GA</th>\n",
       "      <th>31905</th>\n",
       "      <td>1</td>\n",
       "    </tr>\n",
       "    <tr>\n",
       "      <th>1 11TH TER</th>\n",
       "      <th>TYBEE ISLAND</th>\n",
       "      <th>GA</th>\n",
       "      <th>31328</th>\n",
       "      <td>1</td>\n",
       "    </tr>\n",
       "    <tr>\n",
       "      <th>1 13TH LN</th>\n",
       "      <th>TYBEE ISLAND</th>\n",
       "      <th>GA</th>\n",
       "      <th>31328</th>\n",
       "      <td>1</td>\n",
       "    </tr>\n",
       "  </tbody>\n",
       "</table>\n",
       "</div>"
      ],
      "text/plain": [
       "                                                             lat_left\n",
       "st_address             RESIDENCE_CITY RESIDENCE_STATE ZIP5           \n",
       "1 1 COURTHOUSE SQ      MCDONOUGH      GA              30253         1\n",
       "1 10TH TER             TYBEE ISLAND   GA              31328         1\n",
       "1 11TH AIRBORNE DIV RD FORT BENNING   GA              31905         1\n",
       "1 11TH TER             TYBEE ISLAND   GA              31328         1\n",
       "1 13TH LN              TYBEE ISLAND   GA              31328         1"
      ]
     },
     "execution_count": 22,
     "metadata": {},
     "output_type": "execute_result"
    }
   ],
   "source": [
    "latcount.head()"
   ]
  },
  {
   "cell_type": "code",
   "execution_count": 23,
   "id": "sharing-consideration",
   "metadata": {},
   "outputs": [
    {
     "name": "stdout",
     "output_type": "stream",
     "text": [
      "<class 'pandas.core.frame.DataFrame'>\n",
      "MultiIndex: 24 entries, ('1297 WESLEYAN DR', 'MACON', 'GA', 31210) to ('911 NEW FRANKLIN RD', 'LAGRANGE', 'GA', 30240)\n",
      "Data columns (total 1 columns):\n",
      " #   Column    Non-Null Count  Dtype\n",
      "---  ------    --------------  -----\n",
      " 0   lat_left  24 non-null     int64\n",
      "dtypes: int64(1)\n",
      "memory usage: 23.8+ MB\n"
     ]
    }
   ],
   "source": [
    "latcount[latcount.lat_left != 1].info()"
   ]
  },
  {
   "cell_type": "code",
   "execution_count": 24,
   "id": "ceramic-devil",
   "metadata": {},
   "outputs": [],
   "source": [
    "tractmax = pd.DataFrame(addrgeo2.groupby(['lat_left','long_left']).TRACTCE.max())"
   ]
  },
  {
   "cell_type": "code",
   "execution_count": 25,
   "id": "heard-affect",
   "metadata": {},
   "outputs": [
    {
     "data": {
      "text/html": [
       "<div>\n",
       "<style scoped>\n",
       "    .dataframe tbody tr th:only-of-type {\n",
       "        vertical-align: middle;\n",
       "    }\n",
       "\n",
       "    .dataframe tbody tr th {\n",
       "        vertical-align: top;\n",
       "    }\n",
       "\n",
       "    .dataframe thead th {\n",
       "        text-align: right;\n",
       "    }\n",
       "</style>\n",
       "<table border=\"1\" class=\"dataframe\">\n",
       "  <thead>\n",
       "    <tr style=\"text-align: right;\">\n",
       "      <th></th>\n",
       "      <th></th>\n",
       "      <th>TRACTCE</th>\n",
       "    </tr>\n",
       "    <tr>\n",
       "      <th>lat_left</th>\n",
       "      <th>long_left</th>\n",
       "      <th></th>\n",
       "    </tr>\n",
       "  </thead>\n",
       "  <tbody>\n",
       "    <tr>\n",
       "      <th>30.359767</th>\n",
       "      <th>-82.162196</th>\n",
       "      <td>10200.0</td>\n",
       "    </tr>\n",
       "    <tr>\n",
       "      <th>30.359843</th>\n",
       "      <th>-82.162622</th>\n",
       "      <td>10200.0</td>\n",
       "    </tr>\n",
       "    <tr>\n",
       "      <th>30.359877</th>\n",
       "      <th>-82.162928</th>\n",
       "      <td>10200.0</td>\n",
       "    </tr>\n",
       "    <tr>\n",
       "      <th>30.359960</th>\n",
       "      <th>-82.160714</th>\n",
       "      <td>10200.0</td>\n",
       "    </tr>\n",
       "    <tr>\n",
       "      <th>30.359978</th>\n",
       "      <th>-82.164920</th>\n",
       "      <td>10200.0</td>\n",
       "    </tr>\n",
       "  </tbody>\n",
       "</table>\n",
       "</div>"
      ],
      "text/plain": [
       "                      TRACTCE\n",
       "lat_left  long_left          \n",
       "30.359767 -82.162196  10200.0\n",
       "30.359843 -82.162622  10200.0\n",
       "30.359877 -82.162928  10200.0\n",
       "30.359960 -82.160714  10200.0\n",
       "30.359978 -82.164920  10200.0"
      ]
     },
     "execution_count": 25,
     "metadata": {},
     "output_type": "execute_result"
    }
   ],
   "source": [
    "tractmax.head()"
   ]
  },
  {
   "cell_type": "code",
   "execution_count": 26,
   "id": "optical-netherlands",
   "metadata": {
    "scrolled": true
   },
   "outputs": [
    {
     "data": {
      "text/plain": [
       "-62820"
      ]
     },
     "execution_count": 26,
     "metadata": {},
     "output_type": "execute_result"
    }
   ],
   "source": [
    "len(tractmax) - len(addrgeo2)"
   ]
  },
  {
   "cell_type": "code",
   "execution_count": 27,
   "id": "pleasant-captain",
   "metadata": {},
   "outputs": [],
   "source": [
    "tractmax['keep'] = True"
   ]
  },
  {
   "cell_type": "code",
   "execution_count": 28,
   "id": "organizational-revision",
   "metadata": {},
   "outputs": [],
   "source": [
    "addrgeo3 = addrgeo3.drop('keep', axis = 1)"
   ]
  },
  {
   "cell_type": "code",
   "execution_count": 29,
   "id": "imposed-campaign",
   "metadata": {},
   "outputs": [],
   "source": [
    "tractmax = tractmax.reset_index()"
   ]
  },
  {
   "cell_type": "code",
   "execution_count": 30,
   "id": "functional-tokyo",
   "metadata": {},
   "outputs": [
    {
     "data": {
      "text/html": [
       "<div>\n",
       "<style scoped>\n",
       "    .dataframe tbody tr th:only-of-type {\n",
       "        vertical-align: middle;\n",
       "    }\n",
       "\n",
       "    .dataframe tbody tr th {\n",
       "        vertical-align: top;\n",
       "    }\n",
       "\n",
       "    .dataframe thead th {\n",
       "        text-align: right;\n",
       "    }\n",
       "</style>\n",
       "<table border=\"1\" class=\"dataframe\">\n",
       "  <thead>\n",
       "    <tr style=\"text-align: right;\">\n",
       "      <th></th>\n",
       "      <th>lat_left</th>\n",
       "      <th>long_left</th>\n",
       "      <th>TRACTCE</th>\n",
       "      <th>keep</th>\n",
       "    </tr>\n",
       "  </thead>\n",
       "  <tbody>\n",
       "    <tr>\n",
       "      <th>0</th>\n",
       "      <td>30.359767</td>\n",
       "      <td>-82.162196</td>\n",
       "      <td>10200.0</td>\n",
       "      <td>True</td>\n",
       "    </tr>\n",
       "    <tr>\n",
       "      <th>1</th>\n",
       "      <td>30.359843</td>\n",
       "      <td>-82.162622</td>\n",
       "      <td>10200.0</td>\n",
       "      <td>True</td>\n",
       "    </tr>\n",
       "    <tr>\n",
       "      <th>2</th>\n",
       "      <td>30.359877</td>\n",
       "      <td>-82.162928</td>\n",
       "      <td>10200.0</td>\n",
       "      <td>True</td>\n",
       "    </tr>\n",
       "    <tr>\n",
       "      <th>3</th>\n",
       "      <td>30.359960</td>\n",
       "      <td>-82.160714</td>\n",
       "      <td>10200.0</td>\n",
       "      <td>True</td>\n",
       "    </tr>\n",
       "    <tr>\n",
       "      <th>4</th>\n",
       "      <td>30.359978</td>\n",
       "      <td>-82.164920</td>\n",
       "      <td>10200.0</td>\n",
       "      <td>True</td>\n",
       "    </tr>\n",
       "  </tbody>\n",
       "</table>\n",
       "</div>"
      ],
      "text/plain": [
       "    lat_left  long_left  TRACTCE  keep\n",
       "0  30.359767 -82.162196  10200.0  True\n",
       "1  30.359843 -82.162622  10200.0  True\n",
       "2  30.359877 -82.162928  10200.0  True\n",
       "3  30.359960 -82.160714  10200.0  True\n",
       "4  30.359978 -82.164920  10200.0  True"
      ]
     },
     "execution_count": 30,
     "metadata": {},
     "output_type": "execute_result"
    }
   ],
   "source": [
    "tractmax.head()"
   ]
  },
  {
   "cell_type": "code",
   "execution_count": 31,
   "id": "champion-picking",
   "metadata": {},
   "outputs": [],
   "source": [
    "addrgeo4 = pd.merge(addrgeo3, tractmax, on = ['lat_left','long_left','TRACTCE'], how = 'outer')"
   ]
  },
  {
   "cell_type": "code",
   "execution_count": 32,
   "id": "furnished-backing",
   "metadata": {
    "scrolled": true
   },
   "outputs": [
    {
     "name": "stdout",
     "output_type": "stream",
     "text": [
      "<class 'pandas.core.frame.DataFrame'>\n",
      "Int64Index: 24 entries, 45418 to 2998882\n",
      "Data columns (total 21 columns):\n",
      " #   Column           Non-Null Count  Dtype  \n",
      "---  ------           --------------  -----  \n",
      " 0   st_address       24 non-null     object \n",
      " 1   RESIDENCE_CITY   24 non-null     object \n",
      " 2   RESIDENCE_STATE  24 non-null     object \n",
      " 3   ZIP5             24 non-null     int64  \n",
      " 4   lat_left         24 non-null     float64\n",
      " 5   long_left        24 non-null     float64\n",
      " 6   urban            20 non-null     object \n",
      " 7   index_right      24 non-null     float64\n",
      " 8   STATEFP          24 non-null     float64\n",
      " 9   COUNTYFP         24 non-null     float64\n",
      " 10  TRACTCE          24 non-null     float64\n",
      " 11  GEOID            24 non-null     float64\n",
      " 12  NAME             24 non-null     float64\n",
      " 13  NAMELSAD         24 non-null     object \n",
      " 14  MTFCC            24 non-null     object \n",
      " 15  FUNCSTAT         24 non-null     object \n",
      " 16  ALAND            24 non-null     float64\n",
      " 17  AWATER           24 non-null     float64\n",
      " 18  INTPTLAT         24 non-null     float64\n",
      " 19  INTPTLON         24 non-null     float64\n",
      " 20  keep             0 non-null      object \n",
      "dtypes: float64(12), int64(1), object(8)\n",
      "memory usage: 4.1+ KB\n"
     ]
    }
   ],
   "source": [
    "addrgeo4[addrgeo4.keep != True].info()"
   ]
  },
  {
   "cell_type": "code",
   "execution_count": 33,
   "id": "medieval-immigration",
   "metadata": {},
   "outputs": [],
   "source": [
    "addrgeo5 = addrgeo4[addrgeo4.keep == True].copy()"
   ]
  },
  {
   "cell_type": "code",
   "execution_count": 34,
   "id": "bridal-cable",
   "metadata": {},
   "outputs": [],
   "source": [
    "addrgeo = addrgeo5.copy()"
   ]
  },
  {
   "cell_type": "code",
   "execution_count": 35,
   "id": "nervous-reference",
   "metadata": {},
   "outputs": [],
   "source": [
    "del addrgeo1\n",
    "del addrgeo2"
   ]
  },
  {
   "cell_type": "code",
   "execution_count": 36,
   "id": "loved-conflict",
   "metadata": {},
   "outputs": [],
   "source": [
    "addr = voter1[['lat','long']].drop_duplicates()"
   ]
  },
  {
   "cell_type": "markdown",
   "id": "amino-riverside",
   "metadata": {},
   "source": [
    "### load transit data"
   ]
  },
  {
   "cell_type": "code",
   "execution_count": 37,
   "id": "developing-conversion",
   "metadata": {},
   "outputs": [],
   "source": [
    "addrtransit1 = addrtransit.drop_duplicates()"
   ]
  },
  {
   "cell_type": "markdown",
   "id": "nearby-sustainability",
   "metadata": {},
   "source": [
    "solve for the shortes transit time bracket for an address in a given year"
   ]
  },
  {
   "cell_type": "code",
   "execution_count": 38,
   "id": "special-volleyball",
   "metadata": {},
   "outputs": [],
   "source": [
    "addrtransit1_22 = addrtransit1[addrtransit1.in_2022 ==  1].copy()\n",
    "addrtransit1_22cnt = pd.DataFrame(addrtransit1_22.groupby([ 'st_address','RESIDENCE_CITY','RESIDENCE_STATE','ZIP5']).travel_tim.min())\n",
    "# addrtransit1_22cnt = addrtransit1_22cnt.reset_index()\n",
    "addrtransit1_22cnt = addrtransit1_22cnt.rename(columns = {'travel_tim':'min_transit_2022'})"
   ]
  },
  {
   "cell_type": "code",
   "execution_count": 39,
   "id": "empirical-privacy",
   "metadata": {},
   "outputs": [],
   "source": [
    "addrtransit1_20 = addrtransit1[addrtransit1.in_nov_202 ==  1].copy()\n",
    "addrtransit1_20cnt = pd.DataFrame(addrtransit1_20.groupby([ 'st_address','RESIDENCE_CITY','RESIDENCE_STATE','ZIP5']).travel_tim.min())\n",
    "# addrtransit1_20cnt = addrtransit1_20cnt.reset_index()\n",
    "addrtransit1_20cnt = addrtransit1_20cnt.rename(columns = {'travel_tim':'min_transit_2020'})"
   ]
  },
  {
   "cell_type": "code",
   "execution_count": 40,
   "id": "younger-vacuum",
   "metadata": {},
   "outputs": [],
   "source": [
    "addtransitmaster = pd.merge(addrtransit1_20cnt, addrtransit1_22cnt, left_index = True, right_index = True, how = 'outer')"
   ]
  },
  {
   "cell_type": "code",
   "execution_count": 41,
   "id": "universal-bahamas",
   "metadata": {},
   "outputs": [],
   "source": [
    "addtransitmaster['band_diff'] = addtransitmaster.min_transit_2022 - addtransitmaster.min_transit_2020\n",
    "addtransitmaster = addtransitmaster.reset_index()\n",
    "addtransitmaster.ZIP5 = [str(x) for x in addtransitmaster.ZIP5]"
   ]
  },
  {
   "cell_type": "code",
   "execution_count": 42,
   "id": "minus-camera",
   "metadata": {},
   "outputs": [
    {
     "name": "stdout",
     "output_type": "stream",
     "text": [
      "<class 'pandas.core.frame.DataFrame'>\n",
      "RangeIndex: 259084 entries, 0 to 259083\n",
      "Data columns (total 7 columns):\n",
      " #   Column            Non-Null Count   Dtype  \n",
      "---  ------            --------------   -----  \n",
      " 0   st_address        259084 non-null  object \n",
      " 1   RESIDENCE_CITY    259084 non-null  object \n",
      " 2   RESIDENCE_STATE   259084 non-null  object \n",
      " 3   ZIP5              259084 non-null  object \n",
      " 4   min_transit_2020  243056 non-null  float64\n",
      " 5   min_transit_2022  93558 non-null   float64\n",
      " 6   band_diff         77530 non-null   float64\n",
      "dtypes: float64(3), object(4)\n",
      "memory usage: 13.8+ MB\n"
     ]
    }
   ],
   "source": [
    "addtransitmaster.info()"
   ]
  },
  {
   "cell_type": "code",
   "execution_count": 43,
   "id": "flexible-tragedy",
   "metadata": {
    "scrolled": true
   },
   "outputs": [],
   "source": [
    "votertransit = pd.merge(voter1,addtransitmaster, on =  ['st_address','RESIDENCE_CITY','RESIDENCE_STATE','ZIP5'], how = 'left')"
   ]
  },
  {
   "cell_type": "code",
   "execution_count": 44,
   "id": "partial-australian",
   "metadata": {},
   "outputs": [
    {
     "name": "stdout",
     "output_type": "stream",
     "text": [
      "<class 'pandas.core.frame.DataFrame'>\n",
      "Int64Index: 7528561 entries, 0 to 7528560\n",
      "Data columns (total 13 columns):\n",
      " #   Column               Dtype  \n",
      "---  ------               -----  \n",
      " 0   Unnamed: 0           int64  \n",
      " 1   REGISTRATION_NUMBER  int64  \n",
      " 2   BIRTHDATE            int64  \n",
      " 3   RACE                 object \n",
      " 4   st_address           object \n",
      " 5   RESIDENCE_CITY       object \n",
      " 6   RESIDENCE_STATE      object \n",
      " 7   ZIP5                 object \n",
      " 8   lat                  float64\n",
      " 9   long                 float64\n",
      " 10  min_transit_2020     float64\n",
      " 11  min_transit_2022     float64\n",
      " 12  band_diff            float64\n",
      "dtypes: float64(5), int64(3), object(5)\n",
      "memory usage: 804.1+ MB\n"
     ]
    }
   ],
   "source": [
    "votertransit.info()"
   ]
  },
  {
   "cell_type": "code",
   "execution_count": 45,
   "id": "proprietary-shepherd",
   "metadata": {},
   "outputs": [
    {
     "data": {
      "text/plain": [
       "1.0"
      ]
     },
     "execution_count": 45,
     "metadata": {},
     "output_type": "execute_result"
    }
   ],
   "source": [
    "len(votertransit)/len(votertransit.REGISTRATION_NUMBER.unique())"
   ]
  },
  {
   "cell_type": "code",
   "execution_count": 46,
   "id": "covered-defensive",
   "metadata": {},
   "outputs": [],
   "source": [
    "votertransittest = pd.merge(voter1,addtransitmaster, on =  ['st_address','RESIDENCE_CITY','RESIDENCE_STATE','ZIP5'], how = 'outer')"
   ]
  },
  {
   "cell_type": "code",
   "execution_count": 47,
   "id": "powered-sequence",
   "metadata": {
    "scrolled": true
   },
   "outputs": [
    {
     "data": {
      "text/plain": [
       "True"
      ]
     },
     "execution_count": 47,
     "metadata": {},
     "output_type": "execute_result"
    }
   ],
   "source": [
    "# chcecking that the merge was right\n",
    "len(votertransittest) == len(votertransit)"
   ]
  },
  {
   "cell_type": "code",
   "execution_count": 48,
   "id": "median-ministry",
   "metadata": {},
   "outputs": [],
   "source": [
    "del votertransittest"
   ]
  },
  {
   "cell_type": "code",
   "execution_count": 49,
   "id": "planned-bacon",
   "metadata": {},
   "outputs": [
    {
     "data": {
      "text/plain": [
       "1.0"
      ]
     },
     "execution_count": 49,
     "metadata": {},
     "output_type": "execute_result"
    }
   ],
   "source": [
    "len(votertransit.REGISTRATION_NUMBER.unique())/len(votertransit)"
   ]
  },
  {
   "cell_type": "code",
   "execution_count": 50,
   "id": "classical-peace",
   "metadata": {},
   "outputs": [
    {
     "data": {
      "text/plain": [
       "7528561"
      ]
     },
     "execution_count": 50,
     "metadata": {},
     "output_type": "execute_result"
    }
   ],
   "source": [
    "len(votertransit)"
   ]
  },
  {
   "cell_type": "code",
   "execution_count": 51,
   "id": "negative-speaking",
   "metadata": {
    "scrolled": true
   },
   "outputs": [
    {
     "data": {
      "text/plain": [
       "741656"
      ]
     },
     "execution_count": 51,
     "metadata": {},
     "output_type": "execute_result"
    }
   ],
   "source": [
    "len(votertransit[pd.isna(votertransit.min_transit_2020) == False])"
   ]
  },
  {
   "cell_type": "code",
   "execution_count": 52,
   "id": "fossil-yorkshire",
   "metadata": {},
   "outputs": [
    {
     "data": {
      "text/plain": [
       "3935160"
      ]
     },
     "execution_count": 52,
     "metadata": {},
     "output_type": "execute_result"
    }
   ],
   "source": [
    "len(votertransit[votertransit.RACE == 'WH'].REGISTRATION_NUMBER.unique())"
   ]
  },
  {
   "cell_type": "markdown",
   "id": "peaceful-actress",
   "metadata": {},
   "source": [
    "### load vehicle ownership data"
   ]
  },
  {
   "cell_type": "code",
   "execution_count": 53,
   "id": "generic-explanation",
   "metadata": {},
   "outputs": [],
   "source": [
    "carraw = pd.read_csv('ACS_household_vehicle_by_tract_ACSDP5Y2020.DP04_2022-05-15T192441/ACSDP5Y2020.DP04_data_with_overlays_2022-05-15T180221.csv', low_memory = False)"
   ]
  },
  {
   "cell_type": "code",
   "execution_count": 54,
   "id": "transparent-reasoning",
   "metadata": {},
   "outputs": [],
   "source": [
    "carraw = carraw.drop(0)"
   ]
  },
  {
   "cell_type": "code",
   "execution_count": 55,
   "id": "stuck-linux",
   "metadata": {},
   "outputs": [],
   "source": [
    "car = carraw[['GEO_ID','DP04_0058PE']].copy()"
   ]
  },
  {
   "cell_type": "code",
   "execution_count": 56,
   "id": "republican-maintenance",
   "metadata": {},
   "outputs": [],
   "source": [
    "car = car.rename(columns = {'DP04_0058PE':'pct_no_car'})"
   ]
  },
  {
   "cell_type": "code",
   "execution_count": 57,
   "id": "impressed-scientist",
   "metadata": {},
   "outputs": [
    {
     "data": {
      "text/html": [
       "<div>\n",
       "<style scoped>\n",
       "    .dataframe tbody tr th:only-of-type {\n",
       "        vertical-align: middle;\n",
       "    }\n",
       "\n",
       "    .dataframe tbody tr th {\n",
       "        vertical-align: top;\n",
       "    }\n",
       "\n",
       "    .dataframe thead th {\n",
       "        text-align: right;\n",
       "    }\n",
       "</style>\n",
       "<table border=\"1\" class=\"dataframe\">\n",
       "  <thead>\n",
       "    <tr style=\"text-align: right;\">\n",
       "      <th></th>\n",
       "      <th>GEO_ID</th>\n",
       "      <th>pct_no_car</th>\n",
       "    </tr>\n",
       "  </thead>\n",
       "  <tbody>\n",
       "    <tr>\n",
       "      <th>1</th>\n",
       "      <td>1400000US13001950100</td>\n",
       "      <td>5.1</td>\n",
       "    </tr>\n",
       "    <tr>\n",
       "      <th>2</th>\n",
       "      <td>1400000US13001950201</td>\n",
       "      <td>4.0</td>\n",
       "    </tr>\n",
       "    <tr>\n",
       "      <th>3</th>\n",
       "      <td>1400000US13001950202</td>\n",
       "      <td>13.1</td>\n",
       "    </tr>\n",
       "    <tr>\n",
       "      <th>4</th>\n",
       "      <td>1400000US13001950301</td>\n",
       "      <td>4.4</td>\n",
       "    </tr>\n",
       "    <tr>\n",
       "      <th>5</th>\n",
       "      <td>1400000US13001950302</td>\n",
       "      <td>32.5</td>\n",
       "    </tr>\n",
       "  </tbody>\n",
       "</table>\n",
       "</div>"
      ],
      "text/plain": [
       "                 GEO_ID pct_no_car\n",
       "1  1400000US13001950100        5.1\n",
       "2  1400000US13001950201        4.0\n",
       "3  1400000US13001950202       13.1\n",
       "4  1400000US13001950301        4.4\n",
       "5  1400000US13001950302       32.5"
      ]
     },
     "execution_count": 57,
     "metadata": {},
     "output_type": "execute_result"
    }
   ],
   "source": [
    "car.head()"
   ]
  },
  {
   "cell_type": "code",
   "execution_count": 58,
   "id": "operational-wonder",
   "metadata": {},
   "outputs": [],
   "source": [
    "car['GEOID'] = [x.split('US')[1] for x in car.GEO_ID]"
   ]
  },
  {
   "cell_type": "code",
   "execution_count": 59,
   "id": "following-springfield",
   "metadata": {},
   "outputs": [],
   "source": [
    "car = car.drop('GEO_ID', axis = 1)"
   ]
  },
  {
   "cell_type": "code",
   "execution_count": 60,
   "id": "intensive-jersey",
   "metadata": {},
   "outputs": [],
   "source": [
    "addrgeo.ZIP5 = [str(x) for x in addrgeo.ZIP5 ]"
   ]
  },
  {
   "cell_type": "code",
   "execution_count": 61,
   "id": "higher-works",
   "metadata": {},
   "outputs": [],
   "source": [
    "addrgeo.GEOID = [str(int(x)) if pd.isna(x) == False else str(x) for x in addrgeo.GEOID]"
   ]
  },
  {
   "cell_type": "code",
   "execution_count": 62,
   "id": "palestinian-sight",
   "metadata": {},
   "outputs": [],
   "source": [
    "addrgeo1 = pd.merge(addrgeo, car, on = 'GEOID', how = 'left')"
   ]
  },
  {
   "cell_type": "code",
   "execution_count": 63,
   "id": "ordered-falls",
   "metadata": {
    "scrolled": true
   },
   "outputs": [
    {
     "name": "stdout",
     "output_type": "stream",
     "text": [
      "<class 'pandas.core.frame.DataFrame'>\n",
      "Int64Index: 3190879 entries, 0 to 3190878\n",
      "Data columns (total 22 columns):\n",
      " #   Column           Dtype  \n",
      "---  ------           -----  \n",
      " 0   st_address       object \n",
      " 1   RESIDENCE_CITY   object \n",
      " 2   RESIDENCE_STATE  object \n",
      " 3   ZIP5             object \n",
      " 4   lat_left         float64\n",
      " 5   long_left        float64\n",
      " 6   urban            object \n",
      " 7   index_right      float64\n",
      " 8   STATEFP          float64\n",
      " 9   COUNTYFP         float64\n",
      " 10  TRACTCE          float64\n",
      " 11  GEOID            object \n",
      " 12  NAME             float64\n",
      " 13  NAMELSAD         object \n",
      " 14  MTFCC            object \n",
      " 15  FUNCSTAT         object \n",
      " 16  ALAND            float64\n",
      " 17  AWATER           float64\n",
      " 18  INTPTLAT         float64\n",
      " 19  INTPTLON         float64\n",
      " 20  keep             object \n",
      " 21  pct_no_car       object \n",
      "dtypes: float64(11), object(11)\n",
      "memory usage: 559.9+ MB\n"
     ]
    }
   ],
   "source": [
    "addrgeo1.info()"
   ]
  },
  {
   "cell_type": "code",
   "execution_count": 64,
   "id": "charged-interface",
   "metadata": {},
   "outputs": [],
   "source": [
    "votertransit1 = pd.merge(votertransit, addrgeo1, on = ['st_address','RESIDENCE_CITY','RESIDENCE_STATE','ZIP5'], how = 'left')"
   ]
  },
  {
   "cell_type": "code",
   "execution_count": 65,
   "id": "aggressive-competition",
   "metadata": {},
   "outputs": [],
   "source": [
    "votertransit1.pct_no_car = [np.nan if x == '-' else float(x) for x in votertransit1.pct_no_car]"
   ]
  },
  {
   "cell_type": "code",
   "execution_count": 66,
   "id": "bearing-thong",
   "metadata": {},
   "outputs": [
    {
     "data": {
      "text/plain": [
       "0"
      ]
     },
     "execution_count": 66,
     "metadata": {},
     "output_type": "execute_result"
    }
   ],
   "source": [
    "len(votertransit1.REGISTRATION_NUMBER.unique())-len(votertransit1)"
   ]
  },
  {
   "cell_type": "markdown",
   "id": "arbitrary-party",
   "metadata": {},
   "source": [
    "### load driving data"
   ]
  },
  {
   "cell_type": "code",
   "execution_count": 67,
   "id": "accomplished-thunder",
   "metadata": {},
   "outputs": [],
   "source": [
    "addrdriving1 = addrdriving.drop_duplicates()"
   ]
  },
  {
   "cell_type": "markdown",
   "id": "innovative-jonathan",
   "metadata": {},
   "source": [
    "solve for the shortes driving time bracket for an address in a given year"
   ]
  },
  {
   "cell_type": "code",
   "execution_count": 68,
   "id": "broke-allen",
   "metadata": {},
   "outputs": [],
   "source": [
    "addrdriving1_22 = addrdriving1[addrdriving1.in_2022 ==  1].copy()\n",
    "addrdriving1_22cnt = pd.DataFrame(addrdriving1_22.groupby([ 'st_address','RESIDENCE_CITY','RESIDENCE_STATE','ZIP5']).travel_tim.min())\n",
    "# addrdriving1_22cnt = addrdriving1_22cnt.reset_index()\n",
    "addrdriving1_22cnt = addrdriving1_22cnt.rename(columns = {'travel_tim':'min_driving_2022'})"
   ]
  },
  {
   "cell_type": "code",
   "execution_count": 69,
   "id": "known-offering",
   "metadata": {},
   "outputs": [],
   "source": [
    "addrdriving1_20 = addrdriving1[addrdriving1.in_nov_202 ==  1].copy()\n",
    "addrdriving1_20cnt = pd.DataFrame(addrdriving1_20.groupby([ 'st_address','RESIDENCE_CITY','RESIDENCE_STATE','ZIP5']).travel_tim.min())\n",
    "# addrdriving1_20cnt = addrdriving1_20cnt.reset_index()\n",
    "addrdriving1_20cnt = addrdriving1_20cnt.rename(columns = {'travel_tim':'min_driving_2020'})"
   ]
  },
  {
   "cell_type": "code",
   "execution_count": 70,
   "id": "emotional-internet",
   "metadata": {},
   "outputs": [],
   "source": [
    "adddrivingmaster = pd.merge(addrdriving1_20cnt, addrdriving1_22cnt, left_index = True, right_index = True, how = 'outer')"
   ]
  },
  {
   "cell_type": "code",
   "execution_count": 71,
   "id": "appointed-grove",
   "metadata": {},
   "outputs": [],
   "source": [
    "adddrivingmaster['band_diff'] = adddrivingmaster.min_driving_2022 - adddrivingmaster.min_driving_2020"
   ]
  },
  {
   "cell_type": "code",
   "execution_count": 72,
   "id": "nervous-berkeley",
   "metadata": {},
   "outputs": [],
   "source": [
    "adddrivingmaster = adddrivingmaster.reset_index()"
   ]
  },
  {
   "cell_type": "code",
   "execution_count": 73,
   "id": "august-wallace",
   "metadata": {},
   "outputs": [],
   "source": [
    "adddrivingmaster.ZIP5 = [str(x) for x in adddrivingmaster.ZIP5]"
   ]
  },
  {
   "cell_type": "code",
   "execution_count": 74,
   "id": "absent-netherlands",
   "metadata": {},
   "outputs": [
    {
     "name": "stdout",
     "output_type": "stream",
     "text": [
      "<class 'pandas.core.frame.DataFrame'>\n",
      "RangeIndex: 3172094 entries, 0 to 3172093\n",
      "Data columns (total 7 columns):\n",
      " #   Column            Dtype  \n",
      "---  ------            -----  \n",
      " 0   st_address        object \n",
      " 1   RESIDENCE_CITY    object \n",
      " 2   RESIDENCE_STATE   object \n",
      " 3   ZIP5              object \n",
      " 4   min_driving_2020  float64\n",
      " 5   min_driving_2022  float64\n",
      " 6   band_diff         float64\n",
      "dtypes: float64(3), object(4)\n",
      "memory usage: 169.4+ MB\n"
     ]
    }
   ],
   "source": [
    "adddrivingmaster.info()"
   ]
  },
  {
   "cell_type": "code",
   "execution_count": 75,
   "id": "distinguished-biotechnology",
   "metadata": {
    "scrolled": true
   },
   "outputs": [],
   "source": [
    "voterdriving = pd.merge(voter1,adddrivingmaster, on =  ['st_address','RESIDENCE_CITY','RESIDENCE_STATE','ZIP5'], how = 'left')"
   ]
  },
  {
   "cell_type": "code",
   "execution_count": 76,
   "id": "little-battle",
   "metadata": {},
   "outputs": [],
   "source": [
    "voterdriving = voterdriving.rename(columns = {'band_diff':'driving_band_diff'})"
   ]
  },
  {
   "cell_type": "code",
   "execution_count": 77,
   "id": "russian-oriental",
   "metadata": {},
   "outputs": [],
   "source": [
    "votertransit2 = votertransit1.iloc[:,[1,2,3,4,5,6,7,8,9,10,11,12,15,16,19,20,21,30]].copy().drop_duplicates()"
   ]
  },
  {
   "cell_type": "code",
   "execution_count": 78,
   "id": "analyzed-usage",
   "metadata": {},
   "outputs": [
    {
     "name": "stdout",
     "output_type": "stream",
     "text": [
      "<class 'pandas.core.frame.DataFrame'>\n",
      "Int64Index: 7528561 entries, 0 to 7528560\n",
      "Data columns (total 18 columns):\n",
      " #   Column               Dtype  \n",
      "---  ------               -----  \n",
      " 0   REGISTRATION_NUMBER  int64  \n",
      " 1   BIRTHDATE            int64  \n",
      " 2   RACE                 object \n",
      " 3   st_address           object \n",
      " 4   RESIDENCE_CITY       object \n",
      " 5   RESIDENCE_STATE      object \n",
      " 6   ZIP5                 object \n",
      " 7   lat                  float64\n",
      " 8   long                 float64\n",
      " 9   min_transit_2020     float64\n",
      " 10  min_transit_2022     float64\n",
      " 11  band_diff            float64\n",
      " 12  urban                object \n",
      " 13  index_right          float64\n",
      " 14  TRACTCE              float64\n",
      " 15  GEOID                object \n",
      " 16  NAME                 float64\n",
      " 17  pct_no_car           float64\n",
      "dtypes: float64(9), int64(2), object(7)\n",
      "memory usage: 1.1+ GB\n"
     ]
    }
   ],
   "source": [
    "votertransit2.info()"
   ]
  },
  {
   "cell_type": "code",
   "execution_count": 79,
   "id": "following-shark",
   "metadata": {},
   "outputs": [
    {
     "data": {
      "text/plain": [
       "1.0"
      ]
     },
     "execution_count": 79,
     "metadata": {},
     "output_type": "execute_result"
    }
   ],
   "source": [
    "len(votertransit2)/len(votertransit1)"
   ]
  },
  {
   "cell_type": "code",
   "execution_count": 80,
   "id": "gross-airplane",
   "metadata": {},
   "outputs": [],
   "source": [
    "votertransit2 = votertransit2.rename(columns = {'band_diff':'transit_band_diff'})"
   ]
  },
  {
   "cell_type": "code",
   "execution_count": 81,
   "id": "standard-boost",
   "metadata": {},
   "outputs": [],
   "source": [
    "traveltimemaster = pd.merge(voterdriving, votertransit2, on = ['REGISTRATION_NUMBER','RACE','st_address','RESIDENCE_CITY','RESIDENCE_STATE','ZIP5','lat','long'], how = 'outer')"
   ]
  },
  {
   "cell_type": "code",
   "execution_count": 82,
   "id": "alleged-fancy",
   "metadata": {},
   "outputs": [
    {
     "data": {
      "text/plain": [
       "1.0"
      ]
     },
     "execution_count": 82,
     "metadata": {},
     "output_type": "execute_result"
    }
   ],
   "source": [
    "len(traveltimemaster)/len(voterdriving)"
   ]
  },
  {
   "cell_type": "code",
   "execution_count": 83,
   "id": "cloudy-passion",
   "metadata": {
    "scrolled": true
   },
   "outputs": [
    {
     "data": {
      "text/plain": [
       "1.0"
      ]
     },
     "execution_count": 83,
     "metadata": {},
     "output_type": "execute_result"
    }
   ],
   "source": [
    "len(traveltimemaster)/len(votertransit2)"
   ]
  },
  {
   "cell_type": "code",
   "execution_count": 84,
   "id": "musical-navigator",
   "metadata": {},
   "outputs": [
    {
     "data": {
      "text/plain": [
       "7528561"
      ]
     },
     "execution_count": 84,
     "metadata": {},
     "output_type": "execute_result"
    }
   ],
   "source": [
    "len(voterdriving)"
   ]
  },
  {
   "cell_type": "code",
   "execution_count": 85,
   "id": "accepted-mentor",
   "metadata": {},
   "outputs": [],
   "source": [
    "def compareval(x,y):\n",
    "    if pd.isna(x) == True:\n",
    "        return(y)\n",
    "    if pd.isna(y) == True:\n",
    "        return (x)\n",
    "    else:\n",
    "        if x >= y:\n",
    "            return (y)\n",
    "        else:\n",
    "            return (x)"
   ]
  },
  {
   "cell_type": "code",
   "execution_count": 86,
   "id": "atomic-berlin",
   "metadata": {},
   "outputs": [],
   "source": [
    "traveltimemaster['min_travel_time_2020'] = [ compareval(x,y) for (x,y) in zip(traveltimemaster.min_driving_2020, traveltimemaster.min_transit_2020)]"
   ]
  },
  {
   "cell_type": "code",
   "execution_count": 87,
   "id": "latin-qatar",
   "metadata": {},
   "outputs": [
    {
     "data": {
      "text/plain": [
       "6862276"
      ]
     },
     "execution_count": 87,
     "metadata": {},
     "output_type": "execute_result"
    }
   ],
   "source": [
    "traveltimemaster.min_travel_time_2020.value_counts().sum()"
   ]
  },
  {
   "cell_type": "code",
   "execution_count": 88,
   "id": "english-dutch",
   "metadata": {},
   "outputs": [],
   "source": [
    "traveltimemaster['min_travel_time_2022'] = [compareval(x,y) for (x,y) in zip(traveltimemaster.min_driving_2022, traveltimemaster.min_transit_2022)]"
   ]
  },
  {
   "cell_type": "code",
   "execution_count": 89,
   "id": "altered-warner",
   "metadata": {
    "scrolled": true
   },
   "outputs": [
    {
     "data": {
      "text/plain": [
       "7458177"
      ]
     },
     "execution_count": 89,
     "metadata": {},
     "output_type": "execute_result"
    }
   ],
   "source": [
    "traveltimemaster.min_travel_time_2022.value_counts().sum()"
   ]
  },
  {
   "cell_type": "code",
   "execution_count": 90,
   "id": "acute-locator",
   "metadata": {},
   "outputs": [
    {
     "data": {
      "text/plain": [
       "595901"
      ]
     },
     "execution_count": 90,
     "metadata": {},
     "output_type": "execute_result"
    }
   ],
   "source": [
    "traveltimemaster.min_travel_time_2022.value_counts().sum() - traveltimemaster.min_travel_time_2020.value_counts().sum()"
   ]
  },
  {
   "cell_type": "code",
   "execution_count": 91,
   "id": "wicked-encyclopedia",
   "metadata": {},
   "outputs": [],
   "source": [
    "def get_diff(old,new):\n",
    "    if (pd.isna(old) == True) & (pd.isna(new) == False):\n",
    "        return(1)\n",
    "    if (pd.isna(old) == False) & (pd.isna(new) == True):\n",
    "        return(-1)\n",
    "    if (pd.isna(old) == True) & (pd.isna(new) == True):\n",
    "        return(np.nan)\n",
    "    if (pd.isna(old) == False) & (pd.isna(new) == False):\n",
    "        return(old - new)"
   ]
  },
  {
   "cell_type": "code",
   "execution_count": 92,
   "id": "congressional-gazette",
   "metadata": {},
   "outputs": [],
   "source": [
    "traveltimemaster['travel_diff'] = [get_diff(x,y) for (x,y) in zip(traveltimemaster.min_travel_time_2020, traveltimemaster.min_travel_time_2022)]"
   ]
  },
  {
   "cell_type": "raw",
   "id": "buried-sheriff",
   "metadata": {},
   "source": [
    "traveltimemaster.to_csv('202205224_voter_travel_time_master.csv')"
   ]
  },
  {
   "cell_type": "code",
   "execution_count": 93,
   "id": "solved-special",
   "metadata": {},
   "outputs": [],
   "source": [
    "traveltimemaster.urban = [False if pd.isna(x) == True else x for x in traveltimemaster.urban]"
   ]
  },
  {
   "cell_type": "code",
   "execution_count": 94,
   "id": "educational-fairy",
   "metadata": {},
   "outputs": [],
   "source": [
    "income = pd.read_csv('median_household_income_ACSDT5Y2020.B19013_2022-05-24T100026/ACSDT5Y2020.B19013_data_with_overlays_2022-05-24T100020.csv')"
   ]
  },
  {
   "cell_type": "code",
   "execution_count": 95,
   "id": "outdoor-shock",
   "metadata": {},
   "outputs": [],
   "source": [
    "income = income.drop(0)\n",
    "income = income.drop(['NAME','B19013_001M'], axis = 1)\n",
    "income['GEOID'] = [x.split('US')[1] for x in income.GEO_ID]\n",
    "income = income.drop('GEO_ID', axis = 1)\n",
    "income = income.rename(columns = {'B19013_001E':'median_household_income'})"
   ]
  },
  {
   "cell_type": "code",
   "execution_count": 96,
   "id": "competitive-triangle",
   "metadata": {},
   "outputs": [],
   "source": [
    "traveltimemaster1 = pd.merge(traveltimemaster,income, on = 'GEOID', how = 'left')"
   ]
  },
  {
   "cell_type": "raw",
   "id": "needed-orleans",
   "metadata": {},
   "source": [
    "del traveltimemaster"
   ]
  },
  {
   "cell_type": "code",
   "execution_count": 97,
   "id": "qualified-strip",
   "metadata": {},
   "outputs": [],
   "source": [
    "def clean_income(x):\n",
    "    if x == '-':\n",
    "        return(np.nan)\n",
    "    if x == '250,000+':\n",
    "        return (250000)\n",
    "    else:\n",
    "        return(float(x))"
   ]
  },
  {
   "cell_type": "code",
   "execution_count": 98,
   "id": "suited-fourth",
   "metadata": {},
   "outputs": [],
   "source": [
    "traveltimemaster1['income_cleaned'] = [clean_income(x) for x in traveltimemaster1.median_household_income]"
   ]
  },
  {
   "cell_type": "code",
   "execution_count": 99,
   "id": "compressed-words",
   "metadata": {},
   "outputs": [],
   "source": [
    "import mapclassify"
   ]
  },
  {
   "cell_type": "code",
   "execution_count": 100,
   "id": "married-private",
   "metadata": {},
   "outputs": [],
   "source": [
    "incomebins = mapclassify.Quantiles(traveltimemaster1[pd.isna(traveltimemaster1.income_cleaned) == False].income_cleaned, k=4).bins"
   ]
  },
  {
   "cell_type": "code",
   "execution_count": 101,
   "id": "verbal-blowing",
   "metadata": {},
   "outputs": [],
   "source": [
    "def get_qt(num):\n",
    "    if num <= incomebins[0]:\n",
    "        return 1\n",
    "    else:\n",
    "        if (num > incomebins[0]) & (num <= incomebins[1]):\n",
    "            return (2)\n",
    "        else:\n",
    "            if (num > incomebins[1]) & (num <= incomebins[2]):\n",
    "                return(3)\n",
    "            else:\n",
    "                if(num > incomebins[2]) & (num <= incomebins[3]):\n",
    "                    return(4)\n",
    "                else:\n",
    "                    return(np.nan)\n"
   ]
  },
  {
   "cell_type": "code",
   "execution_count": 102,
   "id": "elder-anthony",
   "metadata": {},
   "outputs": [],
   "source": [
    "traveltimemaster1['income_qt'] = [get_qt(x) for x in traveltimemaster1.income_cleaned]"
   ]
  },
  {
   "cell_type": "code",
   "execution_count": 103,
   "id": "swedish-lightweight",
   "metadata": {},
   "outputs": [],
   "source": [
    "age = pd.read_csv('20220526_voter_age.csv')"
   ]
  },
  {
   "cell_type": "code",
   "execution_count": 104,
   "id": "abandoned-departure",
   "metadata": {},
   "outputs": [],
   "source": [
    "traveltimemaster2 = pd.merge(traveltimemaster1, age, on = 'REGISTRATION_NUMBER', how = 'left')"
   ]
  },
  {
   "cell_type": "code",
   "execution_count": 105,
   "id": "apart-kingston",
   "metadata": {},
   "outputs": [
    {
     "name": "stdout",
     "output_type": "stream",
     "text": [
      "<class 'pandas.core.frame.DataFrame'>\n",
      "Int64Index: 7528561 entries, 0 to 7528560\n",
      "Data columns (total 31 columns):\n",
      " #   Column                   Dtype  \n",
      "---  ------                   -----  \n",
      " 0   Unnamed: 0_x             int64  \n",
      " 1   REGISTRATION_NUMBER      int64  \n",
      " 2   BIRTHDATE_x              int64  \n",
      " 3   RACE                     object \n",
      " 4   st_address               object \n",
      " 5   RESIDENCE_CITY           object \n",
      " 6   RESIDENCE_STATE          object \n",
      " 7   ZIP5                     object \n",
      " 8   lat                      float64\n",
      " 9   long                     float64\n",
      " 10  min_driving_2020         float64\n",
      " 11  min_driving_2022         float64\n",
      " 12  driving_band_diff        float64\n",
      " 13  BIRTHDATE_y              int64  \n",
      " 14  min_transit_2020         float64\n",
      " 15  min_transit_2022         float64\n",
      " 16  transit_band_diff        float64\n",
      " 17  urban                    bool   \n",
      " 18  index_right              float64\n",
      " 19  TRACTCE                  float64\n",
      " 20  GEOID                    object \n",
      " 21  NAME                     float64\n",
      " 22  pct_no_car               float64\n",
      " 23  min_travel_time_2020     float64\n",
      " 24  min_travel_time_2022     float64\n",
      " 25  travel_diff              float64\n",
      " 26  median_household_income  object \n",
      " 27  income_cleaned           float64\n",
      " 28  income_qt                float64\n",
      " 29  Unnamed: 0_y             int64  \n",
      " 30  age                      int64  \n",
      "dtypes: bool(1), float64(17), int64(6), object(7)\n",
      "memory usage: 1.7+ GB\n"
     ]
    }
   ],
   "source": [
    "traveltimemaster2.info()"
   ]
  },
  {
   "cell_type": "code",
   "execution_count": 106,
   "id": "favorite-phrase",
   "metadata": {},
   "outputs": [
    {
     "data": {
      "text/plain": [
       "1.0"
      ]
     },
     "execution_count": 106,
     "metadata": {},
     "output_type": "execute_result"
    }
   ],
   "source": [
    "len(traveltimemaster1)/len(traveltimemaster2)"
   ]
  },
  {
   "cell_type": "raw",
   "id": "presidential-elimination",
   "metadata": {},
   "source": [
    "del traveltimemaster1"
   ]
  },
  {
   "cell_type": "raw",
   "id": "affected-voice",
   "metadata": {},
   "source": [
    "traveltimemaster2.to_csv('20220527_voter_travel_demo_info.csv')"
   ]
  },
  {
   "cell_type": "markdown",
   "id": "copyrighted-furniture",
   "metadata": {},
   "source": [
    "adding precinct voting data"
   ]
  },
  {
   "cell_type": "code",
   "execution_count": 107,
   "id": "interior-oxide",
   "metadata": {},
   "outputs": [],
   "source": [
    "precinct = gpd.read_file('precincts-with-results.geojson/precincts-with-results.geojson')"
   ]
  },
  {
   "cell_type": "code",
   "execution_count": 108,
   "id": "genetic-winning",
   "metadata": {},
   "outputs": [],
   "source": [
    "traveltimemaster2['county_fips'] = [x[:5] for x in traveltimemaster2.GEOID]"
   ]
  },
  {
   "cell_type": "code",
   "execution_count": 109,
   "id": "inner-injury",
   "metadata": {},
   "outputs": [],
   "source": [
    "GAcounty = list(traveltimemaster2.county_fips.unique())"
   ]
  },
  {
   "cell_type": "code",
   "execution_count": 110,
   "id": "environmental-change",
   "metadata": {},
   "outputs": [
    {
     "data": {
      "text/plain": [
       "160"
      ]
     },
     "execution_count": 110,
     "metadata": {},
     "output_type": "execute_result"
    }
   ],
   "source": [
    "len(GAcounty)"
   ]
  },
  {
   "cell_type": "code",
   "execution_count": 111,
   "id": "medical-toner",
   "metadata": {},
   "outputs": [],
   "source": [
    "precinct['county_fips'] = [x.split('-')[0] for x in precinct.GEOID ]"
   ]
  },
  {
   "cell_type": "code",
   "execution_count": 112,
   "id": "wireless-bread",
   "metadata": {},
   "outputs": [],
   "source": [
    "GAprecinct = precinct[precinct.county_fips.isin(GAcounty)].copy()"
   ]
  },
  {
   "cell_type": "code",
   "execution_count": 113,
   "id": "temporal-optimization",
   "metadata": {},
   "outputs": [],
   "source": [
    "del precinct"
   ]
  },
  {
   "cell_type": "code",
   "execution_count": 114,
   "id": "portable-aspect",
   "metadata": {},
   "outputs": [
    {
     "name": "stdout",
     "output_type": "stream",
     "text": [
      "<class 'geopandas.geodataframe.GeoDataFrame'>\n",
      "Int64Index: 4 entries, 33770 to 35708\n",
      "Data columns (total 8 columns):\n",
      " #   Column          Non-Null Count  Dtype   \n",
      "---  ------          --------------  -----   \n",
      " 0   GEOID           4 non-null      object  \n",
      " 1   votes_dem       4 non-null      float64 \n",
      " 2   votes_rep       4 non-null      float64 \n",
      " 3   votes_total     4 non-null      float64 \n",
      " 4   votes_per_sqkm  4 non-null      float64 \n",
      " 5   pct_dem_lead    4 non-null      float64 \n",
      " 6   geometry        4 non-null      geometry\n",
      " 7   county_fips     4 non-null      object  \n",
      "dtypes: float64(5), geometry(1), object(2)\n",
      "memory usage: 288.0+ bytes\n"
     ]
    }
   ],
   "source": [
    "GAprecinct[GAprecinct.pct_dem_lead == 0].info()"
   ]
  },
  {
   "cell_type": "code",
   "execution_count": 115,
   "id": "buried-drunk",
   "metadata": {},
   "outputs": [],
   "source": [
    "def parse_party(x):\n",
    "    if x == 0:\n",
    "        return('tie')\n",
    "    if x > 0:\n",
    "        return('D')\n",
    "    if x < 0:\n",
    "        return('R')\n",
    "    else:\n",
    "        return(np.nan)"
   ]
  },
  {
   "cell_type": "code",
   "execution_count": 116,
   "id": "elect-solomon",
   "metadata": {},
   "outputs": [],
   "source": [
    "GAprecinct['party'] = [parse_party(x) for x in GAprecinct.pct_dem_lead]"
   ]
  },
  {
   "cell_type": "code",
   "execution_count": 117,
   "id": "distributed-elite",
   "metadata": {},
   "outputs": [],
   "source": [
    "GAprecinct1 = GAprecinct[['GEOID','geometry','party']].copy()"
   ]
  },
  {
   "cell_type": "raw",
   "id": "documented-bathroom",
   "metadata": {},
   "source": [
    "del traveltimemaster2"
   ]
  },
  {
   "cell_type": "code",
   "execution_count": 118,
   "id": "controlled-violence",
   "metadata": {},
   "outputs": [],
   "source": [
    "traveltimemaster3 = gpd.GeoDataFrame(traveltimemaster2, geometry=gpd.points_from_xy(traveltimemaster2.long,traveltimemaster2.lat))"
   ]
  },
  {
   "cell_type": "code",
   "execution_count": 119,
   "id": "possible-destination",
   "metadata": {},
   "outputs": [],
   "source": [
    "traveltimemaster3.crs = 'EPSG:4326'"
   ]
  },
  {
   "cell_type": "code",
   "execution_count": 120,
   "id": "motivated-equity",
   "metadata": {
    "scrolled": true
   },
   "outputs": [],
   "source": [
    "traveltimemaster3 = traveltimemaster3.drop('index_right', axis = 1)"
   ]
  },
  {
   "cell_type": "code",
   "execution_count": 121,
   "id": "small-disabled",
   "metadata": {},
   "outputs": [
    {
     "data": {
      "text/plain": [
       "0"
      ]
     },
     "execution_count": 121,
     "metadata": {},
     "output_type": "execute_result"
    }
   ],
   "source": [
    "len(traveltimemaster3) - len(traveltimemaster2)"
   ]
  },
  {
   "cell_type": "code",
   "execution_count": 122,
   "id": "complimentary-stylus",
   "metadata": {},
   "outputs": [],
   "source": [
    "traveltimemaster4 = gpd.sjoin(traveltimemaster3, GAprecinct1, how ='left')"
   ]
  },
  {
   "cell_type": "code",
   "execution_count": 124,
   "id": "listed-yesterday",
   "metadata": {},
   "outputs": [
    {
     "data": {
      "text/html": [
       "<div>\n",
       "<style scoped>\n",
       "    .dataframe tbody tr th:only-of-type {\n",
       "        vertical-align: middle;\n",
       "    }\n",
       "\n",
       "    .dataframe tbody tr th {\n",
       "        vertical-align: top;\n",
       "    }\n",
       "\n",
       "    .dataframe thead th {\n",
       "        text-align: right;\n",
       "    }\n",
       "</style>\n",
       "<table border=\"1\" class=\"dataframe\">\n",
       "  <thead>\n",
       "    <tr style=\"text-align: right;\">\n",
       "      <th></th>\n",
       "      <th>GEOID</th>\n",
       "      <th>geometry</th>\n",
       "      <th>party</th>\n",
       "    </tr>\n",
       "  </thead>\n",
       "  <tbody>\n",
       "    <tr>\n",
       "      <th>33623</th>\n",
       "      <td>13001-5B</td>\n",
       "      <td>POLYGON ((-82.39899 31.70246, -82.39968 31.701...</td>\n",
       "      <td>R</td>\n",
       "    </tr>\n",
       "    <tr>\n",
       "      <th>33624</th>\n",
       "      <td>13001-4B</td>\n",
       "      <td>POLYGON ((-82.25807 31.67926, -82.25736 31.679...</td>\n",
       "      <td>R</td>\n",
       "    </tr>\n",
       "    <tr>\n",
       "      <th>33625</th>\n",
       "      <td>13001-3C</td>\n",
       "      <td>POLYGON ((-82.13442 31.67122, -82.13657 31.671...</td>\n",
       "      <td>R</td>\n",
       "    </tr>\n",
       "    <tr>\n",
       "      <th>33626</th>\n",
       "      <td>13001-1B</td>\n",
       "      <td>POLYGON ((-82.43015 31.96599, -82.42865 31.965...</td>\n",
       "      <td>R</td>\n",
       "    </tr>\n",
       "    <tr>\n",
       "      <th>33627</th>\n",
       "      <td>13001-4D</td>\n",
       "      <td>POLYGON ((-82.42831 31.66111, -82.42682 31.662...</td>\n",
       "      <td>R</td>\n",
       "    </tr>\n",
       "  </tbody>\n",
       "</table>\n",
       "</div>"
      ],
      "text/plain": [
       "          GEOID                                           geometry party\n",
       "33623  13001-5B  POLYGON ((-82.39899 31.70246, -82.39968 31.701...     R\n",
       "33624  13001-4B  POLYGON ((-82.25807 31.67926, -82.25736 31.679...     R\n",
       "33625  13001-3C  POLYGON ((-82.13442 31.67122, -82.13657 31.671...     R\n",
       "33626  13001-1B  POLYGON ((-82.43015 31.96599, -82.42865 31.965...     R\n",
       "33627  13001-4D  POLYGON ((-82.42831 31.66111, -82.42682 31.662...     R"
      ]
     },
     "execution_count": 124,
     "metadata": {},
     "output_type": "execute_result"
    }
   ],
   "source": [
    "GAprecinct1.head()"
   ]
  },
  {
   "cell_type": "code",
   "execution_count": 125,
   "id": "joined-assistant",
   "metadata": {},
   "outputs": [
    {
     "data": {
      "text/plain": [
       "19"
      ]
     },
     "execution_count": 125,
     "metadata": {},
     "output_type": "execute_result"
    }
   ],
   "source": [
    "len(traveltimemaster4)-len(traveltimemaster3)"
   ]
  },
  {
   "cell_type": "markdown",
   "id": "parallel-lindsay",
   "metadata": {},
   "source": [
    "the default is intersect so probably some addresses intersected with mulitple geoids. picking the first one"
   ]
  },
  {
   "cell_type": "code",
   "execution_count": 126,
   "id": "destroyed-advertiser",
   "metadata": {},
   "outputs": [],
   "source": [
    "maxprecinct = pd.DataFrame(traveltimemaster4.groupby(['lat','long']).GEOID_right.first())"
   ]
  },
  {
   "cell_type": "code",
   "execution_count": 127,
   "id": "exceptional-talent",
   "metadata": {},
   "outputs": [],
   "source": [
    "maxprecinct['precint_keep'] = True"
   ]
  },
  {
   "cell_type": "code",
   "execution_count": 128,
   "id": "framed-equality",
   "metadata": {},
   "outputs": [],
   "source": [
    "maxprecinct = maxprecinct.reset_index()\n",
    "maxprecinct = maxprecinct.drop_duplicates().copy()"
   ]
  },
  {
   "cell_type": "code",
   "execution_count": 129,
   "id": "federal-highway",
   "metadata": {},
   "outputs": [
    {
     "data": {
      "text/plain": [
       "3128083"
      ]
     },
     "execution_count": 129,
     "metadata": {},
     "output_type": "execute_result"
    }
   ],
   "source": [
    "len(maxprecinct)"
   ]
  },
  {
   "cell_type": "code",
   "execution_count": 136,
   "id": "enclosed-biotechnology",
   "metadata": {},
   "outputs": [
    {
     "data": {
      "text/html": [
       "<div>\n",
       "<style scoped>\n",
       "    .dataframe tbody tr th:only-of-type {\n",
       "        vertical-align: middle;\n",
       "    }\n",
       "\n",
       "    .dataframe tbody tr th {\n",
       "        vertical-align: top;\n",
       "    }\n",
       "\n",
       "    .dataframe thead th {\n",
       "        text-align: right;\n",
       "    }\n",
       "</style>\n",
       "<table border=\"1\" class=\"dataframe\">\n",
       "  <thead>\n",
       "    <tr style=\"text-align: right;\">\n",
       "      <th></th>\n",
       "      <th>lat</th>\n",
       "      <th>long</th>\n",
       "      <th>GEOID_right</th>\n",
       "      <th>precint_keep</th>\n",
       "    </tr>\n",
       "  </thead>\n",
       "  <tbody>\n",
       "    <tr>\n",
       "      <th>0</th>\n",
       "      <td>30.359767</td>\n",
       "      <td>-82.162196</td>\n",
       "      <td>13049-GEORGIA BEND FIRE STATION (3B)</td>\n",
       "      <td>True</td>\n",
       "    </tr>\n",
       "    <tr>\n",
       "      <th>1</th>\n",
       "      <td>30.359843</td>\n",
       "      <td>-82.162622</td>\n",
       "      <td>13049-GEORGIA BEND FIRE STATION (3B)</td>\n",
       "      <td>True</td>\n",
       "    </tr>\n",
       "    <tr>\n",
       "      <th>2</th>\n",
       "      <td>30.359877</td>\n",
       "      <td>-82.162928</td>\n",
       "      <td>13049-GEORGIA BEND FIRE STATION (3B)</td>\n",
       "      <td>True</td>\n",
       "    </tr>\n",
       "    <tr>\n",
       "      <th>3</th>\n",
       "      <td>30.359960</td>\n",
       "      <td>-82.160714</td>\n",
       "      <td>13049-GEORGIA BEND FIRE STATION (3B)</td>\n",
       "      <td>True</td>\n",
       "    </tr>\n",
       "    <tr>\n",
       "      <th>4</th>\n",
       "      <td>30.359978</td>\n",
       "      <td>-82.164920</td>\n",
       "      <td>13049-GEORGIA BEND FIRE STATION (3B)</td>\n",
       "      <td>True</td>\n",
       "    </tr>\n",
       "  </tbody>\n",
       "</table>\n",
       "</div>"
      ],
      "text/plain": [
       "         lat       long                           GEOID_right  precint_keep\n",
       "0  30.359767 -82.162196  13049-GEORGIA BEND FIRE STATION (3B)          True\n",
       "1  30.359843 -82.162622  13049-GEORGIA BEND FIRE STATION (3B)          True\n",
       "2  30.359877 -82.162928  13049-GEORGIA BEND FIRE STATION (3B)          True\n",
       "3  30.359960 -82.160714  13049-GEORGIA BEND FIRE STATION (3B)          True\n",
       "4  30.359978 -82.164920  13049-GEORGIA BEND FIRE STATION (3B)          True"
      ]
     },
     "execution_count": 136,
     "metadata": {},
     "output_type": "execute_result"
    }
   ],
   "source": [
    "maxprecinct.head()"
   ]
  },
  {
   "cell_type": "code",
   "execution_count": 130,
   "id": "innocent-local",
   "metadata": {},
   "outputs": [],
   "source": [
    "traveltimemaster4.lat = np.round(traveltimemaster4.lat,6)\n",
    "traveltimemaster4.long = np.round(traveltimemaster4.long,6)"
   ]
  },
  {
   "cell_type": "code",
   "execution_count": 131,
   "id": "affiliated-cosmetic",
   "metadata": {},
   "outputs": [],
   "source": [
    "maxprecinct.lat = np.round(maxprecinct.lat,6)\n",
    "maxprecinct.long = np.round(maxprecinct.long,6)"
   ]
  },
  {
   "cell_type": "code",
   "execution_count": 178,
   "id": "improving-mentor",
   "metadata": {},
   "outputs": [],
   "source": [
    "maxprecinct = maxprecinct.drop_duplicates()"
   ]
  },
  {
   "cell_type": "code",
   "execution_count": 181,
   "id": "requested-waste",
   "metadata": {},
   "outputs": [
    {
     "data": {
      "text/plain": [
       "3127203"
      ]
     },
     "execution_count": 181,
     "metadata": {},
     "output_type": "execute_result"
    }
   ],
   "source": [
    "len(maxprecinct)"
   ]
  },
  {
   "cell_type": "code",
   "execution_count": 184,
   "id": "major-emergency",
   "metadata": {},
   "outputs": [],
   "source": [
    "del traveltimemaster\n",
    "del traveltimemaster1\n",
    "del traveltimemaster2\n",
    "del traveltimemaster3"
   ]
  },
  {
   "cell_type": "code",
   "execution_count": 185,
   "id": "unauthorized-stereo",
   "metadata": {},
   "outputs": [],
   "source": [
    "traveltimemaster5 = traveltimemaster4.merge(maxprecinct, on = ['lat','long','GEOID_right'], how = 'left')"
   ]
  },
  {
   "cell_type": "code",
   "execution_count": 188,
   "id": "protective-upset",
   "metadata": {},
   "outputs": [
    {
     "data": {
      "text/plain": [
       "-19"
      ]
     },
     "execution_count": 188,
     "metadata": {},
     "output_type": "execute_result"
    }
   ],
   "source": [
    "len(traveltimemaster5[traveltimemaster5.precint_keep == True])-len(traveltimemaster4)"
   ]
  },
  {
   "cell_type": "code",
   "execution_count": 192,
   "id": "expanded-plenty",
   "metadata": {},
   "outputs": [],
   "source": [
    "traveltimemaster5 = traveltimemaster5[traveltimemaster5.precint_keep  == True]"
   ]
  },
  {
   "cell_type": "code",
   "execution_count": 193,
   "id": "wound-reservation",
   "metadata": {},
   "outputs": [],
   "source": [
    "geoidcnt = pd.DataFrame(traveltimemaster5.groupby('REGISTRATION_NUMBER').GEOID_right.count())"
   ]
  },
  {
   "cell_type": "code",
   "execution_count": 194,
   "id": "regional-trustee",
   "metadata": {},
   "outputs": [
    {
     "data": {
      "text/html": [
       "<div>\n",
       "<style scoped>\n",
       "    .dataframe tbody tr th:only-of-type {\n",
       "        vertical-align: middle;\n",
       "    }\n",
       "\n",
       "    .dataframe tbody tr th {\n",
       "        vertical-align: top;\n",
       "    }\n",
       "\n",
       "    .dataframe thead th {\n",
       "        text-align: right;\n",
       "    }\n",
       "</style>\n",
       "<table border=\"1\" class=\"dataframe\">\n",
       "  <thead>\n",
       "    <tr style=\"text-align: right;\">\n",
       "      <th></th>\n",
       "      <th>GEOID_right</th>\n",
       "    </tr>\n",
       "    <tr>\n",
       "      <th>REGISTRATION_NUMBER</th>\n",
       "      <th></th>\n",
       "    </tr>\n",
       "  </thead>\n",
       "  <tbody>\n",
       "  </tbody>\n",
       "</table>\n",
       "</div>"
      ],
      "text/plain": [
       "Empty DataFrame\n",
       "Columns: [GEOID_right]\n",
       "Index: []"
      ]
     },
     "execution_count": 194,
     "metadata": {},
     "output_type": "execute_result"
    }
   ],
   "source": [
    "geoidcnt[geoidcnt.GEOID_right > 1].head()"
   ]
  },
  {
   "cell_type": "code",
   "execution_count": 196,
   "id": "sized-assembly",
   "metadata": {},
   "outputs": [
    {
     "data": {
      "text/plain": [
       "14.8"
      ]
     },
     "execution_count": 196,
     "metadata": {},
     "output_type": "execute_result"
    }
   ],
   "source": [
    "traveltimemaster5.pct_no_car.quantile(.9)"
   ]
  },
  {
   "cell_type": "code",
   "execution_count": 197,
   "id": "spare-spanking",
   "metadata": {},
   "outputs": [],
   "source": [
    "traveltimemaster5['no_car'] = [1 if x >= 14.8 else 0 for x in traveltimemaster5.pct_no_car]"
   ]
  },
  {
   "cell_type": "code",
   "execution_count": 198,
   "id": "ranging-production",
   "metadata": {},
   "outputs": [],
   "source": [
    "traveltimemaster5['elderly'] = [1 if x>=65 else 0 for x in traveltimemaster5.age]"
   ]
  },
  {
   "cell_type": "code",
   "execution_count": 199,
   "id": "annoying-express",
   "metadata": {},
   "outputs": [],
   "source": [
    "traveltimemaster5['min_travel_2020_recode'] = [1200 if x == 900 else x for x in traveltimemaster5.min_travel_time_2020]"
   ]
  },
  {
   "cell_type": "code",
   "execution_count": 200,
   "id": "functioning-macedonia",
   "metadata": {},
   "outputs": [],
   "source": [
    "traveltimemaster5['min_travel_2022_recode'] = [1200 if x == 900 else x for x in traveltimemaster5.min_travel_time_2022]"
   ]
  },
  {
   "cell_type": "code",
   "execution_count": 201,
   "id": "noticed-palestine",
   "metadata": {
    "scrolled": true
   },
   "outputs": [
    {
     "name": "stdout",
     "output_type": "stream",
     "text": [
      "<class 'geopandas.geodataframe.GeoDataFrame'>\n",
      "Int64Index: 7528561 entries, 0 to 7528579\n",
      "Data columns (total 40 columns):\n",
      " #   Column                   Dtype   \n",
      "---  ------                   -----   \n",
      " 0   Unnamed: 0_x             int64   \n",
      " 1   REGISTRATION_NUMBER      int64   \n",
      " 2   BIRTHDATE_x              int64   \n",
      " 3   RACE                     object  \n",
      " 4   st_address               object  \n",
      " 5   RESIDENCE_CITY           object  \n",
      " 6   RESIDENCE_STATE          object  \n",
      " 7   ZIP5                     object  \n",
      " 8   lat                      float64 \n",
      " 9   long                     float64 \n",
      " 10  min_driving_2020         float64 \n",
      " 11  min_driving_2022         float64 \n",
      " 12  driving_band_diff        float64 \n",
      " 13  BIRTHDATE_y              int64   \n",
      " 14  min_transit_2020         float64 \n",
      " 15  min_transit_2022         float64 \n",
      " 16  transit_band_diff        float64 \n",
      " 17  urban                    bool    \n",
      " 18  TRACTCE                  float64 \n",
      " 19  GEOID_left               object  \n",
      " 20  NAME                     float64 \n",
      " 21  pct_no_car               float64 \n",
      " 22  min_travel_time_2020     float64 \n",
      " 23  min_travel_time_2022     float64 \n",
      " 24  travel_diff              float64 \n",
      " 25  median_household_income  object  \n",
      " 26  income_cleaned           float64 \n",
      " 27  income_qt                float64 \n",
      " 28  Unnamed: 0_y             int64   \n",
      " 29  age                      int64   \n",
      " 30  county_fips              object  \n",
      " 31  geometry                 geometry\n",
      " 32  index_right              float64 \n",
      " 33  GEOID_right              object  \n",
      " 34  party                    object  \n",
      " 35  precint_keep             object  \n",
      " 36  no_car                   int64   \n",
      " 37  elderly                  int64   \n",
      " 38  min_travel_2020_recode   float64 \n",
      " 39  min_travel_2022_recode   float64 \n",
      "dtypes: bool(1), float64(19), geometry(1), int64(8), object(11)\n",
      "memory usage: 2.3+ GB\n"
     ]
    }
   ],
   "source": [
    "traveltimemaster5.info()"
   ]
  },
  {
   "cell_type": "raw",
   "id": "divine-prediction",
   "metadata": {},
   "source": [
    "traveltimemaster5.drop('geometry', axis = 1).to_csv('20220530_voter_data_all_vars.csv')"
   ]
  }
 ],
 "metadata": {
  "kernelspec": {
   "display_name": "Python 3",
   "language": "python",
   "name": "python3"
  },
  "language_info": {
   "codemirror_mode": {
    "name": "ipython",
    "version": 3
   },
   "file_extension": ".py",
   "mimetype": "text/x-python",
   "name": "python",
   "nbconvert_exporter": "python",
   "pygments_lexer": "ipython3",
   "version": "3.6.12"
  }
 },
 "nbformat": 4,
 "nbformat_minor": 5
}
