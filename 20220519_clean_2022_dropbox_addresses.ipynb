{
 "cells": [
  {
   "cell_type": "code",
   "execution_count": 1,
   "id": "thermal-ribbon",
   "metadata": {},
   "outputs": [],
   "source": [
    "import pandas as pd\n",
    "import json\n",
    "import csv\n",
    "import io\n",
    "import requests\n",
    "import geopandas as gpd\n",
    "import os\n",
    "import matplotlib.pyplot as plt\n",
    "import json\n",
    "from datetime import datetime\n",
    "import numpy as np"
   ]
  },
  {
   "cell_type": "code",
   "execution_count": 2,
   "id": "textile-royal",
   "metadata": {},
   "outputs": [],
   "source": [
    "os.chdir('C:/Users/jhuo/Documents/20220421_WABE_SB202')"
   ]
  },
  {
   "cell_type": "code",
   "execution_count": 3,
   "id": "expected-cache",
   "metadata": {},
   "outputs": [],
   "source": [
    "jan_21 = pd.read_csv('20220504_all_dec_2020_dropboxes.csv')"
   ]
  },
  {
   "cell_type": "code",
   "execution_count": 4,
   "id": "antique-smell",
   "metadata": {},
   "outputs": [],
   "source": [
    "may_22 = pd.read_excel('Georgia Drop Box List - 2022 Primary - 5-3-22.xlsx')"
   ]
  },
  {
   "cell_type": "code",
   "execution_count": 5,
   "id": "selective-somalia",
   "metadata": {},
   "outputs": [
    {
     "data": {
      "text/html": [
       "<div>\n",
       "<style scoped>\n",
       "    .dataframe tbody tr th:only-of-type {\n",
       "        vertical-align: middle;\n",
       "    }\n",
       "\n",
       "    .dataframe tbody tr th {\n",
       "        vertical-align: top;\n",
       "    }\n",
       "\n",
       "    .dataframe thead th {\n",
       "        text-align: right;\n",
       "    }\n",
       "</style>\n",
       "<table border=\"1\" class=\"dataframe\">\n",
       "  <thead>\n",
       "    <tr style=\"text-align: right;\">\n",
       "      <th></th>\n",
       "      <th>Unnamed: 0</th>\n",
       "      <th>address</th>\n",
       "      <th>lat</th>\n",
       "      <th>long</th>\n",
       "    </tr>\n",
       "  </thead>\n",
       "  <tbody>\n",
       "    <tr>\n",
       "      <th>252</th>\n",
       "      <td>23</td>\n",
       "      <td>16 W. Forest Ave, Suite 101, Alamo GA 30411</td>\n",
       "      <td>32.148609</td>\n",
       "      <td>-82.782954</td>\n",
       "    </tr>\n",
       "    <tr>\n",
       "      <th>253</th>\n",
       "      <td>24</td>\n",
       "      <td>980 Pomce De Leon Ave NE Atlanta HA 30306</td>\n",
       "      <td>33.773877</td>\n",
       "      <td>-84.355291</td>\n",
       "    </tr>\n",
       "    <tr>\n",
       "      <th>254</th>\n",
       "      <td>0</td>\n",
       "      <td>122 W. Water Street, Bainbridge, GA 39817</td>\n",
       "      <td>30.906713</td>\n",
       "      <td>-84.576665</td>\n",
       "    </tr>\n",
       "    <tr>\n",
       "      <th>255</th>\n",
       "      <td>1</td>\n",
       "      <td>32 North Court Ave, Camilla, GA 31730</td>\n",
       "      <td>31.232103</td>\n",
       "      <td>-84.209399</td>\n",
       "    </tr>\n",
       "    <tr>\n",
       "      <th>256</th>\n",
       "      <td>2</td>\n",
       "      <td>46 Old School Rd. Georgetown, GA 39854</td>\n",
       "      <td>31.885024</td>\n",
       "      <td>-85.100646</td>\n",
       "    </tr>\n",
       "  </tbody>\n",
       "</table>\n",
       "</div>"
      ],
      "text/plain": [
       "     Unnamed: 0                                      address        lat  \\\n",
       "252          23  16 W. Forest Ave, Suite 101, Alamo GA 30411  32.148609   \n",
       "253          24    980 Pomce De Leon Ave NE Atlanta HA 30306  33.773877   \n",
       "254           0    122 W. Water Street, Bainbridge, GA 39817  30.906713   \n",
       "255           1        32 North Court Ave, Camilla, GA 31730  31.232103   \n",
       "256           2       46 Old School Rd. Georgetown, GA 39854  31.885024   \n",
       "\n",
       "          long  \n",
       "252 -82.782954  \n",
       "253 -84.355291  \n",
       "254 -84.576665  \n",
       "255 -84.209399  \n",
       "256 -85.100646  "
      ]
     },
     "execution_count": 5,
     "metadata": {},
     "output_type": "execute_result"
    }
   ],
   "source": [
    "jan_21.tail()"
   ]
  },
  {
   "cell_type": "code",
   "execution_count": 6,
   "id": "fossil-patio",
   "metadata": {},
   "outputs": [],
   "source": [
    "may_22addr = may_22[['Address']].copy()"
   ]
  },
  {
   "cell_type": "code",
   "execution_count": 7,
   "id": "marked-thomson",
   "metadata": {},
   "outputs": [],
   "source": [
    "may_22addr.Address = may_22addr.Address.str.strip()\n",
    "may_22addr.columns = may_22addr.columns.str.lower()"
   ]
  },
  {
   "cell_type": "code",
   "execution_count": 8,
   "id": "empirical-british",
   "metadata": {},
   "outputs": [],
   "source": [
    "may_22addr['may'] = True"
   ]
  },
  {
   "cell_type": "code",
   "execution_count": 9,
   "id": "greater-columbus",
   "metadata": {},
   "outputs": [],
   "source": [
    "addrcompare = pd.merge(jan_21, may_22addr, on = 'address', how = 'outer')"
   ]
  },
  {
   "cell_type": "code",
   "execution_count": 10,
   "id": "rolled-conjunction",
   "metadata": {},
   "outputs": [
    {
     "data": {
      "text/html": [
       "<div>\n",
       "<style scoped>\n",
       "    .dataframe tbody tr th:only-of-type {\n",
       "        vertical-align: middle;\n",
       "    }\n",
       "\n",
       "    .dataframe tbody tr th {\n",
       "        vertical-align: top;\n",
       "    }\n",
       "\n",
       "    .dataframe thead th {\n",
       "        text-align: right;\n",
       "    }\n",
       "</style>\n",
       "<table border=\"1\" class=\"dataframe\">\n",
       "  <thead>\n",
       "    <tr style=\"text-align: right;\">\n",
       "      <th></th>\n",
       "      <th>Unnamed: 0</th>\n",
       "      <th>address</th>\n",
       "      <th>lat</th>\n",
       "      <th>long</th>\n",
       "      <th>may</th>\n",
       "    </tr>\n",
       "  </thead>\n",
       "  <tbody>\n",
       "    <tr>\n",
       "      <th>74</th>\n",
       "      <td>105.0</td>\n",
       "      <td>1201 Sawnee Drive, Cumming, GA 30040</td>\n",
       "      <td>34.223824</td>\n",
       "      <td>-84.139148</td>\n",
       "      <td>True</td>\n",
       "    </tr>\n",
       "  </tbody>\n",
       "</table>\n",
       "</div>"
      ],
      "text/plain": [
       "    Unnamed: 0                               address        lat       long  \\\n",
       "74       105.0  1201 Sawnee Drive, Cumming, GA 30040  34.223824 -84.139148   \n",
       "\n",
       "     may  \n",
       "74  True  "
      ]
     },
     "execution_count": 10,
     "metadata": {},
     "output_type": "execute_result"
    }
   ],
   "source": [
    "addrcompare[(addrcompare.address.str.contains('Sawnee')) & (pd.isna(addrcompare.address) == False)]"
   ]
  },
  {
   "cell_type": "code",
   "execution_count": 11,
   "id": "interracial-difficulty",
   "metadata": {},
   "outputs": [],
   "source": [
    "processed = addrcompare[(pd.isna(addrcompare.may) == False) & (pd.isna(addrcompare.lat) == False)].copy()"
   ]
  },
  {
   "cell_type": "code",
   "execution_count": 12,
   "id": "further-minnesota",
   "metadata": {},
   "outputs": [],
   "source": [
    "processed1 = processed[['address','lat','long']].copy()"
   ]
  },
  {
   "cell_type": "raw",
   "id": "rational-details",
   "metadata": {
    "scrolled": false
   },
   "source": [
    "# filtering out the may addresses that haven't been geocoded\n",
    "addrcompare[(pd.isna(addrcompare.may) == False) & (pd.isna(addrcompare.lat) == True)].to_csv('20220505_may_22_dropbox_to_geocode.csv')"
   ]
  },
  {
   "cell_type": "code",
   "execution_count": 13,
   "id": "satisfied-block",
   "metadata": {},
   "outputs": [],
   "source": [
    "# ran the results by geocodio and ArcGIS. stiching them back together."
   ]
  },
  {
   "cell_type": "code",
   "execution_count": 14,
   "id": "advance-johns",
   "metadata": {},
   "outputs": [],
   "source": [
    "geocodio = pd.read_csv('20220505_may_22_dropbox_to_geocode_geocodio_deeb0c3104c781420f452237c143ada5a97788ff.csv')"
   ]
  },
  {
   "cell_type": "code",
   "execution_count": 15,
   "id": "independent-prague",
   "metadata": {},
   "outputs": [],
   "source": [
    "geocodioft = geocodio[(geocodio['Accuracy Type'] == 'rooftop') | (geocodio['Accuracy Type'] == 'range_interpolation')][['address','Latitude','Longitude']].copy()"
   ]
  },
  {
   "cell_type": "code",
   "execution_count": 16,
   "id": "comparative-rabbit",
   "metadata": {},
   "outputs": [],
   "source": [
    "geocodioft.columns = ['address','lat','long']"
   ]
  },
  {
   "cell_type": "code",
   "execution_count": 17,
   "id": "hearing-fifty",
   "metadata": {},
   "outputs": [],
   "source": [
    "arc = pd.read_excel('c20220505_may_22_dropbox_to__TableToExcel_1.xlsx')"
   ]
  },
  {
   "cell_type": "code",
   "execution_count": 18,
   "id": "indonesian-riverside",
   "metadata": {},
   "outputs": [],
   "source": [
    "arc1 = arc[['USER_address','X','Y']].copy()\n",
    "arc1.columns = ['address','long','lat']"
   ]
  },
  {
   "cell_type": "code",
   "execution_count": 19,
   "id": "reserved-source",
   "metadata": {},
   "outputs": [],
   "source": [
    "weirdo = jan_21[jan_21.address.str.contains('old school', case = False)][['address','lat','long']].copy()"
   ]
  },
  {
   "cell_type": "code",
   "execution_count": 20,
   "id": "bigger-drove",
   "metadata": {},
   "outputs": [
    {
     "data": {
      "text/html": [
       "<div>\n",
       "<style scoped>\n",
       "    .dataframe tbody tr th:only-of-type {\n",
       "        vertical-align: middle;\n",
       "    }\n",
       "\n",
       "    .dataframe tbody tr th {\n",
       "        vertical-align: top;\n",
       "    }\n",
       "\n",
       "    .dataframe thead th {\n",
       "        text-align: right;\n",
       "    }\n",
       "</style>\n",
       "<table border=\"1\" class=\"dataframe\">\n",
       "  <thead>\n",
       "    <tr style=\"text-align: right;\">\n",
       "      <th></th>\n",
       "      <th>address</th>\n",
       "      <th>lat</th>\n",
       "      <th>long</th>\n",
       "    </tr>\n",
       "  </thead>\n",
       "  <tbody>\n",
       "    <tr>\n",
       "      <th>256</th>\n",
       "      <td>46 Old School Rd. Georgetown, GA 39854</td>\n",
       "      <td>31.885024</td>\n",
       "      <td>-85.100646</td>\n",
       "    </tr>\n",
       "  </tbody>\n",
       "</table>\n",
       "</div>"
      ],
      "text/plain": [
       "                                    address        lat       long\n",
       "256  46 Old School Rd. Georgetown, GA 39854  31.885024 -85.100646"
      ]
     },
     "execution_count": 20,
     "metadata": {},
     "output_type": "execute_result"
    }
   ],
   "source": [
    "weirdo"
   ]
  },
  {
   "cell_type": "code",
   "execution_count": 21,
   "id": "domestic-montgomery",
   "metadata": {},
   "outputs": [],
   "source": [
    "may_22_dropboxes = pd.concat([processed1,weirdo, arc1, geocodioft])"
   ]
  },
  {
   "cell_type": "raw",
   "id": "fitted-transport",
   "metadata": {},
   "source": [
    "may_22_dropboxes.to_csv('20220505_all_may_2022_dropboxes.csv')"
   ]
  },
  {
   "cell_type": "markdown",
   "id": "suburban-convertible",
   "metadata": {},
   "source": [
    "after loading onto arcGIS, we can see that while some addresses were phrased differently they're most likely the same places. using lat long to match "
   ]
  },
  {
   "cell_type": "code",
   "execution_count": 25,
   "id": "voluntary-assistant",
   "metadata": {},
   "outputs": [
    {
     "name": "stdout",
     "output_type": "stream",
     "text": [
      "<class 'pandas.core.frame.DataFrame'>\n",
      "RangeIndex: 257 entries, 0 to 256\n",
      "Data columns (total 4 columns):\n",
      " #   Column      Non-Null Count  Dtype  \n",
      "---  ------      --------------  -----  \n",
      " 0   Unnamed: 0  257 non-null    int64  \n",
      " 1   address     257 non-null    object \n",
      " 2   lat         257 non-null    float64\n",
      " 3   long        257 non-null    float64\n",
      "dtypes: float64(2), int64(1), object(1)\n",
      "memory usage: 8.2+ KB\n"
     ]
    }
   ],
   "source": [
    "jan_21.info()"
   ]
  },
  {
   "cell_type": "code",
   "execution_count": 26,
   "id": "lonely-burlington",
   "metadata": {},
   "outputs": [],
   "source": [
    "may_22_dropboxes.lat = may_22_dropboxes.lat.astype('float')\n",
    "may_22_dropboxes.long = may_22_dropboxes.long.astype('float')"
   ]
  },
  {
   "cell_type": "code",
   "execution_count": 27,
   "id": "reported-techno",
   "metadata": {},
   "outputs": [],
   "source": [
    "may_22_dropboxes['in_2022'] = True\n",
    "jan_21['in_2021'] = True"
   ]
  },
  {
   "cell_type": "code",
   "execution_count": 28,
   "id": "tight-savage",
   "metadata": {},
   "outputs": [],
   "source": [
    "may_22_dropboxes.lat = [round(x, 6) for x in may_22_dropboxes.lat]\n",
    "may_22_dropboxes.long = [round(x, 6) for x in may_22_dropboxes.long]"
   ]
  },
  {
   "cell_type": "code",
   "execution_count": 29,
   "id": "minor-module",
   "metadata": {},
   "outputs": [],
   "source": [
    "jan_21.lat = [round(x, 6) for x in jan_21.lat]\n",
    "jan_21.long = [round(x, 6) for x in jan_21.long]"
   ]
  },
  {
   "cell_type": "code",
   "execution_count": 30,
   "id": "hourly-attachment",
   "metadata": {},
   "outputs": [],
   "source": [
    "combine = pd.merge(may_22_dropboxes, jan_21, on = ['lat','long'], how = 'outer')"
   ]
  },
  {
   "cell_type": "raw",
   "id": "twenty-payment",
   "metadata": {
    "scrolled": true
   },
   "source": [
    "combine.to_csv('20220505_dropboxes_unified.csv')"
   ]
  },
  {
   "cell_type": "markdown",
   "id": "substantial-dealing",
   "metadata": {},
   "source": [
    "20220506 comparing 2020 addresses from SOS with 2020 addresses from the drop box forms. <br>"
   ]
  },
  {
   "cell_type": "code",
   "execution_count": 31,
   "id": "bored-blake",
   "metadata": {},
   "outputs": [],
   "source": [
    "import usaddress"
   ]
  },
  {
   "cell_type": "code",
   "execution_count": 32,
   "id": "prompt-plain",
   "metadata": {},
   "outputs": [],
   "source": [
    "formaddr = pd.read_excel('20220505_Drop Box Address Data Cleaned.xlsx','2020')"
   ]
  },
  {
   "cell_type": "code",
   "execution_count": 33,
   "id": "noble-drove",
   "metadata": {},
   "outputs": [
    {
     "data": {
      "text/html": [
       "<div>\n",
       "<style scoped>\n",
       "    .dataframe tbody tr th:only-of-type {\n",
       "        vertical-align: middle;\n",
       "    }\n",
       "\n",
       "    .dataframe tbody tr th {\n",
       "        vertical-align: top;\n",
       "    }\n",
       "\n",
       "    .dataframe thead th {\n",
       "        text-align: right;\n",
       "    }\n",
       "</style>\n",
       "<table border=\"1\" class=\"dataframe\">\n",
       "  <thead>\n",
       "    <tr style=\"text-align: right;\">\n",
       "      <th></th>\n",
       "      <th>County</th>\n",
       "      <th>Dropbox</th>\n",
       "      <th>Address</th>\n",
       "      <th>lat</th>\n",
       "      <th>long</th>\n",
       "    </tr>\n",
       "  </thead>\n",
       "  <tbody>\n",
       "    <tr>\n",
       "      <th>0</th>\n",
       "      <td>Appling County</td>\n",
       "      <td>Appling County Administrative Office</td>\n",
       "      <td>69 TIPPINS ST, BAXLEY GA 31513</td>\n",
       "      <td>NaN</td>\n",
       "      <td>NaN</td>\n",
       "    </tr>\n",
       "    <tr>\n",
       "      <th>1</th>\n",
       "      <td>Appling County</td>\n",
       "      <td>Appling County Elections Office</td>\n",
       "      <td>83 Oak St, Baxley, GA 31513</td>\n",
       "      <td>NaN</td>\n",
       "      <td>NaN</td>\n",
       "    </tr>\n",
       "    <tr>\n",
       "      <th>2</th>\n",
       "      <td>Atkinson County</td>\n",
       "      <td>Atkinson County Elections Office</td>\n",
       "      <td>664 Austin Avenue East, Pearson, GA 31642</td>\n",
       "      <td>NaN</td>\n",
       "      <td>NaN</td>\n",
       "    </tr>\n",
       "    <tr>\n",
       "      <th>3</th>\n",
       "      <td>Bacon County</td>\n",
       "      <td>Bacon County Elections Office</td>\n",
       "      <td>232 West 12th Street, Alma, GA 31510</td>\n",
       "      <td>NaN</td>\n",
       "      <td>NaN</td>\n",
       "    </tr>\n",
       "    <tr>\n",
       "      <th>4</th>\n",
       "      <td>Baker County</td>\n",
       "      <td>Baker County Courthouse</td>\n",
       "      <td>167 Baker Place, Newton, GA 39870</td>\n",
       "      <td>NaN</td>\n",
       "      <td>NaN</td>\n",
       "    </tr>\n",
       "  </tbody>\n",
       "</table>\n",
       "</div>"
      ],
      "text/plain": [
       "            County                               Dropbox  \\\n",
       "0   Appling County  Appling County Administrative Office   \n",
       "1   Appling County       Appling County Elections Office   \n",
       "2  Atkinson County      Atkinson County Elections Office   \n",
       "3     Bacon County         Bacon County Elections Office   \n",
       "4     Baker County               Baker County Courthouse   \n",
       "\n",
       "                                     Address  lat  long  \n",
       "0             69 TIPPINS ST, BAXLEY GA 31513  NaN   NaN  \n",
       "1                83 Oak St, Baxley, GA 31513  NaN   NaN  \n",
       "2  664 Austin Avenue East, Pearson, GA 31642  NaN   NaN  \n",
       "3       232 West 12th Street, Alma, GA 31510  NaN   NaN  \n",
       "4          167 Baker Place, Newton, GA 39870  NaN   NaN  "
      ]
     },
     "execution_count": 33,
     "metadata": {},
     "output_type": "execute_result"
    }
   ],
   "source": [
    "formaddr.head()"
   ]
  },
  {
   "cell_type": "code",
   "execution_count": 34,
   "id": "liked-prairie",
   "metadata": {},
   "outputs": [],
   "source": [
    "formaddr1 = formaddr[['Address']].copy()\n",
    "formaddr1 = formaddr1.rename(columns = {'Address':'addr_jan_21_form'})"
   ]
  },
  {
   "cell_type": "code",
   "execution_count": 35,
   "id": "third-humanity",
   "metadata": {},
   "outputs": [],
   "source": [
    "formaddr1.addr_jan_21_form = formaddr1.addr_jan_21_form.str.replace(' GA ',', GA ')"
   ]
  },
  {
   "cell_type": "code",
   "execution_count": 36,
   "id": "blond-parcel",
   "metadata": {},
   "outputs": [],
   "source": [
    "formaddr['parsed'] = [str(usaddress.parse(x)) for x in formaddr.Address]\n",
    "formaddr.parsed = formaddr.parsed.str.upper()"
   ]
  },
  {
   "cell_type": "code",
   "execution_count": 37,
   "id": "disciplinary-chase",
   "metadata": {},
   "outputs": [],
   "source": [
    "combine = combine.rename(columns = {'address_x':'address_may_22',\n",
    "                                   'address_y':'address_jan_21'})"
   ]
  },
  {
   "cell_type": "code",
   "execution_count": 38,
   "id": "imposed-melbourne",
   "metadata": {},
   "outputs": [],
   "source": [
    "combine['parsed'] = [str(usaddress.parse(x)) if pd.isna(x) == False else x for x in combine.address_jan_21]\n",
    "combine.parsed = combine.parsed.str.upper()"
   ]
  },
  {
   "cell_type": "code",
   "execution_count": 39,
   "id": "fitting-banner",
   "metadata": {},
   "outputs": [],
   "source": [
    "combine1 = pd.merge(combine, formaddr, on ='parsed', how = 'outer')"
   ]
  },
  {
   "cell_type": "code",
   "execution_count": 40,
   "id": "balanced-handle",
   "metadata": {},
   "outputs": [
    {
     "data": {
      "text/html": [
       "<div>\n",
       "<style scoped>\n",
       "    .dataframe tbody tr th:only-of-type {\n",
       "        vertical-align: middle;\n",
       "    }\n",
       "\n",
       "    .dataframe tbody tr th {\n",
       "        vertical-align: top;\n",
       "    }\n",
       "\n",
       "    .dataframe thead th {\n",
       "        text-align: right;\n",
       "    }\n",
       "</style>\n",
       "<table border=\"1\" class=\"dataframe\">\n",
       "  <thead>\n",
       "    <tr style=\"text-align: right;\">\n",
       "      <th></th>\n",
       "      <th>address_may_22</th>\n",
       "      <th>lat_x</th>\n",
       "      <th>long_x</th>\n",
       "      <th>in_2022</th>\n",
       "      <th>Unnamed: 0</th>\n",
       "      <th>address_jan_21</th>\n",
       "      <th>in_2021</th>\n",
       "      <th>parsed</th>\n",
       "      <th>County</th>\n",
       "      <th>Dropbox</th>\n",
       "      <th>Address</th>\n",
       "      <th>lat_y</th>\n",
       "      <th>long_y</th>\n",
       "    </tr>\n",
       "  </thead>\n",
       "  <tbody>\n",
       "    <tr>\n",
       "      <th>0</th>\n",
       "      <td>5238 Evitt St. Ringgold, GA 30736</td>\n",
       "      <td>34.915487</td>\n",
       "      <td>-85.106602</td>\n",
       "      <td>True</td>\n",
       "      <td>22.0</td>\n",
       "      <td>5238 Evitt St. Ringgold, GA 30736</td>\n",
       "      <td>True</td>\n",
       "      <td>[('5238', 'ADDRESSNUMBER'), ('EVITT', 'STREETN...</td>\n",
       "      <td>Catoosa County</td>\n",
       "      <td>Ringgold Voting Precinct (Freedom Center)</td>\n",
       "      <td>5238 Evitt St. Ringgold, GA 30736</td>\n",
       "      <td>NaN</td>\n",
       "      <td>NaN</td>\n",
       "    </tr>\n",
       "    <tr>\n",
       "      <th>1</th>\n",
       "      <td>1201 Sawnee Drive, Cumming, GA 30040</td>\n",
       "      <td>34.223824</td>\n",
       "      <td>-84.139148</td>\n",
       "      <td>True</td>\n",
       "      <td>105.0</td>\n",
       "      <td>1201 Sawnee Drive, Cumming, GA 30040</td>\n",
       "      <td>True</td>\n",
       "      <td>[('1201', 'ADDRESSNUMBER'), ('SAWNEE', 'STREET...</td>\n",
       "      <td>Forsyth County</td>\n",
       "      <td>Forsyth County Elections Office</td>\n",
       "      <td>1201 Sawnee Drive, Cumming, GA 30040</td>\n",
       "      <td>NaN</td>\n",
       "      <td>NaN</td>\n",
       "    </tr>\n",
       "    <tr>\n",
       "      <th>2</th>\n",
       "      <td>2808 N Oak St, Valdosta, GA 31602</td>\n",
       "      <td>30.869999</td>\n",
       "      <td>-83.292707</td>\n",
       "      <td>True</td>\n",
       "      <td>194.0</td>\n",
       "      <td>2808 N Oak St, Valdosta, GA 31602</td>\n",
       "      <td>True</td>\n",
       "      <td>[('2808', 'ADDRESSNUMBER'), ('N', 'STREETNAMEP...</td>\n",
       "      <td>Lowndes County</td>\n",
       "      <td>Lowndes County Elections Office</td>\n",
       "      <td>2808 N Oak St, Valdosta, GA 31602</td>\n",
       "      <td>NaN</td>\n",
       "      <td>NaN</td>\n",
       "    </tr>\n",
       "    <tr>\n",
       "      <th>3</th>\n",
       "      <td>56 Short Street, Dahlonega, GA 30533</td>\n",
       "      <td>34.535023</td>\n",
       "      <td>-83.981607</td>\n",
       "      <td>True</td>\n",
       "      <td>195.0</td>\n",
       "      <td>56 Short Street, Dahlonega, GA 30533</td>\n",
       "      <td>True</td>\n",
       "      <td>[('56', 'ADDRESSNUMBER'), ('SHORT', 'STREETNAM...</td>\n",
       "      <td>Lumpkin County</td>\n",
       "      <td>Lumpkin County Elections Office</td>\n",
       "      <td>56 Short Street, Dahlonega, GA 30533</td>\n",
       "      <td>NaN</td>\n",
       "      <td>NaN</td>\n",
       "    </tr>\n",
       "    <tr>\n",
       "      <th>4</th>\n",
       "      <td>167 Baker Place, Newton, GA 39870</td>\n",
       "      <td>31.317829</td>\n",
       "      <td>-84.342261</td>\n",
       "      <td>True</td>\n",
       "      <td>0.0</td>\n",
       "      <td>167 Baker Place, Newton, GA 39870</td>\n",
       "      <td>True</td>\n",
       "      <td>[('167', 'ADDRESSNUMBER'), ('BAKER', 'STREETNA...</td>\n",
       "      <td>Baker County</td>\n",
       "      <td>Baker County Courthouse</td>\n",
       "      <td>167 Baker Place, Newton, GA 39870</td>\n",
       "      <td>NaN</td>\n",
       "      <td>NaN</td>\n",
       "    </tr>\n",
       "  </tbody>\n",
       "</table>\n",
       "</div>"
      ],
      "text/plain": [
       "                         address_may_22      lat_x     long_x in_2022  \\\n",
       "0     5238 Evitt St. Ringgold, GA 30736  34.915487 -85.106602    True   \n",
       "1  1201 Sawnee Drive, Cumming, GA 30040  34.223824 -84.139148    True   \n",
       "2     2808 N Oak St, Valdosta, GA 31602  30.869999 -83.292707    True   \n",
       "3  56 Short Street, Dahlonega, GA 30533  34.535023 -83.981607    True   \n",
       "4     167 Baker Place, Newton, GA 39870  31.317829 -84.342261    True   \n",
       "\n",
       "   Unnamed: 0                        address_jan_21 in_2021  \\\n",
       "0        22.0     5238 Evitt St. Ringgold, GA 30736    True   \n",
       "1       105.0  1201 Sawnee Drive, Cumming, GA 30040    True   \n",
       "2       194.0     2808 N Oak St, Valdosta, GA 31602    True   \n",
       "3       195.0  56 Short Street, Dahlonega, GA 30533    True   \n",
       "4         0.0     167 Baker Place, Newton, GA 39870    True   \n",
       "\n",
       "                                              parsed          County  \\\n",
       "0  [('5238', 'ADDRESSNUMBER'), ('EVITT', 'STREETN...  Catoosa County   \n",
       "1  [('1201', 'ADDRESSNUMBER'), ('SAWNEE', 'STREET...  Forsyth County   \n",
       "2  [('2808', 'ADDRESSNUMBER'), ('N', 'STREETNAMEP...  Lowndes County   \n",
       "3  [('56', 'ADDRESSNUMBER'), ('SHORT', 'STREETNAM...  Lumpkin County   \n",
       "4  [('167', 'ADDRESSNUMBER'), ('BAKER', 'STREETNA...    Baker County   \n",
       "\n",
       "                                     Dropbox  \\\n",
       "0  Ringgold Voting Precinct (Freedom Center)   \n",
       "1            Forsyth County Elections Office   \n",
       "2           Lowndes County Elections Office    \n",
       "3            Lumpkin County Elections Office   \n",
       "4                    Baker County Courthouse   \n",
       "\n",
       "                                Address  lat_y  long_y  \n",
       "0     5238 Evitt St. Ringgold, GA 30736    NaN     NaN  \n",
       "1  1201 Sawnee Drive, Cumming, GA 30040    NaN     NaN  \n",
       "2     2808 N Oak St, Valdosta, GA 31602    NaN     NaN  \n",
       "3  56 Short Street, Dahlonega, GA 30533    NaN     NaN  \n",
       "4     167 Baker Place, Newton, GA 39870    NaN     NaN  "
      ]
     },
     "execution_count": 40,
     "metadata": {},
     "output_type": "execute_result"
    }
   ],
   "source": [
    "combine1[(pd.isna(combine1.address_jan_21) == False) & (pd.isna(combine1.Address) == False)].head()"
   ]
  },
  {
   "cell_type": "raw",
   "id": "round-mechanism",
   "metadata": {},
   "source": [
    "combine1[(pd.isna(combine1.address_jan_21) == True) & (pd.isna(combine1.Address) == False)][['Address']].to_csv('20220506_form_address_to_geocode.csv')"
   ]
  },
  {
   "cell_type": "raw",
   "id": "careful-sperm",
   "metadata": {},
   "source": [
    "combine1.to_csv('20220506_temp.csv')"
   ]
  },
  {
   "cell_type": "code",
   "execution_count": 41,
   "id": "streaming-words",
   "metadata": {},
   "outputs": [],
   "source": [
    "form1 = combine1[(pd.isna(combine1.address_jan_21) == False) & (pd.isna(combine1.Address) == False)][['Address','lat_x','long_x']].copy()\n",
    "form1.columns = ['nov_2020_form_address', 'lat','long']"
   ]
  },
  {
   "cell_type": "code",
   "execution_count": 42,
   "id": "experimental-london",
   "metadata": {},
   "outputs": [],
   "source": [
    "# geocodio results\n",
    "form2raw = pd.read_csv('20220506_form_address_to_geocode_geocodio_e7cbf25300388ad11b1ee8e30a777d269e8db6fa.csv')"
   ]
  },
  {
   "cell_type": "code",
   "execution_count": 43,
   "id": "neither-canon",
   "metadata": {},
   "outputs": [],
   "source": [
    "form2 = form2raw[(form2raw['Accuracy Type'] == 'rooftop') | (form2raw['Accuracy Type'] == 'range_interpolation')][['Address','Latitude','Longitude']].copy()\n",
    "form2.columns = ['nov_2020_form_address','lat','long']"
   ]
  },
  {
   "cell_type": "code",
   "execution_count": 44,
   "id": "stuffed-bones",
   "metadata": {},
   "outputs": [],
   "source": [
    "form3raw = pd.read_excel('20220506_form_addr_arc_results1_TableToExcel.xlsx')"
   ]
  },
  {
   "cell_type": "code",
   "execution_count": 45,
   "id": "fifteen-payment",
   "metadata": {
    "scrolled": true
   },
   "outputs": [],
   "source": [
    "form3 = form3raw[form3raw.Score >=90][['address','X','Y']].copy()"
   ]
  },
  {
   "cell_type": "code",
   "execution_count": 46,
   "id": "logical-dynamics",
   "metadata": {},
   "outputs": [],
   "source": [
    "form3.columns = ['nov_2020_form_address','long','lat']"
   ]
  },
  {
   "cell_type": "code",
   "execution_count": 47,
   "id": "pediatric-cheat",
   "metadata": {},
   "outputs": [],
   "source": [
    "form4raw = pd.read_csv('20220506_form_addr_to_fix_geocodio_1d143ee42d222d5fab8ac1b9b34785af034fbc75.csv')"
   ]
  },
  {
   "cell_type": "code",
   "execution_count": 48,
   "id": "beginning-racing",
   "metadata": {},
   "outputs": [],
   "source": [
    "form4 = form4raw[form4raw['Accuracy Score']>= .9][['adjust_address','Latitude','Longitude']].copy()"
   ]
  },
  {
   "cell_type": "code",
   "execution_count": 49,
   "id": "selected-radio",
   "metadata": {},
   "outputs": [],
   "source": [
    "form4.columns = ['nov_2020_form_address','lat','long']"
   ]
  },
  {
   "cell_type": "code",
   "execution_count": 50,
   "id": "deadly-martial",
   "metadata": {},
   "outputs": [],
   "source": [
    "form5raw = pd.read_excel('c20220506_form_addr_to_arc_r_TableToExcel.xlsx')"
   ]
  },
  {
   "cell_type": "code",
   "execution_count": 52,
   "id": "breathing-detection",
   "metadata": {},
   "outputs": [],
   "source": [
    "form5 = form5raw[['adjust_address','X','Y']].copy()"
   ]
  },
  {
   "cell_type": "code",
   "execution_count": 53,
   "id": "patent-thermal",
   "metadata": {},
   "outputs": [],
   "source": [
    "form5.columns = ['nov_2020_form_address','long','lat']"
   ]
  },
  {
   "cell_type": "code",
   "execution_count": 54,
   "id": "impressive-seattle",
   "metadata": {},
   "outputs": [],
   "source": [
    "allforms = pd.concat([form1,form2,form3,form4,form5])"
   ]
  },
  {
   "cell_type": "code",
   "execution_count": 55,
   "id": "center-smile",
   "metadata": {},
   "outputs": [],
   "source": [
    "# eyeballing to check if all the dec 2020 were incorporated\n",
    "formaddr1 = pd.merge(formaddr, allforms, left_on = 'Address', right_on = 'nov_2020_form_address', how = 'outer')"
   ]
  },
  {
   "cell_type": "code",
   "execution_count": 56,
   "id": "active-share",
   "metadata": {},
   "outputs": [
    {
     "name": "stdout",
     "output_type": "stream",
     "text": [
      "<class 'pandas.core.frame.DataFrame'>\n",
      "RangeIndex: 297 entries, 0 to 296\n",
      "Data columns (total 6 columns):\n",
      " #   Column   Non-Null Count  Dtype  \n",
      "---  ------   --------------  -----  \n",
      " 0   County   297 non-null    object \n",
      " 1   Dropbox  297 non-null    object \n",
      " 2   Address  297 non-null    object \n",
      " 3   lat      0 non-null      float64\n",
      " 4   long     0 non-null      float64\n",
      " 5   parsed   297 non-null    object \n",
      "dtypes: float64(2), object(4)\n",
      "memory usage: 14.0+ KB\n"
     ]
    }
   ],
   "source": [
    "formaddr.info()"
   ]
  },
  {
   "cell_type": "raw",
   "id": "handled-wages",
   "metadata": {},
   "source": [
    "formaddr1.to_csv('20220506_jan_21_old_adjust_addr_record.csv')"
   ]
  },
  {
   "cell_type": "code",
   "execution_count": 57,
   "id": "future-accommodation",
   "metadata": {},
   "outputs": [],
   "source": [
    "# adding this address back in\n",
    "weirdo1 = weirdo.rename(columns = {'address':'nov_2020_form_address'})"
   ]
  },
  {
   "cell_type": "code",
   "execution_count": 58,
   "id": "dense-given",
   "metadata": {},
   "outputs": [],
   "source": [
    "allforms = allforms.append(weirdo1)"
   ]
  },
  {
   "cell_type": "code",
   "execution_count": 59,
   "id": "numerous-garage",
   "metadata": {},
   "outputs": [],
   "source": [
    "allforms['in_nov_2020'] = True"
   ]
  },
  {
   "cell_type": "code",
   "execution_count": 60,
   "id": "buried-funeral",
   "metadata": {
    "scrolled": true
   },
   "outputs": [
    {
     "name": "stdout",
     "output_type": "stream",
     "text": [
      "<class 'pandas.core.frame.DataFrame'>\n",
      "Int64Index: 297 entries, 0 to 256\n",
      "Data columns (total 4 columns):\n",
      " #   Column                 Non-Null Count  Dtype  \n",
      "---  ------                 --------------  -----  \n",
      " 0   nov_2020_form_address  297 non-null    object \n",
      " 1   lat                    297 non-null    float64\n",
      " 2   long                   297 non-null    float64\n",
      " 3   in_nov_2020            297 non-null    bool   \n",
      "dtypes: bool(1), float64(2), object(1)\n",
      "memory usage: 9.6+ KB\n"
     ]
    }
   ],
   "source": [
    "allforms.info()"
   ]
  },
  {
   "cell_type": "code",
   "execution_count": 61,
   "id": "overhead-march",
   "metadata": {},
   "outputs": [],
   "source": [
    "# combining the 20220505_dropboxes_unified with allforms\n",
    "combine = combine.drop(['Unnamed: 0','parsed'], axis = 1)"
   ]
  },
  {
   "cell_type": "code",
   "execution_count": 62,
   "id": "crucial-civilian",
   "metadata": {},
   "outputs": [],
   "source": [
    "allforms.lat = [round(x, 6) for x in allforms.lat]\n",
    "allforms.long = [round(x,6) for x in allforms.long]"
   ]
  },
  {
   "cell_type": "code",
   "execution_count": 63,
   "id": "sustainable-class",
   "metadata": {},
   "outputs": [],
   "source": [
    "allforms = allforms.drop_duplicates()"
   ]
  },
  {
   "cell_type": "code",
   "execution_count": 64,
   "id": "expanded-simple",
   "metadata": {},
   "outputs": [],
   "source": [
    "combine = combine.drop_duplicates()"
   ]
  },
  {
   "cell_type": "code",
   "execution_count": 65,
   "id": "pressed-wiring",
   "metadata": {},
   "outputs": [],
   "source": [
    "combine2 = pd.merge(combine, allforms, on = ['lat','long'], how = 'outer')"
   ]
  },
  {
   "cell_type": "code",
   "execution_count": 68,
   "id": "coordinate-improvement",
   "metadata": {},
   "outputs": [],
   "source": [
    "combine2 = combine2.drop_duplicates()"
   ]
  },
  {
   "cell_type": "code",
   "execution_count": 69,
   "id": "systematic-committee",
   "metadata": {},
   "outputs": [],
   "source": [
    "combine2.to_csv('20220519_jan_21_jan_21_may_22_unified.csv')"
   ]
  },
  {
   "cell_type": "markdown",
   "id": "oriental-strength",
   "metadata": {},
   "source": [
    "Manually strike out the ones eyeballed to be very close, and determined to be the same location geocoded twice because the addresses wee written slightly differently"
   ]
  }
 ],
 "metadata": {
  "kernelspec": {
   "display_name": "Python 3",
   "language": "python",
   "name": "python3"
  },
  "language_info": {
   "codemirror_mode": {
    "name": "ipython",
    "version": 3
   },
   "file_extension": ".py",
   "mimetype": "text/x-python",
   "name": "python",
   "nbconvert_exporter": "python",
   "pygments_lexer": "ipython3",
   "version": "3.6.12"
  }
 },
 "nbformat": 4,
 "nbformat_minor": 5
}
